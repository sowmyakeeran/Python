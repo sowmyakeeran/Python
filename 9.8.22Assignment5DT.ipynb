{
 "cells": [
  {
   "cell_type": "markdown",
   "id": "75f8491d",
   "metadata": {},
   "source": [
    "   9.8.22                                  DECISION TREE (REGRESSION)"
   ]
  },
  {
   "cell_type": "markdown",
   "id": "d1d4a7bd",
   "metadata": {},
   "source": [
    " STEP1: Importing the Libraies"
   ]
  },
  {
   "cell_type": "code",
   "execution_count": 1,
   "id": "edbca88f",
   "metadata": {},
   "outputs": [],
   "source": [
    "import numpy as np\n",
    "import matplotlib.pyplot as plt\n",
    "import pandas as pd\n"
   ]
  },
  {
   "cell_type": "markdown",
   "id": "c4aae3cc",
   "metadata": {},
   "source": [
    "STEP2: Loding the Dataset"
   ]
  },
  {
   "cell_type": "code",
   "execution_count": 2,
   "id": "a8ed115c",
   "metadata": {},
   "outputs": [],
   "source": [
    "dataset = pd.read_csv('http://raw.githubusercontent.com/RamishaRaniK/dataset/main/insurance_pre.csv')"
   ]
  },
  {
   "cell_type": "code",
   "execution_count": 3,
   "id": "8f032bc3",
   "metadata": {},
   "outputs": [
    {
     "data": {
      "text/html": [
       "<div>\n",
       "<style scoped>\n",
       "    .dataframe tbody tr th:only-of-type {\n",
       "        vertical-align: middle;\n",
       "    }\n",
       "\n",
       "    .dataframe tbody tr th {\n",
       "        vertical-align: top;\n",
       "    }\n",
       "\n",
       "    .dataframe thead th {\n",
       "        text-align: right;\n",
       "    }\n",
       "</style>\n",
       "<table border=\"1\" class=\"dataframe\">\n",
       "  <thead>\n",
       "    <tr style=\"text-align: right;\">\n",
       "      <th></th>\n",
       "      <th>age</th>\n",
       "      <th>sex</th>\n",
       "      <th>bmi</th>\n",
       "      <th>children</th>\n",
       "      <th>smoker</th>\n",
       "      <th>charges</th>\n",
       "    </tr>\n",
       "  </thead>\n",
       "  <tbody>\n",
       "    <tr>\n",
       "      <th>0</th>\n",
       "      <td>19</td>\n",
       "      <td>female</td>\n",
       "      <td>27.900</td>\n",
       "      <td>0</td>\n",
       "      <td>yes</td>\n",
       "      <td>16884.92400</td>\n",
       "    </tr>\n",
       "    <tr>\n",
       "      <th>1</th>\n",
       "      <td>18</td>\n",
       "      <td>male</td>\n",
       "      <td>33.770</td>\n",
       "      <td>1</td>\n",
       "      <td>no</td>\n",
       "      <td>1725.55230</td>\n",
       "    </tr>\n",
       "    <tr>\n",
       "      <th>2</th>\n",
       "      <td>28</td>\n",
       "      <td>male</td>\n",
       "      <td>33.000</td>\n",
       "      <td>3</td>\n",
       "      <td>no</td>\n",
       "      <td>4449.46200</td>\n",
       "    </tr>\n",
       "    <tr>\n",
       "      <th>3</th>\n",
       "      <td>33</td>\n",
       "      <td>male</td>\n",
       "      <td>22.705</td>\n",
       "      <td>0</td>\n",
       "      <td>no</td>\n",
       "      <td>21984.47061</td>\n",
       "    </tr>\n",
       "    <tr>\n",
       "      <th>4</th>\n",
       "      <td>32</td>\n",
       "      <td>male</td>\n",
       "      <td>28.880</td>\n",
       "      <td>0</td>\n",
       "      <td>no</td>\n",
       "      <td>3866.85520</td>\n",
       "    </tr>\n",
       "    <tr>\n",
       "      <th>...</th>\n",
       "      <td>...</td>\n",
       "      <td>...</td>\n",
       "      <td>...</td>\n",
       "      <td>...</td>\n",
       "      <td>...</td>\n",
       "      <td>...</td>\n",
       "    </tr>\n",
       "    <tr>\n",
       "      <th>1333</th>\n",
       "      <td>50</td>\n",
       "      <td>male</td>\n",
       "      <td>30.970</td>\n",
       "      <td>3</td>\n",
       "      <td>no</td>\n",
       "      <td>10600.54830</td>\n",
       "    </tr>\n",
       "    <tr>\n",
       "      <th>1334</th>\n",
       "      <td>18</td>\n",
       "      <td>female</td>\n",
       "      <td>31.920</td>\n",
       "      <td>0</td>\n",
       "      <td>no</td>\n",
       "      <td>2205.98080</td>\n",
       "    </tr>\n",
       "    <tr>\n",
       "      <th>1335</th>\n",
       "      <td>18</td>\n",
       "      <td>female</td>\n",
       "      <td>36.850</td>\n",
       "      <td>0</td>\n",
       "      <td>no</td>\n",
       "      <td>1629.83350</td>\n",
       "    </tr>\n",
       "    <tr>\n",
       "      <th>1336</th>\n",
       "      <td>21</td>\n",
       "      <td>female</td>\n",
       "      <td>25.800</td>\n",
       "      <td>0</td>\n",
       "      <td>no</td>\n",
       "      <td>2007.94500</td>\n",
       "    </tr>\n",
       "    <tr>\n",
       "      <th>1337</th>\n",
       "      <td>61</td>\n",
       "      <td>female</td>\n",
       "      <td>29.070</td>\n",
       "      <td>0</td>\n",
       "      <td>yes</td>\n",
       "      <td>29141.36030</td>\n",
       "    </tr>\n",
       "  </tbody>\n",
       "</table>\n",
       "<p>1338 rows × 6 columns</p>\n",
       "</div>"
      ],
      "text/plain": [
       "      age     sex     bmi  children smoker      charges\n",
       "0      19  female  27.900         0    yes  16884.92400\n",
       "1      18    male  33.770         1     no   1725.55230\n",
       "2      28    male  33.000         3     no   4449.46200\n",
       "3      33    male  22.705         0     no  21984.47061\n",
       "4      32    male  28.880         0     no   3866.85520\n",
       "...   ...     ...     ...       ...    ...          ...\n",
       "1333   50    male  30.970         3     no  10600.54830\n",
       "1334   18  female  31.920         0     no   2205.98080\n",
       "1335   18  female  36.850         0     no   1629.83350\n",
       "1336   21  female  25.800         0     no   2007.94500\n",
       "1337   61  female  29.070         0    yes  29141.36030\n",
       "\n",
       "[1338 rows x 6 columns]"
      ]
     },
     "execution_count": 3,
     "metadata": {},
     "output_type": "execute_result"
    }
   ],
   "source": [
    "dataset"
   ]
  },
  {
   "cell_type": "markdown",
   "id": "45eb33b5",
   "metadata": {},
   "source": [
    "STEP:3 get_dummies() TO CONVERT STRING DATA INTO BYTESTREAM(0'S &1'S)"
   ]
  },
  {
   "cell_type": "code",
   "execution_count": 4,
   "id": "9cdd1fad",
   "metadata": {},
   "outputs": [],
   "source": [
    "datasets=pd.get_dummies(dataset,drop_first=True)"
   ]
  },
  {
   "cell_type": "code",
   "execution_count": 5,
   "id": "0a82e72f",
   "metadata": {},
   "outputs": [
    {
     "data": {
      "text/html": [
       "<div>\n",
       "<style scoped>\n",
       "    .dataframe tbody tr th:only-of-type {\n",
       "        vertical-align: middle;\n",
       "    }\n",
       "\n",
       "    .dataframe tbody tr th {\n",
       "        vertical-align: top;\n",
       "    }\n",
       "\n",
       "    .dataframe thead th {\n",
       "        text-align: right;\n",
       "    }\n",
       "</style>\n",
       "<table border=\"1\" class=\"dataframe\">\n",
       "  <thead>\n",
       "    <tr style=\"text-align: right;\">\n",
       "      <th></th>\n",
       "      <th>age</th>\n",
       "      <th>bmi</th>\n",
       "      <th>children</th>\n",
       "      <th>charges</th>\n",
       "      <th>sex_male</th>\n",
       "      <th>smoker_yes</th>\n",
       "    </tr>\n",
       "  </thead>\n",
       "  <tbody>\n",
       "    <tr>\n",
       "      <th>0</th>\n",
       "      <td>19</td>\n",
       "      <td>27.900</td>\n",
       "      <td>0</td>\n",
       "      <td>16884.92400</td>\n",
       "      <td>0</td>\n",
       "      <td>1</td>\n",
       "    </tr>\n",
       "    <tr>\n",
       "      <th>1</th>\n",
       "      <td>18</td>\n",
       "      <td>33.770</td>\n",
       "      <td>1</td>\n",
       "      <td>1725.55230</td>\n",
       "      <td>1</td>\n",
       "      <td>0</td>\n",
       "    </tr>\n",
       "    <tr>\n",
       "      <th>2</th>\n",
       "      <td>28</td>\n",
       "      <td>33.000</td>\n",
       "      <td>3</td>\n",
       "      <td>4449.46200</td>\n",
       "      <td>1</td>\n",
       "      <td>0</td>\n",
       "    </tr>\n",
       "    <tr>\n",
       "      <th>3</th>\n",
       "      <td>33</td>\n",
       "      <td>22.705</td>\n",
       "      <td>0</td>\n",
       "      <td>21984.47061</td>\n",
       "      <td>1</td>\n",
       "      <td>0</td>\n",
       "    </tr>\n",
       "    <tr>\n",
       "      <th>4</th>\n",
       "      <td>32</td>\n",
       "      <td>28.880</td>\n",
       "      <td>0</td>\n",
       "      <td>3866.85520</td>\n",
       "      <td>1</td>\n",
       "      <td>0</td>\n",
       "    </tr>\n",
       "    <tr>\n",
       "      <th>...</th>\n",
       "      <td>...</td>\n",
       "      <td>...</td>\n",
       "      <td>...</td>\n",
       "      <td>...</td>\n",
       "      <td>...</td>\n",
       "      <td>...</td>\n",
       "    </tr>\n",
       "    <tr>\n",
       "      <th>1333</th>\n",
       "      <td>50</td>\n",
       "      <td>30.970</td>\n",
       "      <td>3</td>\n",
       "      <td>10600.54830</td>\n",
       "      <td>1</td>\n",
       "      <td>0</td>\n",
       "    </tr>\n",
       "    <tr>\n",
       "      <th>1334</th>\n",
       "      <td>18</td>\n",
       "      <td>31.920</td>\n",
       "      <td>0</td>\n",
       "      <td>2205.98080</td>\n",
       "      <td>0</td>\n",
       "      <td>0</td>\n",
       "    </tr>\n",
       "    <tr>\n",
       "      <th>1335</th>\n",
       "      <td>18</td>\n",
       "      <td>36.850</td>\n",
       "      <td>0</td>\n",
       "      <td>1629.83350</td>\n",
       "      <td>0</td>\n",
       "      <td>0</td>\n",
       "    </tr>\n",
       "    <tr>\n",
       "      <th>1336</th>\n",
       "      <td>21</td>\n",
       "      <td>25.800</td>\n",
       "      <td>0</td>\n",
       "      <td>2007.94500</td>\n",
       "      <td>0</td>\n",
       "      <td>0</td>\n",
       "    </tr>\n",
       "    <tr>\n",
       "      <th>1337</th>\n",
       "      <td>61</td>\n",
       "      <td>29.070</td>\n",
       "      <td>0</td>\n",
       "      <td>29141.36030</td>\n",
       "      <td>0</td>\n",
       "      <td>1</td>\n",
       "    </tr>\n",
       "  </tbody>\n",
       "</table>\n",
       "<p>1338 rows × 6 columns</p>\n",
       "</div>"
      ],
      "text/plain": [
       "      age     bmi  children      charges  sex_male  smoker_yes\n",
       "0      19  27.900         0  16884.92400         0           1\n",
       "1      18  33.770         1   1725.55230         1           0\n",
       "2      28  33.000         3   4449.46200         1           0\n",
       "3      33  22.705         0  21984.47061         1           0\n",
       "4      32  28.880         0   3866.85520         1           0\n",
       "...   ...     ...       ...          ...       ...         ...\n",
       "1333   50  30.970         3  10600.54830         1           0\n",
       "1334   18  31.920         0   2205.98080         0           0\n",
       "1335   18  36.850         0   1629.83350         0           0\n",
       "1336   21  25.800         0   2007.94500         0           0\n",
       "1337   61  29.070         0  29141.36030         0           1\n",
       "\n",
       "[1338 rows x 6 columns]"
      ]
     },
     "execution_count": 5,
     "metadata": {},
     "output_type": "execute_result"
    }
   ],
   "source": [
    "datasets"
   ]
  },
  {
   "cell_type": "code",
   "execution_count": 6,
   "id": "edda397d",
   "metadata": {},
   "outputs": [
    {
     "data": {
      "text/plain": [
       "Index(['age', 'bmi', 'children', 'charges', 'sex_male', 'smoker_yes'], dtype='object')"
      ]
     },
     "execution_count": 6,
     "metadata": {},
     "output_type": "execute_result"
    }
   ],
   "source": [
    "datasets.columns"
   ]
  },
  {
   "cell_type": "markdown",
   "id": "61a3f99d",
   "metadata": {},
   "source": [
    "STEP:4 ASSINGING INPUT AND OUTPUT DATA"
   ]
  },
  {
   "cell_type": "code",
   "execution_count": 7,
   "id": "16c6f5f5",
   "metadata": {},
   "outputs": [],
   "source": [
    "indep=datasets[['age','bmi','children','sex_male','smoker_yes']]\n",
    "dep=datasets[['charges']]"
   ]
  },
  {
   "cell_type": "code",
   "execution_count": 8,
   "id": "13cd6f3e",
   "metadata": {},
   "outputs": [
    {
     "data": {
      "text/html": [
       "<div>\n",
       "<style scoped>\n",
       "    .dataframe tbody tr th:only-of-type {\n",
       "        vertical-align: middle;\n",
       "    }\n",
       "\n",
       "    .dataframe tbody tr th {\n",
       "        vertical-align: top;\n",
       "    }\n",
       "\n",
       "    .dataframe thead th {\n",
       "        text-align: right;\n",
       "    }\n",
       "</style>\n",
       "<table border=\"1\" class=\"dataframe\">\n",
       "  <thead>\n",
       "    <tr style=\"text-align: right;\">\n",
       "      <th></th>\n",
       "      <th>age</th>\n",
       "      <th>bmi</th>\n",
       "      <th>children</th>\n",
       "      <th>sex_male</th>\n",
       "      <th>smoker_yes</th>\n",
       "    </tr>\n",
       "  </thead>\n",
       "  <tbody>\n",
       "    <tr>\n",
       "      <th>0</th>\n",
       "      <td>19</td>\n",
       "      <td>27.900</td>\n",
       "      <td>0</td>\n",
       "      <td>0</td>\n",
       "      <td>1</td>\n",
       "    </tr>\n",
       "    <tr>\n",
       "      <th>1</th>\n",
       "      <td>18</td>\n",
       "      <td>33.770</td>\n",
       "      <td>1</td>\n",
       "      <td>1</td>\n",
       "      <td>0</td>\n",
       "    </tr>\n",
       "    <tr>\n",
       "      <th>2</th>\n",
       "      <td>28</td>\n",
       "      <td>33.000</td>\n",
       "      <td>3</td>\n",
       "      <td>1</td>\n",
       "      <td>0</td>\n",
       "    </tr>\n",
       "    <tr>\n",
       "      <th>3</th>\n",
       "      <td>33</td>\n",
       "      <td>22.705</td>\n",
       "      <td>0</td>\n",
       "      <td>1</td>\n",
       "      <td>0</td>\n",
       "    </tr>\n",
       "    <tr>\n",
       "      <th>4</th>\n",
       "      <td>32</td>\n",
       "      <td>28.880</td>\n",
       "      <td>0</td>\n",
       "      <td>1</td>\n",
       "      <td>0</td>\n",
       "    </tr>\n",
       "    <tr>\n",
       "      <th>...</th>\n",
       "      <td>...</td>\n",
       "      <td>...</td>\n",
       "      <td>...</td>\n",
       "      <td>...</td>\n",
       "      <td>...</td>\n",
       "    </tr>\n",
       "    <tr>\n",
       "      <th>1333</th>\n",
       "      <td>50</td>\n",
       "      <td>30.970</td>\n",
       "      <td>3</td>\n",
       "      <td>1</td>\n",
       "      <td>0</td>\n",
       "    </tr>\n",
       "    <tr>\n",
       "      <th>1334</th>\n",
       "      <td>18</td>\n",
       "      <td>31.920</td>\n",
       "      <td>0</td>\n",
       "      <td>0</td>\n",
       "      <td>0</td>\n",
       "    </tr>\n",
       "    <tr>\n",
       "      <th>1335</th>\n",
       "      <td>18</td>\n",
       "      <td>36.850</td>\n",
       "      <td>0</td>\n",
       "      <td>0</td>\n",
       "      <td>0</td>\n",
       "    </tr>\n",
       "    <tr>\n",
       "      <th>1336</th>\n",
       "      <td>21</td>\n",
       "      <td>25.800</td>\n",
       "      <td>0</td>\n",
       "      <td>0</td>\n",
       "      <td>0</td>\n",
       "    </tr>\n",
       "    <tr>\n",
       "      <th>1337</th>\n",
       "      <td>61</td>\n",
       "      <td>29.070</td>\n",
       "      <td>0</td>\n",
       "      <td>0</td>\n",
       "      <td>1</td>\n",
       "    </tr>\n",
       "  </tbody>\n",
       "</table>\n",
       "<p>1338 rows × 5 columns</p>\n",
       "</div>"
      ],
      "text/plain": [
       "      age     bmi  children  sex_male  smoker_yes\n",
       "0      19  27.900         0         0           1\n",
       "1      18  33.770         1         1           0\n",
       "2      28  33.000         3         1           0\n",
       "3      33  22.705         0         1           0\n",
       "4      32  28.880         0         1           0\n",
       "...   ...     ...       ...       ...         ...\n",
       "1333   50  30.970         3         1           0\n",
       "1334   18  31.920         0         0           0\n",
       "1335   18  36.850         0         0           0\n",
       "1336   21  25.800         0         0           0\n",
       "1337   61  29.070         0         0           1\n",
       "\n",
       "[1338 rows x 5 columns]"
      ]
     },
     "execution_count": 8,
     "metadata": {},
     "output_type": "execute_result"
    }
   ],
   "source": [
    "indep"
   ]
  },
  {
   "cell_type": "code",
   "execution_count": 9,
   "id": "daedfdd1",
   "metadata": {},
   "outputs": [
    {
     "data": {
      "text/html": [
       "<div>\n",
       "<style scoped>\n",
       "    .dataframe tbody tr th:only-of-type {\n",
       "        vertical-align: middle;\n",
       "    }\n",
       "\n",
       "    .dataframe tbody tr th {\n",
       "        vertical-align: top;\n",
       "    }\n",
       "\n",
       "    .dataframe thead th {\n",
       "        text-align: right;\n",
       "    }\n",
       "</style>\n",
       "<table border=\"1\" class=\"dataframe\">\n",
       "  <thead>\n",
       "    <tr style=\"text-align: right;\">\n",
       "      <th></th>\n",
       "      <th>charges</th>\n",
       "    </tr>\n",
       "  </thead>\n",
       "  <tbody>\n",
       "    <tr>\n",
       "      <th>0</th>\n",
       "      <td>16884.92400</td>\n",
       "    </tr>\n",
       "    <tr>\n",
       "      <th>1</th>\n",
       "      <td>1725.55230</td>\n",
       "    </tr>\n",
       "    <tr>\n",
       "      <th>2</th>\n",
       "      <td>4449.46200</td>\n",
       "    </tr>\n",
       "    <tr>\n",
       "      <th>3</th>\n",
       "      <td>21984.47061</td>\n",
       "    </tr>\n",
       "    <tr>\n",
       "      <th>4</th>\n",
       "      <td>3866.85520</td>\n",
       "    </tr>\n",
       "    <tr>\n",
       "      <th>...</th>\n",
       "      <td>...</td>\n",
       "    </tr>\n",
       "    <tr>\n",
       "      <th>1333</th>\n",
       "      <td>10600.54830</td>\n",
       "    </tr>\n",
       "    <tr>\n",
       "      <th>1334</th>\n",
       "      <td>2205.98080</td>\n",
       "    </tr>\n",
       "    <tr>\n",
       "      <th>1335</th>\n",
       "      <td>1629.83350</td>\n",
       "    </tr>\n",
       "    <tr>\n",
       "      <th>1336</th>\n",
       "      <td>2007.94500</td>\n",
       "    </tr>\n",
       "    <tr>\n",
       "      <th>1337</th>\n",
       "      <td>29141.36030</td>\n",
       "    </tr>\n",
       "  </tbody>\n",
       "</table>\n",
       "<p>1338 rows × 1 columns</p>\n",
       "</div>"
      ],
      "text/plain": [
       "          charges\n",
       "0     16884.92400\n",
       "1      1725.55230\n",
       "2      4449.46200\n",
       "3     21984.47061\n",
       "4      3866.85520\n",
       "...           ...\n",
       "1333  10600.54830\n",
       "1334   2205.98080\n",
       "1335   1629.83350\n",
       "1336   2007.94500\n",
       "1337  29141.36030\n",
       "\n",
       "[1338 rows x 1 columns]"
      ]
     },
     "execution_count": 9,
     "metadata": {},
     "output_type": "execute_result"
    }
   ],
   "source": [
    "dep"
   ]
  },
  {
   "cell_type": "markdown",
   "id": "9dcc723e",
   "metadata": {},
   "source": [
    "STEP: 5 SPLITING TRAIN/TEST DATA"
   ]
  },
  {
   "cell_type": "code",
   "execution_count": 10,
   "id": "52c5fada",
   "metadata": {},
   "outputs": [],
   "source": [
    "#spliting train /test set\n",
    "from sklearn.model_selection import train_test_split\n",
    "x_train,x_test,y_train,y_test=train_test_split(indep,dep,test_size=1/3,random_state=0)"
   ]
  },
  {
   "cell_type": "markdown",
   "id": "ac92f75a",
   "metadata": {},
   "source": [
    "#standization of  input dataset#(converting input datasets into some specific standards)"
   ]
  },
  {
   "cell_type": "code",
   "execution_count": 17,
   "id": "12337a9f",
   "metadata": {},
   "outputs": [],
   "source": [
    "from sklearn.preprocessing import StandardScaler\n",
    "sc = StandardScaler()\n",
    "x_train = sc.fit_transform(x_train)\n",
    "x_test = sc.transform(x_test)"
   ]
  },
  {
   "cell_type": "markdown",
   "id": "03d37e56",
   "metadata": {},
   "source": [
    " STEP:6  MODEL CREATION IN  DECISION TREE"
   ]
  },
  {
   "cell_type": "code",
   "execution_count": 18,
   "id": "f913c48d",
   "metadata": {},
   "outputs": [
    {
     "data": {
      "text/plain": [
       "DecisionTreeRegressor()"
      ]
     },
     "execution_count": 18,
     "metadata": {},
     "output_type": "execute_result"
    }
   ],
   "source": [
    "from sklearn.tree import DecisionTreeRegressor\n",
    "r=DecisionTreeRegressor()\n",
    "r.fit(x_train,y_train)"
   ]
  },
  {
   "cell_type": "markdown",
   "id": "484e1b34",
   "metadata": {},
   "source": [
    " STEP:7 PREDICTION"
   ]
  },
  {
   "cell_type": "code",
   "execution_count": 19,
   "id": "5a4a31bf",
   "metadata": {},
   "outputs": [],
   "source": [
    "y_pred=r.predict(x_test)"
   ]
  },
  {
   "cell_type": "code",
   "execution_count": 20,
   "id": "6c8fbd65",
   "metadata": {},
   "outputs": [
    {
     "data": {
      "text/plain": [
       "array([ 9748.9106  ,  8930.93455 , 44202.6536  , 13143.33665 ,\n",
       "        9264.797   , 21984.47061 ,  1615.7667  ,  8671.19125 ,\n",
       "        6313.759   ,  5253.524   ,  6184.2994  , 30284.64294 ,\n",
       "        7345.7266  ,  4992.3764  , 18246.4955  , 11015.1747  ,\n",
       "       12124.9924  ,  3292.52985 ,  6748.5912  , 34806.4677  ,\n",
       "       24869.8368  , 11987.1682  ,  9625.92    , 24915.22085 ,\n",
       "        1526.312   ,  4151.0287  ,  3558.62025 ,  7954.517   ,\n",
       "        3757.8448  ,  8116.26885 ,  7954.517   , 48673.5588  ,\n",
       "       13981.85035 , 10594.2257  , 15817.9857  ,  3554.203   ,\n",
       "        8733.22925 , 37133.8982  , 40103.89    ,  1880.07    ,\n",
       "       21984.47061 ,  2866.091   , 21082.16    , 44400.4064  ,\n",
       "       36307.7983  ,  2801.2588  , 11015.1747  ,  6272.4772  ,\n",
       "        4719.52405 , 11830.6072  ,  2473.3341  ,  2639.0429  ,\n",
       "       24915.22085 , 60021.39897 , 12235.8392  , 19673.33573 ,\n",
       "        3292.52985 ,  9617.66245 ,  7518.02535 , 12913.9924  ,\n",
       "        1252.407   , 46130.5265  , 14007.222   , 25333.33284 ,\n",
       "       19144.57652 ,  9875.6804  , 33900.653   , 39983.42595 ,\n",
       "        2913.569   , 15828.82173 , 24513.09126 , 10965.446   ,\n",
       "       16297.846   , 13981.85035 , 12629.8967  , 12233.828   ,\n",
       "        6250.435   ,  8116.26885 , 19539.243   , 46599.1084  ,\n",
       "       11286.5387  , 46113.511   ,  1526.312   ,  7147.4728  ,\n",
       "       41661.602   , 20984.0936  ,  3201.24515 ,  2727.3951  ,\n",
       "       12913.9924  , 39047.285   ,  6128.79745 , 10796.35025 ,\n",
       "        3201.24515 ,  8516.829   , 12404.8791  ,  4076.497   ,\n",
       "       41999.52    , 62592.87309 ,  4934.705   , 11090.7178  ,\n",
       "        1826.843   ,  5245.2269  ,  3956.07145 , 39047.285   ,\n",
       "       37829.7242  ,  3558.62025 , 11070.535   , 19673.33573 ,\n",
       "       11743.9341  , 45008.9555  , 12094.478   , 18963.17192 ,\n",
       "        8930.93455 , 34672.1472  , 47269.854   ,  6593.5083  ,\n",
       "        2221.56445 ,  9617.66245 , 27941.28758 ,  9225.2564  ,\n",
       "       40273.6455  , 10197.7722  , 14901.5167  ,  6128.79745 ,\n",
       "        7726.854   ,  4719.73655 , 38245.59327 , 35069.37452 ,\n",
       "       48673.5588  ,  1534.3045  ,  8520.026   ,  1980.07    ,\n",
       "        5974.3847  ,  8688.85885 , 62592.87309 , 37079.372   ,\n",
       "       21259.37795 , 10156.7832  , 21195.818   , 12609.88702 ,\n",
       "        1877.9294  , 10965.446   ,  8978.1851  , 10601.63225 ,\n",
       "       11737.84884 , 14901.5167  , 31620.00106 , 22395.74424 ,\n",
       "        1628.4709  , 10791.96    ,  5974.3847  , 38792.6856  ,\n",
       "        9288.0267  , 21344.8467  ,  3393.35635 ,  7050.642   ,\n",
       "        2719.27975 , 11272.33139 , 11015.1747  ,  9563.029   ,\n",
       "       19442.3535  , 13405.3903  , 12815.44495 ,  9048.0273  ,\n",
       "        3260.199   , 24671.66334 , 20167.33603 ,  5253.524   ,\n",
       "        4237.12655 ,  1634.5734  , 19442.3535  ,  4438.2634  ,\n",
       "        8520.026   ,  2416.955   , 18804.7524  , 24671.66334 ,\n",
       "        3847.674   ,  6123.5688  , 27218.43725 ,  1705.6245  ,\n",
       "       25992.82104 ,  6313.759   , 11743.9341  , 19673.33573 ,\n",
       "       11737.84884 , 29330.98315 ,  1526.312   ,  2585.269   ,\n",
       "       14901.5167  ,  9563.029   , 41919.097   ,  3877.30425 ,\n",
       "        4747.0529  , 23887.6627  ,  3292.52985 ,  3044.2133  ,\n",
       "        6311.952   ,  6128.79745 ,  3471.4096  ,  4454.40265 ,\n",
       "       10928.849   , 47055.5321  , 12949.1554  , 20745.9891  ,\n",
       "       19442.3535  , 42111.6647  ,  3309.7926  , 10564.8845  ,\n",
       "        5729.0053  ,  1146.7966  ,  8964.06055 , 13880.949   ,\n",
       "        5708.867   ,  2855.43755 ,  6289.7549  , 25081.76784 ,\n",
       "        6203.90175 ,  4766.022   , 14001.1338  ,  6686.4313  ,\n",
       "       24915.04626 ,  7985.815   , 21232.18226 ,  3176.8159  ,\n",
       "       20781.48892 , 14410.9321  , 30063.58055 , 11931.12525 ,\n",
       "        6985.50695 ,  2523.1695  , 21344.8467  ,  8083.9198  ,\n",
       "       21797.0004  , 24671.66334 ,  4779.6023  ,  7256.7231  ,\n",
       "        9447.25035 , 34806.4677  ,  5488.262   , 12094.478   ,\n",
       "        5028.1466  , 34303.1672  ,  8538.28845 ,  7421.19455 ,\n",
       "        7441.501   , 10085.846   ,  2304.0022  ,  7345.7266  ,\n",
       "        1515.3449  ,  6272.4772  , 19719.6947  , 47291.055   ,\n",
       "        3877.30425 ,  3201.24515 ,  1615.7667  ,  1704.70015 ,\n",
       "        7147.4728  ,  2211.13075 , 24671.66334 , 23288.9284  ,\n",
       "        8891.1395  , 24535.69855 , 46599.1084  , 15612.19335 ,\n",
       "        6289.7549  , 11566.30055 , 58571.07448 ,  9225.2564  ,\n",
       "       39983.42595 ,  1137.011   , 37484.4493  ,  4889.9995  ,\n",
       "       11946.6259  ,  3309.7926  , 39047.285   ,  5012.471   ,\n",
       "       10072.05505 ,  9225.2564  ,  2719.27975 , 12913.9924  ,\n",
       "       12224.35085 , 12404.8791  , 12146.971   , 21344.8467  ,\n",
       "        5488.262   ,  4466.6214  ,  7512.267   , 21880.82    ,\n",
       "        3292.52985 ,  1705.6245  ,  3077.0955  , 47896.79135 ,\n",
       "       26140.3603  ,  4149.736   , 12949.1554  , 10928.849   ,\n",
       "       34838.873   ,  6770.1925  ,  5373.36425 ,  9386.1613  ,\n",
       "        1639.5631  ,  3481.868   , 32734.1863  , 15817.9857  ,\n",
       "       13352.0998  ,  2523.1695  ,  2632.992   ,  9447.25035 ,\n",
       "       10564.8845  , 13747.87235 , 20745.9891  ,  4762.329   ,\n",
       "       15518.18025 ,  1621.8827  ,  5757.41345 , 12404.8791  ,\n",
       "        9095.06825 ,  3077.0955  ,  7421.19455 , 44202.6536  ,\n",
       "        3579.8287  ,  3956.07145 ,  1731.677   , 20878.78443 ,\n",
       "       19673.33573 , 11931.12525 , 47055.5321  , 18765.87545 ,\n",
       "        9288.0267  , 41949.2441  , 11987.1682  , 19442.3535  ,\n",
       "        9288.0267  ,  4466.6214  , 27533.9129  ,  4350.5144  ,\n",
       "       13415.0381  ,  2221.56445 , 15518.18025 ,  3176.8159  ,\n",
       "       24667.419   ,  5920.1041  ,  2842.76075 , 38792.6856  ,\n",
       "        5253.524   ,  5266.3656  , 27533.9129  ,  2203.73595 ,\n",
       "        7726.854   ,  2639.0429  , 10269.46    ,  3208.787   ,\n",
       "       11326.71487 ,  5253.524   , 43921.1837  ,  6250.435   ,\n",
       "       62592.87309 , 37484.4493  ,  5488.262   , 15828.82173 ,\n",
       "        1252.407   ,  3558.62025 ,  3056.3881  ,  8125.7845  ,\n",
       "       43813.8661  , 11830.6072  ,  1731.677   , 12124.9924  ,\n",
       "        2020.5523  , 17929.30337 ,  4438.2634  ,  2416.955   ,\n",
       "        2897.3235  , 36307.7983  ,  6985.50695 ,  2196.4732  ,\n",
       "       39774.2763  , 10601.63225 , 40941.2854  , 11931.12525 ,\n",
       "        4151.0287  ,  2775.19215 ,  1906.35825 , 25333.33284 ,\n",
       "        4747.0529  ,  2130.6759  , 10959.6947  ,  7281.5056  ,\n",
       "        5966.8874  ,  3877.30425 , 13126.67745 , 58571.07448 ,\n",
       "        1526.312   ,  8782.469   ,  7882.429475,  7443.64305 ,\n",
       "       11090.7178  ,  3766.8838  , 18223.4512  , 10594.2257  ,\n",
       "       16085.1275  , 14254.6082  ,  1615.7667  ,  6571.02435 ,\n",
       "       11411.685   ,  7421.19455 ,  5257.50795 ,  1743.214   ,\n",
       "       34439.8559  , 13143.33665 ,  7443.64305 , 13405.3903  ,\n",
       "        8671.19125 , 13047.33235 , 47896.79135 ,  3579.8287  ,\n",
       "        9704.66805 ,  1526.312   , 14007.222   ,  1534.3045  ,\n",
       "        7133.9025  ,  1634.5734  , 12235.8392  ,  4402.233   ,\n",
       "       12029.2867  , 41919.097   ,  5272.1758  , 33900.653   ,\n",
       "       18608.262   , 11566.30055 , 21232.18226 , 42112.2356  ,\n",
       "       20878.78443 ,  3353.284   ,  9048.0273  , 19798.05455 ,\n",
       "       39047.285   , 19719.6947  , 10106.13425 , 41661.602   ,\n",
       "        4661.28635 , 16450.8947  ,  3227.1211  , 34303.1672  ,\n",
       "       19442.3535  , 11538.421   ])"
      ]
     },
     "execution_count": 20,
     "metadata": {},
     "output_type": "execute_result"
    }
   ],
   "source": [
    "y_pred"
   ]
  },
  {
   "cell_type": "markdown",
   "id": "a3370c00",
   "metadata": {},
   "source": [
    " STEP:8 EVALUTION METRICS"
   ]
  },
  {
   "cell_type": "code",
   "execution_count": 21,
   "id": "0a933db3",
   "metadata": {},
   "outputs": [],
   "source": [
    "from sklearn.metrics import r2_score\n",
    "r_score=r2_score(y_test,y_pred)"
   ]
  },
  {
   "cell_type": "code",
   "execution_count": 22,
   "id": "49c12d4d",
   "metadata": {},
   "outputs": [
    {
     "data": {
      "text/plain": [
       "0.6936887738415325"
      ]
     },
     "execution_count": 22,
     "metadata": {},
     "output_type": "execute_result"
    }
   ],
   "source": [
    "r_score"
   ]
  },
  {
   "cell_type": "markdown",
   "id": "9f1e6b40",
   "metadata": {},
   "source": [
    "DECISION TREE REPRESENTATION MODEL"
   ]
  },
  {
   "cell_type": "code",
   "execution_count": null,
   "id": "cd29df44",
   "metadata": {},
   "outputs": [],
   "source": [
    "from sklearn import tree\n",
    "tree.plot_tree(r)\n",
    "plt.show()"
   ]
  },
  {
   "cell_type": "markdown",
   "id": "9c8de838",
   "metadata": {},
   "source": [
    " STEP:10 SAVE THE MODEL IF THE MODEL HAS GOOD R_SCORE VALUE"
   ]
  },
  {
   "cell_type": "code",
   "execution_count": null,
   "id": "bd55a298",
   "metadata": {},
   "outputs": [],
   "source": [
    "import pickle\n",
    "filename='decision_final.sav'\n",
    "pickle.dump(r,open(filename,\"wb\"))"
   ]
  },
  {
   "cell_type": "code",
   "execution_count": null,
   "id": "98018b92",
   "metadata": {},
   "outputs": [],
   "source": [
    "model=pickle.load(open(filename,\"rb\"))"
   ]
  },
  {
   "cell_type": "markdown",
   "id": "d2983ccd",
   "metadata": {},
   "source": [
    "MY MODEL PRODUCED POOR R2_SCORE VALUE"
   ]
  },
  {
   "cell_type": "code",
   "execution_count": null,
   "id": "06ae274c",
   "metadata": {},
   "outputs": [],
   "source": []
  },
  {
   "cell_type": "code",
   "execution_count": null,
   "id": "f402deb5",
   "metadata": {},
   "outputs": [],
   "source": [
    "\n"
   ]
  },
  {
   "cell_type": "code",
   "execution_count": null,
   "id": "ea49b6d5",
   "metadata": {},
   "outputs": [],
   "source": []
  },
  {
   "cell_type": "code",
   "execution_count": null,
   "id": "4a76efce",
   "metadata": {},
   "outputs": [],
   "source": []
  }
 ],
 "metadata": {
  "kernelspec": {
   "display_name": "Python 3 (ipykernel)",
   "language": "python",
   "name": "python3"
  },
  "language_info": {
   "codemirror_mode": {
    "name": "ipython",
    "version": 3
   },
   "file_extension": ".py",
   "mimetype": "text/x-python",
   "name": "python",
   "nbconvert_exporter": "python",
   "pygments_lexer": "ipython3",
   "version": "3.7.6"
  }
 },
 "nbformat": 4,
 "nbformat_minor": 5
}
