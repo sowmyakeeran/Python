{
 "cells": [
  {
   "cell_type": "markdown",
   "id": "8396797f",
   "metadata": {},
   "source": [
    "//greater than & less than //"
   ]
  },
  {
   "cell_type": "code",
   "execution_count": 8,
   "id": "0cce503f",
   "metadata": {},
   "outputs": [
    {
     "name": "stdout",
     "output_type": "stream",
     "text": [
      "45\n",
      "32\n",
      "a is greaterthan b: True\n",
      " a is lesserthan b: False\n"
     ]
    }
   ],
   "source": [
    "a=45\n",
    "b=32\n",
    "print(a)\n",
    "print(b)\n",
    "print(\"a is greaterthan b:\",a>b)\n",
    "print(\" a is lesserthan b:\",a<b)\n"
   ]
  },
  {
   "cell_type": "markdown",
   "id": "930270a0",
   "metadata": {},
   "source": [
    "//greater than or equalto lesser than or equal t0//\n"
   ]
  },
  {
   "cell_type": "code",
   "execution_count": 9,
   "id": "53e5724a",
   "metadata": {},
   "outputs": [
    {
     "name": "stdout",
     "output_type": "stream",
     "text": [
      "76\n",
      "66\n",
      "a is greaterthan or equal to b: True\n",
      "a is lesserthan or equal to b: False\n"
     ]
    }
   ],
   "source": [
    "a=76\n",
    "b=66\n",
    "print(a)\n",
    "print(b)\n",
    "print(\"a is greaterthan or equal to b:\",a>=b)\n",
    "print(\"a is lesserthan or equal to b:\",a<=b)\n"
   ]
  },
  {
   "cell_type": "code",
   "execution_count": null,
   "id": "f8d55c23",
   "metadata": {},
   "outputs": [],
   "source": []
  }
 ],
 "metadata": {
  "kernelspec": {
   "display_name": "Python 3 (ipykernel)",
   "language": "python",
   "name": "python3"
  },
  "language_info": {
   "codemirror_mode": {
    "name": "ipython",
    "version": 3
   },
   "file_extension": ".py",
   "mimetype": "text/x-python",
   "name": "python",
   "nbconvert_exporter": "python",
   "pygments_lexer": "ipython3",
   "version": "3.9.12"
  }
 },
 "nbformat": 4,
 "nbformat_minor": 5
}
