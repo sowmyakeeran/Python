{
 "cells": [
  {
   "cell_type": "code",
   "execution_count": 2,
   "id": "e8116a57",
   "metadata": {},
   "outputs": [
    {
     "name": "stdout",
     "output_type": "stream",
     "text": [
      "test\n"
     ]
    }
   ],
   "source": [
    "print('test')"
   ]
  },
  {
   "cell_type": "code",
   "execution_count": 1,
   "id": "189ce516",
   "metadata": {},
   "outputs": [
    {
     "name": "stdout",
     "output_type": "stream",
     "text": [
      "enter the age56\n",
      "citizen\n"
     ]
    }
   ],
   "source": [
    "age=int(input(\"enter the age\"))\n",
    "if(age<=18):\n",
    "    print('children')\n",
    "elif(age<=35):\n",
    "    print(\"adult\")\n",
    "elif(age<=59):\n",
    "    print(\"citizen\")\n",
    "else:\n",
    "    print(\"senior citizen\")\n",
    "    "
   ]
  },
  {
   "cell_type": "markdown",
   "id": "2c274f84",
   "metadata": {},
   "source": [
    "  #Hello World\n",
    "  "
   ]
  },
  {
   "cell_type": "code",
   "execution_count": 2,
   "id": "3943db21",
   "metadata": {},
   "outputs": [
    {
     "name": "stdout",
     "output_type": "stream",
     "text": [
      "Hello World\n"
     ]
    }
   ],
   "source": [
    "print(\"Hello World\")\n"
   ]
  },
  {
   "cell_type": "markdown",
   "id": "857da1d6",
   "metadata": {},
   "source": [
    "#Enter your name\n"
   ]
  },
  {
   "cell_type": "code",
   "execution_count": 31,
   "id": "f81dc2d2",
   "metadata": {},
   "outputs": [
    {
     "name": "stdout",
     "output_type": "stream",
     "text": [
      "enter the name:sowmya\n",
      "welcome to Artificial Intelligence\n"
     ]
    }
   ],
   "source": [
    "name=input(\"enter the name:\")\n",
    "\n",
    "print(\"welcome to Artificial Intelligence\")\n"
   ]
  },
  {
   "cell_type": "code",
   "execution_count": 30,
   "id": "6ab2dc11",
   "metadata": {},
   "outputs": [
    {
     "name": "stdout",
     "output_type": "stream",
     "text": [
      "enter the name:sowmya\n",
      "enter the age:34\n",
      "welcome to artifical intelligence\n"
     ]
    }
   ],
   "source": [
    "name=input(\"enter the name:\")\n",
    "age=input(\"enter the age:\")\n",
    "\n",
    "print(\"welcome to artifical intelligence\")\n"
   ]
  },
  {
   "cell_type": "code",
   "execution_count": 15,
   "id": "c3de2f28",
   "metadata": {},
   "outputs": [
    {
     "name": "stdout",
     "output_type": "stream",
     "text": [
      "enter the x value:23\n",
      "enter the y value:23\n",
      "46\n"
     ]
    }
   ],
   "source": [
    "x=int(input('enter the x value:'))\n",
    "y=int(input('enter the y value:'))\n",
    "\n",
    "add=x + y\n",
    "print(add)\n",
    "\n",
    "\n",
    "\n",
    "\n"
   ]
  },
  {
   "cell_type": "markdown",
   "id": "83b225a2",
   "metadata": {},
   "source": [
    "//Arithmetic operation//\n",
    "\n"
   ]
  },
  {
   "cell_type": "code",
   "execution_count": 16,
   "id": "51a22e2a",
   "metadata": {},
   "outputs": [
    {
     "name": "stdout",
     "output_type": "stream",
     "text": [
      "enter the x value28\n",
      "enter the y value13\n",
      "41\n",
      "15\n",
      "364\n",
      "2.1538461538461537\n"
     ]
    }
   ],
   "source": [
    "x=int(input('enter the x value'))\n",
    "y=int(input('enter the y value'))\n",
    "add=x+y\n",
    "print(add)\n",
    "sub=x-y\n",
    "print(sub)\n",
    "mul=x*y\n",
    "print(mul)\n",
    "div=x/y\n",
    "print(div)\n"
   ]
  },
  {
   "cell_type": "markdown",
   "id": "b46f19a1",
   "metadata": {},
   "source": [
    "//Exponential(power)2**3=8,10**3=1000//\n",
    "\n"
   ]
  },
  {
   "cell_type": "code",
   "execution_count": 23,
   "id": "6f5372e8",
   "metadata": {},
   "outputs": [
    {
     "name": "stdout",
     "output_type": "stream",
     "text": [
      "enter any number:2\n",
      "enter the exponent:3\n",
      "8\n"
     ]
    }
   ],
   "source": [
    "a=int(input(\"enter any number:\"))\n",
    "expo=int(input(\"enter the exponent:\"))\n",
    "        \n",
    "print(a**expo)\n",
    "         \n",
    "         \n"
   ]
  },
  {
   "cell_type": "markdown",
   "id": "53296885",
   "metadata": {},
   "source": [
    "//floor division// a//b"
   ]
  },
  {
   "cell_type": "code",
   "execution_count": 26,
   "id": "cc9d54a8",
   "metadata": {},
   "outputs": [
    {
     "name": "stdout",
     "output_type": "stream",
     "text": [
      "enter any number:31\n",
      "enter any number:6\n",
      "5.0\n"
     ]
    }
   ],
   "source": [
    "a=float(input(\"enter any number:\"))\n",
    "b=float(input(\"enter any number:\"))\n",
    "floor=a//b\n",
    "print(floor)\n"
   ]
  },
  {
   "cell_type": "markdown",
   "id": "df37d1d7",
   "metadata": {},
   "source": [
    "//equal// ==,!= //check weather the number is equal or not//true=1//false=\n",
    "\n"
   ]
  },
  {
   "cell_type": "code",
   "execution_count": 29,
   "id": "11f225ab",
   "metadata": {},
   "outputs": [
    {
     "name": "stdout",
     "output_type": "stream",
     "text": [
      "enter any value:34\n",
      "enter any value:5\n",
      "False\n"
     ]
    }
   ],
   "source": [
    "a=int(input(\"enter any value:\"))\n",
    "b=int(input(\"enter any value:\"))\n",
    "print(a==b)\n",
    "\n"
   ]
  },
  {
   "cell_type": "code",
   "execution_count": null,
   "id": "ab4f9c28",
   "metadata": {},
   "outputs": [],
   "source": []
  },
  {
   "cell_type": "code",
   "execution_count": null,
   "id": "7b0f91d4",
   "metadata": {},
   "outputs": [],
   "source": []
  }
 ],
 "metadata": {
  "kernelspec": {
   "display_name": "Python 3 (ipykernel)",
   "language": "python",
   "name": "python3"
  },
  "language_info": {
   "codemirror_mode": {
    "name": "ipython",
    "version": 3
   },
   "file_extension": ".py",
   "mimetype": "text/x-python",
   "name": "python",
   "nbconvert_exporter": "python",
   "pygments_lexer": "ipython3",
   "version": "3.9.12"
  }
 },
 "nbformat": 4,
 "nbformat_minor": 5
}
