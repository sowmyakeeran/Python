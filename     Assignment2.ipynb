{
 "cells": [
  {
   "cell_type": "markdown",
   "id": "21a5986b",
   "metadata": {},
   "source": [
    "#DATE:22.7.2022"
   ]
  },
  {
   "cell_type": "markdown",
   "id": "6acbf281",
   "metadata": {},
   "source": [
    "#ASSINGMENT2 //CONTROL STRUCTURES"
   ]
  },
  {
   "cell_type": "markdown",
   "id": "9166722c",
   "metadata": {},
   "source": [
    "#To print numbers 0 to 11"
   ]
  },
  {
   "cell_type": "code",
   "execution_count": 3,
   "id": "39c3e717",
   "metadata": {},
   "outputs": [
    {
     "name": "stdout",
     "output_type": "stream",
     "text": [
      "0\n",
      "1\n",
      "2\n",
      "3\n",
      "4\n",
      "5\n",
      "6\n",
      "7\n",
      "8\n",
      "9\n",
      "10\n",
      "11\n"
     ]
    }
   ],
   "source": [
    "for i in range(0,12):\n",
    " print(i)\n"
   ]
  },
  {
   "cell_type": "markdown",
   "id": "95a9c7f5",
   "metadata": {},
   "source": [
    "#To print greater num using if loop"
   ]
  },
  {
   "cell_type": "code",
   "execution_count": 7,
   "id": "579a5803",
   "metadata": {},
   "outputs": [
    {
     "name": "stdout",
     "output_type": "stream",
     "text": [
      "342 is greater than 8\n"
     ]
    }
   ],
   "source": [
    "a=342\n",
    "b=8\n",
    "if(a>b):\n",
    "  print(\"342 is greater than 8\")\n",
    "else:\n",
    "  print(\"false\")\n",
    "\n",
    "      "
   ]
  },
  {
   "cell_type": "markdown",
   "id": "6314d963",
   "metadata": {},
   "source": [
    "# TO print hello in seperate line with no of characters present in it#\n"
   ]
  },
  {
   "cell_type": "code",
   "execution_count": 10,
   "id": "9221a6c0",
   "metadata": {},
   "outputs": [
    {
     "name": "stdout",
     "output_type": "stream",
     "text": [
      "5\n",
      "H\n",
      "E\n",
      "L\n",
      "L\n",
      "O\n"
     ]
    }
   ],
   "source": [
    "text=\"HELLO\"\n",
    "print(len(text))\n",
    "for i in text:\n",
    "    print(i)\n",
    "    \n",
    "    \n",
    "    "
   ]
  },
  {
   "cell_type": "markdown",
   "id": "a4698a3e",
   "metadata": {},
   "source": [
    "#print multiple string using list and for loop"
   ]
  },
  {
   "cell_type": "code",
   "execution_count": 11,
   "id": "77a649ad",
   "metadata": {},
   "outputs": [
    {
     "name": "stdout",
     "output_type": "stream",
     "text": [
      "Machine Learning\n",
      "Deep Learning\n",
      "NLP\n"
     ]
    }
   ],
   "source": [
    "lang=[\"Machine Learning\",\"Deep Learning\",\"NLP\"]\n",
    "for text in lang:\n",
    "    print(text)\n",
    "    "
   ]
  },
  {
   "cell_type": "markdown",
   "id": "15f2372b",
   "metadata": {},
   "source": [
    "# To print a string in a new line#"
   ]
  },
  {
   "cell_type": "code",
   "execution_count": 14,
   "id": "0cf62e02",
   "metadata": {},
   "outputs": [
    {
     "name": "stdout",
     "output_type": "stream",
     "text": [
      "D\n",
      "a\n",
      "t\n",
      "a\n",
      " \n",
      "S\n",
      "c\n",
      "i\n",
      "e\n",
      "n\n",
      "c\n",
      "e\n"
     ]
    }
   ],
   "source": [
    "text=\"Data Science\"\n",
    "for i in text:\n",
    "    print(i)\n",
    "    "
   ]
  },
  {
   "cell_type": "code",
   "execution_count": null,
   "id": "6e419c06",
   "metadata": {},
   "outputs": [],
   "source": []
  }
 ],
 "metadata": {
  "kernelspec": {
   "display_name": "Python 3 (ipykernel)",
   "language": "python",
   "name": "python3"
  },
  "language_info": {
   "codemirror_mode": {
    "name": "ipython",
    "version": 3
   },
   "file_extension": ".py",
   "mimetype": "text/x-python",
   "name": "python",
   "nbconvert_exporter": "python",
   "pygments_lexer": "ipython3",
   "version": "3.9.12"
  }
 },
 "nbformat": 4,
 "nbformat_minor": 5
}
