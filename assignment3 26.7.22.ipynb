{
 "cells": [
  {
   "cell_type": "code",
   "execution_count": null,
   "id": "6d5db7ed",
   "metadata": {},
   "outputs": [],
   "source": [
    "DATE:26.7.22  CLASSES AND FUNCTION"
   ]
  },
  {
   "cell_type": "code",
   "execution_count": null,
   "id": "3c540716",
   "metadata": {},
   "outputs": [],
   "source": [
    "#PRINT AREA AND PERIMETER OF RECTANGLE USING CLASS"
   ]
  },
  {
   "cell_type": "code",
   "execution_count": 1,
   "id": "a8f8900f",
   "metadata": {},
   "outputs": [],
   "source": [
    "class rectangle():\n",
    "\n",
    "    def rectangle():\n",
    "        length=int(input(\"enter the length:\"))\n",
    "        breadth=int(input(\"enter the breadth:\"))\n",
    "        area=length*breadth\n",
    "        print(\"Area formula:length*breadth\")\n",
    "        print(\"Area of rectangle\",area)\n",
    "        length=int(input(\"enter the length:\"))\n",
    "        breadth=int(input(\"enter the breadth:\"))    \n",
    "        perimeter=2*(length+breadth)\n",
    "        print(\"perimeter formula:2*(length+breadth)\")\n",
    "        print(\"perimeter of rectangle\",perimeter)\n",
    "        \n",
    "    \n",
    "    "
   ]
  },
  {
   "cell_type": "code",
   "execution_count": 2,
   "id": "d02e8a98",
   "metadata": {},
   "outputs": [
    {
     "name": "stdout",
     "output_type": "stream",
     "text": [
      "enter the length:45\n",
      "enter the breadth:65\n",
      "Area formula:length*breadth\n",
      "Area of rectangle 2925\n",
      "enter the length:67\n",
      "enter the breadth:89\n",
      "perimeter formula:2*(length+breadth)\n",
      "perimeter of rectangle 312\n"
     ]
    }
   ],
   "source": [
    " rectangle.rectangle()"
   ]
  },
  {
   "cell_type": "code",
   "execution_count": null,
   "id": "ce62b198",
   "metadata": {},
   "outputs": [],
   "source": [
    "#CREATE CLASS AND FUNCTION TO CHECKTE NUMBER IS PRIME OR NOT"
   ]
  },
  {
   "cell_type": "code",
   "execution_count": 75,
   "id": "e44577ae",
   "metadata": {},
   "outputs": [],
   "source": [
    "class prime():\n",
    "    def primeornot():  \n",
    "        n=int(input(\"enter any number:\"))\n",
    "        for i in range(2,n):\n",
    "            if n%i == 0:\n",
    "                print(n,\"is not a prime number\" )\n",
    "                break\n",
    "        else:\n",
    "            print(n,\"is a prime number\")\n"
   ]
  },
  {
   "cell_type": "code",
   "execution_count": 77,
   "id": "63c79b6a",
   "metadata": {},
   "outputs": [
    {
     "name": "stdout",
     "output_type": "stream",
     "text": [
      "enter any number:29\n",
      "29 is a prime number\n"
     ]
    }
   ],
   "source": [
    "prime.primeornot()"
   ]
  },
  {
   "cell_type": "markdown",
   "id": "7c943e7f",
   "metadata": {},
   "source": [
    "#print car model names using class and function# "
   ]
  },
  {
   "cell_type": "code",
   "execution_count": 15,
   "id": "d801d677",
   "metadata": {},
   "outputs": [],
   "source": [
    " class carmodel():\n",
    "        def modelfunction():\n",
    "            carmodelnames=[\"Maruti Alto\",\"Maruti Dzire\",\"Hyundai Creta\",\"Maruti Swift\"]\n",
    "            for i in carmodelnames:\n",
    "                print(i)\n",
    "                "
   ]
  },
  {
   "cell_type": "code",
   "execution_count": 16,
   "id": "5b09927e",
   "metadata": {},
   "outputs": [
    {
     "name": "stdout",
     "output_type": "stream",
     "text": [
      "Maruti Alto\n",
      "Maruti Dzire\n",
      "Hyundai Creta\n",
      "Maruti Swift\n"
     ]
    }
   ],
   "source": [
    "carmodel.modelfunction()"
   ]
  },
  {
   "cell_type": "markdown",
   "id": "0a9b2238",
   "metadata": {},
   "source": [
    "#Create a class to calculate average marks"
   ]
  },
  {
   "cell_type": "code",
   "execution_count": 23,
   "id": "4ca31064",
   "metadata": {},
   "outputs": [],
   "source": [
    "class average():\n",
    "    def averagemark():\n",
    "        m1=int(input(\"enter the m1:\"))\n",
    "        m2=int(input(\"enter the m2:\"))\n",
    "        m3=int(input(\"enter the m1:\"))\n",
    "        total=m1+m2+m3\n",
    "        average=total/300 * 100\n",
    "        print(\"Total:\",total)\n",
    "        print(\"Average:\",average)\n",
    "        "
   ]
  },
  {
   "cell_type": "code",
   "execution_count": 24,
   "id": "0ff87042",
   "metadata": {},
   "outputs": [
    {
     "name": "stdout",
     "output_type": "stream",
     "text": [
      "enter the m1:45\n",
      "enter the m2:45\n",
      "enter the m1:45\n",
      "Total: 135\n",
      "Average: 45.0\n"
     ]
    }
   ],
   "source": [
    "average.averagemark()"
   ]
  },
  {
   "cell_type": "markdown",
   "id": "9c8b5170",
   "metadata": {},
   "source": [
    "#Create class to calculate simple interest"
   ]
  },
  {
   "cell_type": "code",
   "execution_count": 30,
   "id": "54bcc288",
   "metadata": {},
   "outputs": [],
   "source": [
    "class simpleinterest():\n",
    "    def sicalculator():\n",
    "        p=int(input(\"enter the principle amount:\"))\n",
    "        r=int(input(\"rate of interest:\"))\n",
    "        n=int(input(\"enter the timeperiod:\"))\n",
    "        si=(p*n*r)/100\n",
    "        print(\"si=pnr%100\")\n",
    "        print(\"simpleinterest:\",si)\n",
    "    \n",
    "        "
   ]
  },
  {
   "cell_type": "code",
   "execution_count": 31,
   "id": "145dcf9a",
   "metadata": {},
   "outputs": [
    {
     "name": "stdout",
     "output_type": "stream",
     "text": [
      "enter the principle amount:100000\n",
      "rate of interest:2\n",
      "enter the timeperiod:3\n",
      "si=pnr%100\n",
      "simpleinterest: 6000.0\n"
     ]
    }
   ],
   "source": [
    "simpleinterest.sicalculator()"
   ]
  },
  {
   "cell_type": "markdown",
   "id": "410b4825",
   "metadata": {},
   "source": [
    "#Print course list using class and function"
   ]
  },
  {
   "cell_type": "code",
   "execution_count": 32,
   "id": "03725ab5",
   "metadata": {},
   "outputs": [],
   "source": [
    "class courselist():\n",
    "    def coursenames():\n",
    "        courselist=[\"Python\",\"Machine Learning\",\"Data Science\",\"Deep Learning\",\"Time series Analysis\"]\n",
    "        for i in courselist:\n",
    "            print(i)\n",
    "            \n"
   ]
  },
  {
   "cell_type": "code",
   "execution_count": 33,
   "id": "16cf1c4b",
   "metadata": {},
   "outputs": [
    {
     "name": "stdout",
     "output_type": "stream",
     "text": [
      "Python\n",
      "Machine Learning\n",
      "Data Science\n",
      "Deep Learning\n",
      "Time series Analysis\n"
     ]
    }
   ],
   "source": [
    "courselist.coursenames()"
   ]
  },
  {
   "cell_type": "markdown",
   "id": "033276bf",
   "metadata": {},
   "source": [
    "#Create a class to swap two numbers without using temporary variable"
   ]
  },
  {
   "cell_type": "code",
   "execution_count": 38,
   "id": "8ae82bf6",
   "metadata": {},
   "outputs": [],
   "source": [
    "class swap():\n",
    "    def swapofnumbers():\n",
    "        a=5\n",
    "        b=8\n",
    "        print(\"Before swapping values:\")\n",
    "        print(\"a:\",a)\n",
    "        print(\"b:\",b)\n",
    "        a=a+b\n",
    "        b=a-b\n",
    "        a=a-b\n",
    "        print(\"After swapping values:\")\n",
    "        print(a)\n",
    "        print(b)"
   ]
  },
  {
   "cell_type": "code",
   "execution_count": 39,
   "id": "4ada54c9",
   "metadata": {},
   "outputs": [
    {
     "name": "stdout",
     "output_type": "stream",
     "text": [
      "Before swapping values:\n",
      "a: 5\n",
      "b: 8\n",
      "After swapping values:\n",
      "8\n",
      "5\n"
     ]
    }
   ],
   "source": [
    "swap.swapofnumbers()\n"
   ]
  },
  {
   "cell_type": "code",
   "execution_count": null,
   "id": "1ae7653c",
   "metadata": {},
   "outputs": [],
   "source": []
  }
 ],
 "metadata": {
  "kernelspec": {
   "display_name": "Python 3 (ipykernel)",
   "language": "python",
   "name": "python3"
  },
  "language_info": {
   "codemirror_mode": {
    "name": "ipython",
    "version": 3
   },
   "file_extension": ".py",
   "mimetype": "text/x-python",
   "name": "python",
   "nbconvert_exporter": "python",
   "pygments_lexer": "ipython3",
   "version": "3.9.12"
  }
 },
 "nbformat": 4,
 "nbformat_minor": 5
}
