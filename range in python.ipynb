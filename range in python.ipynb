{
 "cells": [
  {
   "cell_type": "markdown",
   "id": "987de648",
   "metadata": {},
   "source": [
    "//python range()//to print number from 1 to6"
   ]
  },
  {
   "cell_type": "code",
   "execution_count": 5,
   "id": "b2b66740",
   "metadata": {},
   "outputs": [
    {
     "name": "stdout",
     "output_type": "stream",
     "text": [
      "1\n",
      "2\n",
      "3\n",
      "4\n",
      "5\n"
     ]
    }
   ],
   "source": [
    "for count in range(1,6):\n",
    " print(count)\n",
    "    "
   ]
  },
  {
   "cell_type": "markdown",
   "id": "dae67ff3",
   "metadata": {},
   "source": [
    "//write a code to print addition table of 9//using range"
   ]
  },
  {
   "cell_type": "code",
   "execution_count": 17,
   "id": "39c08ce6",
   "metadata": {},
   "outputs": [
    {
     "name": "stdout",
     "output_type": "stream",
     "text": [
      "enter any number:9\n",
      "9 + 1 = 10\n",
      "9 + 2 = 11\n",
      "9 + 3 = 12\n",
      "9 + 4 = 13\n",
      "9 + 5 = 14\n",
      "9 + 6 = 15\n",
      "9 + 7 = 16\n",
      "9 + 8 = 17\n",
      "9 + 9 = 18\n",
      "9 + 10 = 19\n"
     ]
    }
   ],
   "source": [
    "num=int(input(\"enter any number:\"))\n",
    "for count in range(1,11):\n",
    " print(num,\"+\",count,\"=\",count+num)"
   ]
  },
  {
   "cell_type": "markdown",
   "id": "59b232a5",
   "metadata": {},
   "source": [
    "//write a code to print multiplication table//using range"
   ]
  },
  {
   "cell_type": "code",
   "execution_count": 29,
   "id": "d6b68632",
   "metadata": {},
   "outputs": [
    {
     "name": "stdout",
     "output_type": "stream",
     "text": [
      "enter the number:6\n",
      "6 * 1 = 6\n",
      "6 * 2 = 12\n",
      "6 * 3 = 18\n",
      "6 * 4 = 24\n",
      "6 * 5 = 30\n",
      "6 * 6 = 36\n",
      "6 * 7 = 42\n",
      "6 * 8 = 48\n",
      "6 * 9 = 54\n",
      "6 * 10 = 60\n",
      "6 * 11 = 66\n",
      "6 * 12 = 72\n",
      "6 * 13 = 78\n",
      "6 * 14 = 84\n",
      "6 * 15 = 90\n",
      "6 * 16 = 96\n",
      "6 * 17 = 102\n",
      "6 * 18 = 108\n",
      "6 * 19 = 114\n",
      "6 * 20 = 120\n"
     ]
    }
   ],
   "source": [
    "num=int(input(\"enter the number:\"))\n",
    "for count in range(1,21):\n",
    " print(num,\"*\",count,\"=\",num*count)"
   ]
  },
  {
   "cell_type": "code",
   "execution_count": 32,
   "id": "ae030814",
   "metadata": {},
   "outputs": [
    {
     "name": "stdout",
     "output_type": "stream",
     "text": [
      "enter the number:7\n",
      "7 + 1 = 8\n",
      "7 + 2 = 9\n",
      "7 + 3 = 10\n",
      "7 + 4 = 11\n",
      "7 + 5 = 12\n",
      "7 + 6 = 13\n",
      "7 + 7 = 14\n",
      "7 + 8 = 15\n",
      "7 + 9 = 16\n",
      "7 + 10 = 17\n",
      "7 + 11 = 18\n",
      "7 + 12 = 19\n",
      "7 + 13 = 20\n",
      "7 + 14 = 21\n",
      "7 + 15 = 22\n",
      "7 + 16 = 23\n",
      "7 + 17 = 24\n",
      "7 + 18 = 25\n",
      "7 + 19 = 26\n",
      "7 + 20 = 27\n",
      "7 + 21 = 28\n",
      "7 + 22 = 29\n",
      "7 + 23 = 30\n",
      "7 + 24 = 31\n",
      "7 + 25 = 32\n",
      "7 + 26 = 33\n",
      "7 + 27 = 34\n",
      "7 + 28 = 35\n",
      "7 + 29 = 36\n",
      "7 + 30 = 37\n",
      "7 + 31 = 38\n",
      "7 + 32 = 39\n",
      "7 + 33 = 40\n",
      "7 + 34 = 41\n",
      "7 + 35 = 42\n",
      "7 + 36 = 43\n",
      "7 + 37 = 44\n",
      "7 + 38 = 45\n",
      "7 + 39 = 46\n",
      "7 + 40 = 47\n",
      "7 + 41 = 48\n",
      "7 + 42 = 49\n",
      "7 + 43 = 50\n",
      "7 + 44 = 51\n",
      "7 + 45 = 52\n",
      "7 + 46 = 53\n",
      "7 + 47 = 54\n",
      "7 + 48 = 55\n",
      "7 + 49 = 56\n",
      "7 + 50 = 57\n",
      "7 + 51 = 58\n",
      "7 + 52 = 59\n",
      "7 + 53 = 60\n",
      "7 + 54 = 61\n",
      "7 + 55 = 62\n",
      "7 + 56 = 63\n",
      "7 + 57 = 64\n",
      "7 + 58 = 65\n",
      "7 + 59 = 66\n",
      "7 + 60 = 67\n",
      "7 + 61 = 68\n",
      "7 + 62 = 69\n",
      "7 + 63 = 70\n",
      "7 + 64 = 71\n",
      "7 + 65 = 72\n",
      "7 + 66 = 73\n",
      "7 + 67 = 74\n",
      "7 + 68 = 75\n",
      "7 + 69 = 76\n",
      "7 + 70 = 77\n",
      "7 + 71 = 78\n",
      "7 + 72 = 79\n",
      "7 + 73 = 80\n",
      "7 + 74 = 81\n",
      "7 + 75 = 82\n",
      "7 + 76 = 83\n",
      "7 + 77 = 84\n",
      "7 + 78 = 85\n",
      "7 + 79 = 86\n",
      "7 + 80 = 87\n",
      "7 + 81 = 88\n",
      "7 + 82 = 89\n",
      "7 + 83 = 90\n",
      "7 + 84 = 91\n",
      "7 + 85 = 92\n",
      "7 + 86 = 93\n",
      "7 + 87 = 94\n",
      "7 + 88 = 95\n",
      "7 + 89 = 96\n",
      "7 + 90 = 97\n",
      "7 + 91 = 98\n",
      "7 + 92 = 99\n",
      "7 + 93 = 100\n",
      "7 + 94 = 101\n",
      "7 + 95 = 102\n",
      "7 + 96 = 103\n",
      "7 + 97 = 104\n",
      "7 + 98 = 105\n",
      "7 + 99 = 106\n",
      "7 + 100 = 107\n"
     ]
    }
   ],
   "source": [
    "n=int(input(\"enter the number:\"))\n",
    "for i in range(1,101):\n",
    "    print(n,\"+\",i,\"=\",n+i)"
   ]
  },
  {
   "cell_type": "code",
   "execution_count": null,
   "id": "7d53f972",
   "metadata": {},
   "outputs": [],
   "source": [
    "\n"
   ]
  },
  {
   "cell_type": "code",
   "execution_count": null,
   "id": "c54a21c9",
   "metadata": {},
   "outputs": [],
   "source": []
  },
  {
   "cell_type": "code",
   "execution_count": null,
   "id": "a6a23fc2",
   "metadata": {},
   "outputs": [],
   "source": []
  },
  {
   "cell_type": "code",
   "execution_count": null,
   "id": "9c404d4b",
   "metadata": {},
   "outputs": [],
   "source": []
  }
 ],
 "metadata": {
  "kernelspec": {
   "display_name": "Python 3 (ipykernel)",
   "language": "python",
   "name": "python3"
  },
  "language_info": {
   "codemirror_mode": {
    "name": "ipython",
    "version": 3
   },
   "file_extension": ".py",
   "mimetype": "text/x-python",
   "name": "python",
   "nbconvert_exporter": "python",
   "pygments_lexer": "ipython3",
   "version": "3.9.12"
  }
 },
 "nbformat": 4,
 "nbformat_minor": 5
}
