{
 "cells": [
  {
   "cell_type": "code",
   "execution_count": 2,
   "id": "e8116a57",
   "metadata": {},
   "outputs": [
    {
     "name": "stdout",
     "output_type": "stream",
     "text": [
      "test\n"
     ]
    }
   ],
   "source": [
    "\n",
    "print('test')"
   ]
  },
  {
   "cell_type": "code",
   "execution_count": 1,
   "id": "ba618319",
   "metadata": {},
   "outputs": [
    {
     "name": "stdout",
     "output_type": "stream",
     "text": [
      "enter the age56\n",
      "citizen\n"
     ]
    }
   ],
   "source": [
    "age=int(input(\"enter the age\"))\n",
    "if(age<=18):\n",
    "    print('children')\n",
    "elif(age<=35):\n",
    "    print(\"adult\")\n",
    "elif(age<=59):\n",
    "    print(\"citizen\")\n",
    "else:\n",
    "    print(\"senior citizen\")\n",
    "    "
   ]
  },
  {
   "cell_type": "markdown",
   "id": "712a09f2",
   "metadata": {},
   "source": [
    "  #Hello World\n",
    "  "
   ]
  },
  {
   "cell_type": "code",
   "execution_count": 2,
   "id": "bcbf15b4",
   "metadata": {},
   "outputs": [
    {
     "name": "stdout",
     "output_type": "stream",
     "text": [
      "Hello World\n"
     ]
    }
   ],
   "source": [
    "print(\"Hello World\")\n"
   ]
  },
  {
   "cell_type": "markdown",
   "id": "e70b0027",
   "metadata": {},
   "source": [
    "#Enter your name\n"
   ]
  },
  {
   "cell_type": "code",
   "execution_count": null,
   "id": "3e7943ff",
   "metadata": {},
   "outputs": [],
   "source": [
    "name=input(\"enter the name:\")\n",
    "print(\"welcome to Artificial Intelligence\")"
   ]
  },
  {
   "cell_type": "code",
   "execution_count": null,
   "id": "037027c6",
   "metadata": {},
   "outputs": [],
   "source": [
    "name=input(\"enter the name\")\n"
   ]
  },
  {
   "cell_type": "code",
   "execution_count": null,
   "id": "0956bee2",
   "metadata": {},
   "outputs": [],
   "source": [
    "print(\"welcome to Artificial Intelligence\")"
   ]
  },
  {
   "cell_type": "code",
   "execution_count": null,
   "id": "a6de6a29",
   "metadata": {},
   "outputs": [],
   "source": []
  },
  {
   "cell_type": "code",
   "execution_count": null,
   "id": "c4c92373",
   "metadata": {},
   "outputs": [],
   "source": []
  },
  {
   "cell_type": "code",
   "execution_count": null,
   "id": "e5759bdf",
   "metadata": {},
   "outputs": [],
   "source": []
  },
  {
   "cell_type": "code",
   "execution_count": null,
   "id": "f9735181",
   "metadata": {},
   "outputs": [],
   "source": []
  }
 ],
 "metadata": {
  "kernelspec": {
   "display_name": "Python 3 (ipykernel)",
   "language": "python",
   "name": "python3"
  },
  "language_info": {
   "codemirror_mode": {
    "name": "ipython",
    "version": 3
   },
   "file_extension": ".py",
   "mimetype": "text/x-python",
   "name": "python",
   "nbconvert_exporter": "python",
   "pygments_lexer": "ipython3",
   "version": "3.9.12"
  }
 },
 "nbformat": 4,
 "nbformat_minor": 5
}
