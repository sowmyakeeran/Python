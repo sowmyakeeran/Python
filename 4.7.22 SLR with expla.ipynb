{
 "cells": [
  {
   "cell_type": "markdown",
   "id": "e01f4fee",
   "metadata": {},
   "source": [
    "                               SIMPLE LINEAR REGRESSION                                             DATE:4.8.22"
   ]
  },
  {
   "cell_type": "markdown",
   "id": "28ccb7e1",
   "metadata": {},
   "source": [
    "#IMPORTING LIBRARIES#"
   ]
  },
  {
   "cell_type": "code",
   "execution_count": null,
   "id": "4e70f817",
   "metadata": {},
   "outputs": [],
   "source": [
    "import numpy as np\n",
    "#NUMPY is a Numerical python library used for working Arrays#\n",
    "#np is a alias name to numpy#   "
   ]
  },
  {
   "cell_type": "code",
   "execution_count": null,
   "id": "fc172682",
   "metadata": {},
   "outputs": [],
   "source": [
    "import pandas as pd\n",
    "#PANDA is a python libraries used to analyse the data#\n",
    "#used for working with dataset#\n",
    "#It also do correlation,clean,manipulating#"
   ]
  },
  {
   "cell_type": "code",
   "execution_count": null,
   "id": "c9e69226",
   "metadata": {},
   "outputs": [],
   "source": [
    "import matplotlib.pyplot as plt\n",
    "# matplotlib is a graph plotting library that serves visualisation utility#\n",
    "#.pyplot is the submodule of matplotlib#\n",
    "# plt is a alias name to matplotlib#"
   ]
  },
  {
   "cell_type": "code",
   "execution_count": null,
   "id": "b76badc5",
   "metadata": {},
   "outputs": [],
   "source": [
    "from sklearn.linear_model import LinearRegression\n",
    "#sklearn.linear_model  is class name and LinearRegression is a function#\n",
    "#predefined functions should be called by its same spelling#\n",
    "#sklearn is scikitlearn most useful function in python used for machine learning projects#\n",
    "#It perform regression,classification,clustering,algorithms,mathematical and statistical#"
   ]
  },
  {
   "cell_type": "markdown",
   "id": "e3fbbb71",
   "metadata": {},
   "source": [
    "#LOAD DATASET#"
   ]
  },
  {
   "cell_type": "code",
   "execution_count": null,
   "id": "a7fad6c7",
   "metadata": {},
   "outputs": [],
   "source": [
    "data=pd.read_csv('Salary_Data.csv')\n",
    "#reading ('Salary_Data.csv') file using pd.read_csv#\n",
    "#data variable assigned to it,All the data in file will stored in variable data#\n",
    "#.csv comma seperated value,pd will show in table format#\n"
   ]
  },
  {
   "cell_type": "code",
   "execution_count": null,
   "id": "d9923907",
   "metadata": {},
   "outputs": [],
   "source": [
    "data\n",
    "#display the file stored in data as table format,so that we used pandas"
   ]
  },
  {
   "cell_type": "code",
   "execution_count": null,
   "id": "529ba7cd",
   "metadata": {},
   "outputs": [],
   "source": [
    "independent=data[[\"YearsExperience\"]]\n",
    "#independent is a input variable,using [[]] brace, YearsExperience column in data will store in independent variable#\n",
    "dependent=data[[\"Salary\"]]\n",
    "#dependent is a output variable,using [[]] brace, Salary column in data will store in dependent variable#\n"
   ]
  },
  {
   "cell_type": "code",
   "execution_count": null,
   "id": "5286ed6a",
   "metadata": {},
   "outputs": [],
   "source": [
    "independent\n",
    "#Display the input variable#\n"
   ]
  },
  {
   "cell_type": "code",
   "execution_count": null,
   "id": "50864ec2",
   "metadata": {},
   "outputs": [],
   "source": [
    "dependent\n",
    "#Display the output variable#"
   ]
  },
  {
   "cell_type": "markdown",
   "id": "a5d3d400",
   "metadata": {},
   "source": [
    "TO VIEW IN GRAPH"
   ]
  },
  {
   "cell_type": "code",
   "execution_count": null,
   "id": "a408fae7",
   "metadata": {},
   "outputs": [],
   "source": [
    "plt.scatter(independent,dependent)\n",
    "#scatter is a function in matplotlib as plt used to plot .one dot for each obervation#\n",
    "#needs 2 arrays of same dimension for plotting x,y here independent is x,dependent is y#\n",
    "plt.xlabel('YearsExperience')\n",
    "#x axis is labelled as years of experience should be within ''\n",
    "plt.ylabel('Salary')\n",
    "#y axis is labelled as Salary should be within ''\n",
    "plt.show\n",
    "#displaying the graph#"
   ]
  },
  {
   "cell_type": "markdown",
   "id": "e2b35c22",
   "metadata": {},
   "source": [
    "SPLITING ORIGINAL DATASET INTO TRAIN AND TESTSET\n",
    "Training set is used to create model\n",
    "Testset is used to find the accuracy of the model\n",
    "spliting Randomly Training set 70% and remaining 30% to Testset "
   ]
  },
  {
   "cell_type": "code",
   "execution_count": null,
   "id": "d3d109af",
   "metadata": {},
   "outputs": [],
   "source": [
    "from sklearn.model_selection import train_test_split\n",
    "#from the class sklearn.selection importing the function train_test_split#\n",
    "x_train,x_test,y_train,y_test=train_test_split(independent,dependent,test_size=o.30,randomstate=0)\n",
    "#creating variables for input train\\test output train\\test and passing parameter independent,dependent,spliting size to\n",
    "#the function train_test_split#\n"
   ]
  },
  {
   "cell_type": "code",
   "execution_count": null,
   "id": "6f15d841",
   "metadata": {},
   "outputs": [],
   "source": [
    "x_train\n",
    "#Displaying the x_train#\n",
    "#It is almost similar to the original dataset#"
   ]
  },
  {
   "cell_type": "code",
   "execution_count": null,
   "id": "62d37539",
   "metadata": {},
   "outputs": [],
   "source": [
    "x_train.shape\n",
    "#It Display no of rows and columns present in training set#"
   ]
  },
  {
   "cell_type": "code",
   "execution_count": null,
   "id": "ababf1e7",
   "metadata": {},
   "outputs": [],
   "source": [
    "y_test.shape\n",
    "# Display no of rows and columns present in test set#"
   ]
  },
  {
   "cell_type": "markdown",
   "id": "c98da1ac",
   "metadata": {},
   "source": [
    "MODEL CREATION WITH TRAINING SET DATA"
   ]
  },
  {
   "cell_type": "code",
   "execution_count": null,
   "id": "7cc92b65",
   "metadata": {},
   "outputs": [],
   "source": [
    "from sklearn.linear_model import LinearRegression\n",
    "#from the class sklearn.linear_model importing linearregression function#\n",
    "lr=LinearRegression()\n",
    "#Assigning the function LinearRegression to the variable lr#\n",
    "lr.fit(x_train,y_train)\n",
    "#.fit() is a method,substuting training set x and y\n",
    "LinearRegression()\n",
    "#model is created#\n"
   ]
  },
  {
   "cell_type": "markdown",
   "id": "97b501e8",
   "metadata": {},
   "source": [
    "y=wx+c  finding weight(w) and intercept value(c)"
   ]
  },
  {
   "cell_type": "code",
   "execution_count": null,
   "id": "f8dcee39",
   "metadata": {},
   "outputs": [],
   "source": [
    "weight=lr.coef_\n",
    "#.coef coefficient of the linear regression#\n",
    "weight\n",
    "#It displays the array output of weight#\n",
    "bias=lr.intercept_\n",
    "#.intercept value of regression\n",
    "bias\n",
    "#It displays the array output of intercept value#"
   ]
  },
  {
   "cell_type": "markdown",
   "id": "50821283",
   "metadata": {},
   "source": [
    "PREDICTION FUNCTION"
   ]
  },
  {
   "cell_type": "code",
   "execution_count": null,
   "id": "dae99543",
   "metadata": {},
   "outputs": [],
   "source": [
    "y_pred=lr.predict(x_test)\n",
    "# .predict is a function predict the value based on model#\n",
    "y_pred\n"
   ]
  },
  {
   "cell_type": "markdown",
   "id": "e2e38638",
   "metadata": {},
   "source": [
    "EVALUTION METRICS/VALIDATING PARAMETER "
   ]
  },
  {
   "cell_type": "markdown",
   "id": "4e8cad6c",
   "metadata": {},
   "source": [
    "R-squared describes how well the linear regression model fits the datapoint"
   ]
  },
  {
   "cell_type": "markdown",
   "id": "9fbb5255",
   "metadata": {},
   "source": [
    "#Regression score function(r2_score) If the predicted r value is 1,It is goood model,If its 0 bad model#"
   ]
  },
  {
   "cell_type": "code",
   "execution_count": null,
   "id": "37afdffb",
   "metadata": {},
   "outputs": [],
   "source": [
    "from sklearn.metrics import r2_score\n",
    "#from the class sklearn.metrics importing r2_score#\n",
    " r=r2_score(y_test,y_pred)\n",
    "# In r2_score function validating the parameter y_test,y_pred    "
   ]
  },
  {
   "cell_type": "markdown",
   "id": "0389fbd4",
   "metadata": {},
   "source": [
    "#pickle is the process to convert any kind of python objects(list,dict)into byte stream 0's and 1's"
   ]
  },
  {
   "cell_type": "markdown",
   "id": "4e1284e6",
   "metadata": {},
   "source": [
    "#It allows us easily transfer data from one server to another and store it in a file#"
   ]
  },
  {
   "cell_type": "code",
   "execution_count": null,
   "id": "7d4a39fb",
   "metadata": {},
   "outputs": [],
   "source": [
    "import pickle\n",
    "#importing library#\n",
    "filename=\"finalModel.sav\"\n",
    "#saving our model#\n",
    "pickle.dump(lr,open(filename,'wb'))\n",
    "#dump() function convert python objects into stream\n"
   ]
  },
  {
   "cell_type": "markdown",
   "id": "b169da24",
   "metadata": {},
   "source": [
    "DEPOLYMENT PROCESS\n",
    "1.LOAD THE SAVED MODEL\n",
    "2.GET INPUT\n",
    "3.PREDICTS\n",
    "4.SHOW"
   ]
  },
  {
   "cell_type": "markdown",
   "id": "0005e7fa",
   "metadata": {},
   "source": [
    "#load the saved model#"
   ]
  },
  {
   "cell_type": "code",
   "execution_count": null,
   "id": "943a6c2e",
   "metadata": {},
   "outputs": [],
   "source": [
    "load_model=pickle.load(open(\"finalModel.sav\",'rb'))\n",
    "#load () method in pickle module reads the 0's and 1's of python objects from a file#"
   ]
  },
  {
   "cell_type": "code",
   "execution_count": null,
   "id": "c74542bf",
   "metadata": {},
   "outputs": [],
   "source": [
    "result=load_model.predict([[15]])\n",
    "#Generating predictio with the saved model#"
   ]
  },
  {
   "cell_type": "code",
   "execution_count": null,
   "id": "4670728f",
   "metadata": {},
   "outputs": [],
   "source": [
    "result"
   ]
  }
 ],
 "metadata": {
  "kernelspec": {
   "display_name": "Python 3 (ipykernel)",
   "language": "python",
   "name": "python3"
  },
  "language_info": {
   "codemirror_mode": {
    "name": "ipython",
    "version": 3
   },
   "file_extension": ".py",
   "mimetype": "text/x-python",
   "name": "python",
   "nbconvert_exporter": "python",
   "pygments_lexer": "ipython3",
   "version": "3.9.12"
  }
 },
 "nbformat": 4,
 "nbformat_minor": 5
}
