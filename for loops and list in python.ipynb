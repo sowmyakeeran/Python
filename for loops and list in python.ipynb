{
 "cells": [
  {
   "cell_type": "markdown",
   "id": "63d31a4d",
   "metadata": {},
   "source": [
    "//python list[]//multiple items in a single variable\n"
   ]
  },
  {
   "cell_type": "code",
   "execution_count": 4,
   "id": "7a2658f7",
   "metadata": {},
   "outputs": [
    {
     "name": "stdout",
     "output_type": "stream",
     "text": [
      "['tamil', 'english', 'hindi', 'french', 'arabic']\n"
     ]
    }
   ],
   "source": [
    " x=[\"tamil\",\"english\",\"hindi\",\"french\",\"arabic\"]\n",
    "print(x)\n",
    "\n"
   ]
  },
  {
   "cell_type": "markdown",
   "id": "b47f13b8",
   "metadata": {},
   "source": [
    "//list using for loop//\n"
   ]
  },
  {
   "cell_type": "code",
   "execution_count": 7,
   "id": "4e790672",
   "metadata": {},
   "outputs": [
    {
     "name": "stdout",
     "output_type": "stream",
     "text": [
      "english\n",
      "tamil\n",
      "french\n",
      "arabic\n"
     ]
    }
   ],
   "source": [
    "languages=[\"english\",\"tamil\",\"french\",\"arabic\"]\n",
    "for lang in languages:\n",
    " print(lang)"
   ]
  },
  {
   "cell_type": "markdown",
   "id": "2647f967",
   "metadata": {},
   "source": [
    "//python for loop//\n",
    "\n"
   ]
  },
  {
   "cell_type": "code",
   "execution_count": 8,
   "id": "ca73ea04",
   "metadata": {},
   "outputs": [
    {
     "name": "stdout",
     "output_type": "stream",
     "text": [
      "enter any text:sowmya\n",
      "s\n",
      "o\n",
      "w\n",
      "m\n",
      "y\n",
      "a\n"
     ]
    }
   ],
   "source": [
    "a=str(input(\"enter any text:\"))\n",
    "for x in a:\n",
    "    print(x)\n",
    "    "
   ]
  },
  {
   "cell_type": "code",
   "execution_count": null,
   "id": "686a11ff",
   "metadata": {},
   "outputs": [],
   "source": []
  }
 ],
 "metadata": {
  "kernelspec": {
   "display_name": "Python 3 (ipykernel)",
   "language": "python",
   "name": "python3"
  },
  "language_info": {
   "codemirror_mode": {
    "name": "ipython",
    "version": 3
   },
   "file_extension": ".py",
   "mimetype": "text/x-python",
   "name": "python",
   "nbconvert_exporter": "python",
   "pygments_lexer": "ipython3",
   "version": "3.9.12"
  }
 },
 "nbformat": 4,
 "nbformat_minor": 5
}
