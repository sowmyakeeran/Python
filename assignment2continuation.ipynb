{
 "cells": [
  {
   "cell_type": "markdown",
   "id": "823ad8ed",
   "metadata": {},
   "source": [
    "#minmax in python"
   ]
  },
  {
   "cell_type": "code",
   "execution_count": 1,
   "id": "3a8df077",
   "metadata": {},
   "outputs": [
    {
     "name": "stdout",
     "output_type": "stream",
     "text": [
      "376 is greater\n"
     ]
    }
   ],
   "source": [
    "x=[101,207,376]\n",
    "print(max(x),\"is greater\")\n"
   ]
  },
  {
   "cell_type": "markdown",
   "id": "16dae0d7",
   "metadata": {},
   "source": [
    "#To print multiples of 3 using modulous operator#"
   ]
  },
  {
   "cell_type": "code",
   "execution_count": 5,
   "id": "ef0e7c9c",
   "metadata": {},
   "outputs": [
    {
     "name": "stdout",
     "output_type": "stream",
     "text": [
      "0\n",
      "3\n",
      "6\n",
      "9\n",
      "12\n",
      "15\n",
      "18\n",
      "21\n",
      "24\n",
      "27\n"
     ]
    }
   ],
   "source": [
    "for i in range(0,28):\n",
    "    if(i%3==0):\n",
    "        print(i)\n",
    "        "
   ]
  },
  {
   "cell_type": "markdown",
   "id": "30c2f737",
   "metadata": {},
   "source": [
    "#To print odd numbers using odd function#"
   ]
  },
  {
   "cell_type": "code",
   "execution_count": 54,
   "id": "901ccf21",
   "metadata": {},
   "outputs": [
    {
     "name": "stdout",
     "output_type": "stream",
     "text": [
      "enter any no:35\n",
      "35 is odd\n"
     ]
    }
   ],
   "source": [
    "x=int(input(\"enter any no:\"))\n",
    "if(x%2==0):\n",
    "    print(x,\"is even\")\n",
    "else:\n",
    "    print(x,\"is odd\")\n",
    "    \n",
    "    \n"
   ]
  },
  {
   "cell_type": "code",
   "execution_count": null,
   "id": "15972fcc",
   "metadata": {},
   "outputs": [],
   "source": []
  },
  {
   "cell_type": "code",
   "execution_count": null,
   "id": "8f03a7ca",
   "metadata": {},
   "outputs": [],
   "source": []
  }
 ],
 "metadata": {
  "kernelspec": {
   "display_name": "Python 3 (ipykernel)",
   "language": "python",
   "name": "python3"
  },
  "language_info": {
   "codemirror_mode": {
    "name": "ipython",
    "version": 3
   },
   "file_extension": ".py",
   "mimetype": "text/x-python",
   "name": "python",
   "nbconvert_exporter": "python",
   "pygments_lexer": "ipython3",
   "version": "3.9.12"
  }
 },
 "nbformat": 4,
 "nbformat_minor": 5
}
