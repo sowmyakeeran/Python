{
 "cells": [
  {
   "cell_type": "markdown",
   "id": "2ff35291",
   "metadata": {},
   "source": [
    "#print your present age using fuction#"
   ]
  },
  {
   "cell_type": "code",
   "execution_count": 1,
   "id": "0aeb68eb",
   "metadata": {},
   "outputs": [],
   "source": [
    "def age():\n",
    "    presentyear =int(input(\"enter your birth year:\"))\n",
    "    birthyear=int(input(\"enter your present year:\"))\n",
    "    formula=birthyear-presentyear\n",
    "    print(\"birthyear-presentyear\")\n",
    "    print(\"presentAge:\",formula)"
   ]
  },
  {
   "cell_type": "code",
   "execution_count": null,
   "id": "7f2e8981",
   "metadata": {},
   "outputs": [],
   "source": [
    "age()"
   ]
  },
  {
   "cell_type": "markdown",
   "id": "0fd33937",
   "metadata": {},
   "source": [
    "#print area and perimeter of square#"
   ]
  },
  {
   "cell_type": "code",
   "execution_count": 20,
   "id": "9d26c5a9",
   "metadata": {},
   "outputs": [],
   "source": [
    "def area():\n",
    "    side=4\n",
    "    print('side:',side)\n",
    "    Areaformula=side*side\n",
    "    print('Areaformula=side*side')\n",
    "    print('Areaformula=',Areaformula)\n",
    "    perimeter=4*side\n",
    "    print('perimeter=4*side')\n",
    "    print('perimeter of square:',perimeter)\n"
   ]
  },
  {
   "cell_type": "code",
   "execution_count": 21,
   "id": "1792c2e1",
   "metadata": {},
   "outputs": [
    {
     "name": "stdout",
     "output_type": "stream",
     "text": [
      "side: 4\n",
      "Areaformula=side*side\n",
      "Areaformula= 16\n",
      "perimeter=4*side\n",
      "perimeter of square: 16\n"
     ]
    }
   ],
   "source": [
    "area()"
   ]
  },
  {
   "cell_type": "markdown",
   "id": "0caf8daf",
   "metadata": {},
   "source": [
    "#create function to calculate simple linear using formula#\n"
   ]
  },
  {
   "cell_type": "code",
   "execution_count": 42,
   "id": "9f346f8d",
   "metadata": {},
   "outputs": [],
   "source": [
    "def linear():\n",
    "    weight=45\n",
    "    inputt =15\n",
    "    Biasvalue=5\n",
    "    SimpleLinear=weight*inputt+Biasvalue\n",
    "    print('weight:',weight,'\\nInput:',inputt,'\\nBiasvalue:',Biasvalue)\n",
    "    print('SimpleLinear:',SimpleLinear)"
   ]
  },
  {
   "cell_type": "code",
   "execution_count": 43,
   "id": "aa8de98d",
   "metadata": {},
   "outputs": [
    {
     "name": "stdout",
     "output_type": "stream",
     "text": [
      "weight: 45 \n",
      "Input: 15 \n",
      "Biasvalue: 5\n",
      "SimpleLinear: 680\n"
     ]
    }
   ],
   "source": [
    "linear()"
   ]
  },
  {
   "cell_type": "code",
   "execution_count": null,
   "id": "59ce7e94",
   "metadata": {},
   "outputs": [],
   "source": []
  }
 ],
 "metadata": {
  "kernelspec": {
   "display_name": "Python 3 (ipykernel)",
   "language": "python",
   "name": "python3"
  },
  "language_info": {
   "codemirror_mode": {
    "name": "ipython",
    "version": 3
   },
   "file_extension": ".py",
   "mimetype": "text/x-python",
   "name": "python",
   "nbconvert_exporter": "python",
   "pygments_lexer": "ipython3",
   "version": "3.9.12"
  }
 },
 "nbformat": 4,
 "nbformat_minor": 5
}
