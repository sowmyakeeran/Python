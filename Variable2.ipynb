{
 "cells": [
  {
   "cell_type": "code",
   "execution_count": 3,
   "id": "b31ad264",
   "metadata": {},
   "outputs": [
    {
     "name": "stdout",
     "output_type": "stream",
     "text": [
      "The radius of the circle is:2\n",
      "The pi value is3.14\n",
      "The area of the circle formula:pi*r*r\n",
      "The area of the circle is: 12.56\n"
     ]
    }
   ],
   "source": [
    "r=2\n",
    "pi=3.14\n",
    "print(\"The radius of the circle is:2\")\n",
    "print(\"The pi value is3.14\")\n",
    "area=(r*r*pi)\n",
    "print(\"The area of the circle formula:pi*r*r\")\n",
    "\n",
    "print(\"The area of the circle is:\",area)"
   ]
  },
  {
   "cell_type": "code",
   "execution_count": 4,
   "id": "89e09f11",
   "metadata": {},
   "outputs": [
    {
     "name": "stdout",
     "output_type": "stream",
     "text": [
      "The radius of the circle 2\n",
      "The pi value is 3.14\n",
      "The area of the circle formula:pi*r*r\n",
      "The area of the circle 12.56\n"
     ]
    }
   ],
   "source": [
    "r=2\n",
    "print(\"The radius of the circle\",r)\n",
    "pi=3.14\n",
    "print(\"The pi value is\",pi)\n",
    "print(\"The area of the circle formula:pi*r*r\")\n",
    "area=(r*r*pi)\n",
    "print(\"The area of the circle\",area)\n"
   ]
  }
 ],
 "metadata": {
  "kernelspec": {
   "display_name": "Python 3 (ipykernel)",
   "language": "python",
   "name": "python3"
  },
  "language_info": {
   "codemirror_mode": {
    "name": "ipython",
    "version": 3
   },
   "file_extension": ".py",
   "mimetype": "text/x-python",
   "name": "python",
   "nbconvert_exporter": "python",
   "pygments_lexer": "ipython3",
   "version": "3.9.12"
  }
 },
 "nbformat": 4,
 "nbformat_minor": 5
}
