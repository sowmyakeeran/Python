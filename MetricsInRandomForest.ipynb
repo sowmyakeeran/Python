{
 "cells": [
  {
   "cell_type": "markdown",
   "id": "d1d4a7bd",
   "metadata": {},
   "source": [
    " STEP1: Importing the Libraies"
   ]
  },
  {
   "cell_type": "code",
   "execution_count": 27,
   "id": "edbca88f",
   "metadata": {},
   "outputs": [],
   "source": [
    "\n",
    "import numpy as np\n",
    "import matplotlib.pyplot as plt\n",
    "import pandas as pd\n"
   ]
  },
  {
   "cell_type": "markdown",
   "id": "c4aae3cc",
   "metadata": {},
   "source": [
    "STEP2: Loding the Dataset"
   ]
  },
  {
   "cell_type": "code",
   "execution_count": 28,
   "id": "a8ed115c",
   "metadata": {},
   "outputs": [],
   "source": [
    "dataset = pd.read_csv('http://raw.githubusercontent.com/RamishaRaniK/dataset/main/insurance_pre.csv')"
   ]
  },
  {
   "cell_type": "code",
   "execution_count": 29,
   "id": "8f032bc3",
   "metadata": {},
   "outputs": [
    {
     "data": {
      "text/html": [
       "<div>\n",
       "<style scoped>\n",
       "    .dataframe tbody tr th:only-of-type {\n",
       "        vertical-align: middle;\n",
       "    }\n",
       "\n",
       "    .dataframe tbody tr th {\n",
       "        vertical-align: top;\n",
       "    }\n",
       "\n",
       "    .dataframe thead th {\n",
       "        text-align: right;\n",
       "    }\n",
       "</style>\n",
       "<table border=\"1\" class=\"dataframe\">\n",
       "  <thead>\n",
       "    <tr style=\"text-align: right;\">\n",
       "      <th></th>\n",
       "      <th>age</th>\n",
       "      <th>sex</th>\n",
       "      <th>bmi</th>\n",
       "      <th>children</th>\n",
       "      <th>smoker</th>\n",
       "      <th>charges</th>\n",
       "    </tr>\n",
       "  </thead>\n",
       "  <tbody>\n",
       "    <tr>\n",
       "      <th>0</th>\n",
       "      <td>19</td>\n",
       "      <td>female</td>\n",
       "      <td>27.900</td>\n",
       "      <td>0</td>\n",
       "      <td>yes</td>\n",
       "      <td>16884.92400</td>\n",
       "    </tr>\n",
       "    <tr>\n",
       "      <th>1</th>\n",
       "      <td>18</td>\n",
       "      <td>male</td>\n",
       "      <td>33.770</td>\n",
       "      <td>1</td>\n",
       "      <td>no</td>\n",
       "      <td>1725.55230</td>\n",
       "    </tr>\n",
       "    <tr>\n",
       "      <th>2</th>\n",
       "      <td>28</td>\n",
       "      <td>male</td>\n",
       "      <td>33.000</td>\n",
       "      <td>3</td>\n",
       "      <td>no</td>\n",
       "      <td>4449.46200</td>\n",
       "    </tr>\n",
       "    <tr>\n",
       "      <th>3</th>\n",
       "      <td>33</td>\n",
       "      <td>male</td>\n",
       "      <td>22.705</td>\n",
       "      <td>0</td>\n",
       "      <td>no</td>\n",
       "      <td>21984.47061</td>\n",
       "    </tr>\n",
       "    <tr>\n",
       "      <th>4</th>\n",
       "      <td>32</td>\n",
       "      <td>male</td>\n",
       "      <td>28.880</td>\n",
       "      <td>0</td>\n",
       "      <td>no</td>\n",
       "      <td>3866.85520</td>\n",
       "    </tr>\n",
       "    <tr>\n",
       "      <th>...</th>\n",
       "      <td>...</td>\n",
       "      <td>...</td>\n",
       "      <td>...</td>\n",
       "      <td>...</td>\n",
       "      <td>...</td>\n",
       "      <td>...</td>\n",
       "    </tr>\n",
       "    <tr>\n",
       "      <th>1333</th>\n",
       "      <td>50</td>\n",
       "      <td>male</td>\n",
       "      <td>30.970</td>\n",
       "      <td>3</td>\n",
       "      <td>no</td>\n",
       "      <td>10600.54830</td>\n",
       "    </tr>\n",
       "    <tr>\n",
       "      <th>1334</th>\n",
       "      <td>18</td>\n",
       "      <td>female</td>\n",
       "      <td>31.920</td>\n",
       "      <td>0</td>\n",
       "      <td>no</td>\n",
       "      <td>2205.98080</td>\n",
       "    </tr>\n",
       "    <tr>\n",
       "      <th>1335</th>\n",
       "      <td>18</td>\n",
       "      <td>female</td>\n",
       "      <td>36.850</td>\n",
       "      <td>0</td>\n",
       "      <td>no</td>\n",
       "      <td>1629.83350</td>\n",
       "    </tr>\n",
       "    <tr>\n",
       "      <th>1336</th>\n",
       "      <td>21</td>\n",
       "      <td>female</td>\n",
       "      <td>25.800</td>\n",
       "      <td>0</td>\n",
       "      <td>no</td>\n",
       "      <td>2007.94500</td>\n",
       "    </tr>\n",
       "    <tr>\n",
       "      <th>1337</th>\n",
       "      <td>61</td>\n",
       "      <td>female</td>\n",
       "      <td>29.070</td>\n",
       "      <td>0</td>\n",
       "      <td>yes</td>\n",
       "      <td>29141.36030</td>\n",
       "    </tr>\n",
       "  </tbody>\n",
       "</table>\n",
       "<p>1338 rows × 6 columns</p>\n",
       "</div>"
      ],
      "text/plain": [
       "      age     sex     bmi  children smoker      charges\n",
       "0      19  female  27.900         0    yes  16884.92400\n",
       "1      18    male  33.770         1     no   1725.55230\n",
       "2      28    male  33.000         3     no   4449.46200\n",
       "3      33    male  22.705         0     no  21984.47061\n",
       "4      32    male  28.880         0     no   3866.85520\n",
       "...   ...     ...     ...       ...    ...          ...\n",
       "1333   50    male  30.970         3     no  10600.54830\n",
       "1334   18  female  31.920         0     no   2205.98080\n",
       "1335   18  female  36.850         0     no   1629.83350\n",
       "1336   21  female  25.800         0     no   2007.94500\n",
       "1337   61  female  29.070         0    yes  29141.36030\n",
       "\n",
       "[1338 rows x 6 columns]"
      ]
     },
     "execution_count": 29,
     "metadata": {},
     "output_type": "execute_result"
    }
   ],
   "source": [
    "dataset"
   ]
  },
  {
   "cell_type": "markdown",
   "id": "45eb33b5",
   "metadata": {},
   "source": [
    "STEP:3 get_dummies() TO CONVERT STRING DATA INTO BYTESTREAM(0'S &1'S)"
   ]
  },
  {
   "cell_type": "code",
   "execution_count": 30,
   "id": "9cdd1fad",
   "metadata": {},
   "outputs": [],
   "source": [
    "datasets=pd.get_dummies(dataset,drop_first=True)"
   ]
  },
  {
   "cell_type": "code",
   "execution_count": 31,
   "id": "0a82e72f",
   "metadata": {},
   "outputs": [
    {
     "data": {
      "text/html": [
       "<div>\n",
       "<style scoped>\n",
       "    .dataframe tbody tr th:only-of-type {\n",
       "        vertical-align: middle;\n",
       "    }\n",
       "\n",
       "    .dataframe tbody tr th {\n",
       "        vertical-align: top;\n",
       "    }\n",
       "\n",
       "    .dataframe thead th {\n",
       "        text-align: right;\n",
       "    }\n",
       "</style>\n",
       "<table border=\"1\" class=\"dataframe\">\n",
       "  <thead>\n",
       "    <tr style=\"text-align: right;\">\n",
       "      <th></th>\n",
       "      <th>age</th>\n",
       "      <th>bmi</th>\n",
       "      <th>children</th>\n",
       "      <th>charges</th>\n",
       "      <th>sex_male</th>\n",
       "      <th>smoker_yes</th>\n",
       "    </tr>\n",
       "  </thead>\n",
       "  <tbody>\n",
       "    <tr>\n",
       "      <th>0</th>\n",
       "      <td>19</td>\n",
       "      <td>27.900</td>\n",
       "      <td>0</td>\n",
       "      <td>16884.92400</td>\n",
       "      <td>0</td>\n",
       "      <td>1</td>\n",
       "    </tr>\n",
       "    <tr>\n",
       "      <th>1</th>\n",
       "      <td>18</td>\n",
       "      <td>33.770</td>\n",
       "      <td>1</td>\n",
       "      <td>1725.55230</td>\n",
       "      <td>1</td>\n",
       "      <td>0</td>\n",
       "    </tr>\n",
       "    <tr>\n",
       "      <th>2</th>\n",
       "      <td>28</td>\n",
       "      <td>33.000</td>\n",
       "      <td>3</td>\n",
       "      <td>4449.46200</td>\n",
       "      <td>1</td>\n",
       "      <td>0</td>\n",
       "    </tr>\n",
       "    <tr>\n",
       "      <th>3</th>\n",
       "      <td>33</td>\n",
       "      <td>22.705</td>\n",
       "      <td>0</td>\n",
       "      <td>21984.47061</td>\n",
       "      <td>1</td>\n",
       "      <td>0</td>\n",
       "    </tr>\n",
       "    <tr>\n",
       "      <th>4</th>\n",
       "      <td>32</td>\n",
       "      <td>28.880</td>\n",
       "      <td>0</td>\n",
       "      <td>3866.85520</td>\n",
       "      <td>1</td>\n",
       "      <td>0</td>\n",
       "    </tr>\n",
       "    <tr>\n",
       "      <th>...</th>\n",
       "      <td>...</td>\n",
       "      <td>...</td>\n",
       "      <td>...</td>\n",
       "      <td>...</td>\n",
       "      <td>...</td>\n",
       "      <td>...</td>\n",
       "    </tr>\n",
       "    <tr>\n",
       "      <th>1333</th>\n",
       "      <td>50</td>\n",
       "      <td>30.970</td>\n",
       "      <td>3</td>\n",
       "      <td>10600.54830</td>\n",
       "      <td>1</td>\n",
       "      <td>0</td>\n",
       "    </tr>\n",
       "    <tr>\n",
       "      <th>1334</th>\n",
       "      <td>18</td>\n",
       "      <td>31.920</td>\n",
       "      <td>0</td>\n",
       "      <td>2205.98080</td>\n",
       "      <td>0</td>\n",
       "      <td>0</td>\n",
       "    </tr>\n",
       "    <tr>\n",
       "      <th>1335</th>\n",
       "      <td>18</td>\n",
       "      <td>36.850</td>\n",
       "      <td>0</td>\n",
       "      <td>1629.83350</td>\n",
       "      <td>0</td>\n",
       "      <td>0</td>\n",
       "    </tr>\n",
       "    <tr>\n",
       "      <th>1336</th>\n",
       "      <td>21</td>\n",
       "      <td>25.800</td>\n",
       "      <td>0</td>\n",
       "      <td>2007.94500</td>\n",
       "      <td>0</td>\n",
       "      <td>0</td>\n",
       "    </tr>\n",
       "    <tr>\n",
       "      <th>1337</th>\n",
       "      <td>61</td>\n",
       "      <td>29.070</td>\n",
       "      <td>0</td>\n",
       "      <td>29141.36030</td>\n",
       "      <td>0</td>\n",
       "      <td>1</td>\n",
       "    </tr>\n",
       "  </tbody>\n",
       "</table>\n",
       "<p>1338 rows × 6 columns</p>\n",
       "</div>"
      ],
      "text/plain": [
       "      age     bmi  children      charges  sex_male  smoker_yes\n",
       "0      19  27.900         0  16884.92400         0           1\n",
       "1      18  33.770         1   1725.55230         1           0\n",
       "2      28  33.000         3   4449.46200         1           0\n",
       "3      33  22.705         0  21984.47061         1           0\n",
       "4      32  28.880         0   3866.85520         1           0\n",
       "...   ...     ...       ...          ...       ...         ...\n",
       "1333   50  30.970         3  10600.54830         1           0\n",
       "1334   18  31.920         0   2205.98080         0           0\n",
       "1335   18  36.850         0   1629.83350         0           0\n",
       "1336   21  25.800         0   2007.94500         0           0\n",
       "1337   61  29.070         0  29141.36030         0           1\n",
       "\n",
       "[1338 rows x 6 columns]"
      ]
     },
     "execution_count": 31,
     "metadata": {},
     "output_type": "execute_result"
    }
   ],
   "source": [
    "datasets"
   ]
  },
  {
   "cell_type": "markdown",
   "id": "61a3f99d",
   "metadata": {},
   "source": [
    "STEP:4 ASSINGING INPUT AND OUTPUT DATA"
   ]
  },
  {
   "cell_type": "code",
   "execution_count": 32,
   "id": "488be459",
   "metadata": {},
   "outputs": [
    {
     "data": {
      "text/plain": [
       "Index(['age', 'bmi', 'children', 'charges', 'sex_male', 'smoker_yes'], dtype='object')"
      ]
     },
     "execution_count": 32,
     "metadata": {},
     "output_type": "execute_result"
    }
   ],
   "source": [
    "datasets.columns"
   ]
  },
  {
   "cell_type": "code",
   "execution_count": 33,
   "id": "16c6f5f5",
   "metadata": {},
   "outputs": [],
   "source": [
    "indep=datasets[['age', 'bmi', 'children', 'sex_male', 'smoker_yes']]\n",
    "\n",
    "dep=datasets[['charges']]"
   ]
  },
  {
   "cell_type": "code",
   "execution_count": 34,
   "id": "13cd6f3e",
   "metadata": {},
   "outputs": [
    {
     "data": {
      "text/html": [
       "<div>\n",
       "<style scoped>\n",
       "    .dataframe tbody tr th:only-of-type {\n",
       "        vertical-align: middle;\n",
       "    }\n",
       "\n",
       "    .dataframe tbody tr th {\n",
       "        vertical-align: top;\n",
       "    }\n",
       "\n",
       "    .dataframe thead th {\n",
       "        text-align: right;\n",
       "    }\n",
       "</style>\n",
       "<table border=\"1\" class=\"dataframe\">\n",
       "  <thead>\n",
       "    <tr style=\"text-align: right;\">\n",
       "      <th></th>\n",
       "      <th>age</th>\n",
       "      <th>bmi</th>\n",
       "      <th>children</th>\n",
       "      <th>sex_male</th>\n",
       "      <th>smoker_yes</th>\n",
       "    </tr>\n",
       "  </thead>\n",
       "  <tbody>\n",
       "    <tr>\n",
       "      <th>0</th>\n",
       "      <td>19</td>\n",
       "      <td>27.900</td>\n",
       "      <td>0</td>\n",
       "      <td>0</td>\n",
       "      <td>1</td>\n",
       "    </tr>\n",
       "    <tr>\n",
       "      <th>1</th>\n",
       "      <td>18</td>\n",
       "      <td>33.770</td>\n",
       "      <td>1</td>\n",
       "      <td>1</td>\n",
       "      <td>0</td>\n",
       "    </tr>\n",
       "    <tr>\n",
       "      <th>2</th>\n",
       "      <td>28</td>\n",
       "      <td>33.000</td>\n",
       "      <td>3</td>\n",
       "      <td>1</td>\n",
       "      <td>0</td>\n",
       "    </tr>\n",
       "    <tr>\n",
       "      <th>3</th>\n",
       "      <td>33</td>\n",
       "      <td>22.705</td>\n",
       "      <td>0</td>\n",
       "      <td>1</td>\n",
       "      <td>0</td>\n",
       "    </tr>\n",
       "    <tr>\n",
       "      <th>4</th>\n",
       "      <td>32</td>\n",
       "      <td>28.880</td>\n",
       "      <td>0</td>\n",
       "      <td>1</td>\n",
       "      <td>0</td>\n",
       "    </tr>\n",
       "    <tr>\n",
       "      <th>...</th>\n",
       "      <td>...</td>\n",
       "      <td>...</td>\n",
       "      <td>...</td>\n",
       "      <td>...</td>\n",
       "      <td>...</td>\n",
       "    </tr>\n",
       "    <tr>\n",
       "      <th>1333</th>\n",
       "      <td>50</td>\n",
       "      <td>30.970</td>\n",
       "      <td>3</td>\n",
       "      <td>1</td>\n",
       "      <td>0</td>\n",
       "    </tr>\n",
       "    <tr>\n",
       "      <th>1334</th>\n",
       "      <td>18</td>\n",
       "      <td>31.920</td>\n",
       "      <td>0</td>\n",
       "      <td>0</td>\n",
       "      <td>0</td>\n",
       "    </tr>\n",
       "    <tr>\n",
       "      <th>1335</th>\n",
       "      <td>18</td>\n",
       "      <td>36.850</td>\n",
       "      <td>0</td>\n",
       "      <td>0</td>\n",
       "      <td>0</td>\n",
       "    </tr>\n",
       "    <tr>\n",
       "      <th>1336</th>\n",
       "      <td>21</td>\n",
       "      <td>25.800</td>\n",
       "      <td>0</td>\n",
       "      <td>0</td>\n",
       "      <td>0</td>\n",
       "    </tr>\n",
       "    <tr>\n",
       "      <th>1337</th>\n",
       "      <td>61</td>\n",
       "      <td>29.070</td>\n",
       "      <td>0</td>\n",
       "      <td>0</td>\n",
       "      <td>1</td>\n",
       "    </tr>\n",
       "  </tbody>\n",
       "</table>\n",
       "<p>1338 rows × 5 columns</p>\n",
       "</div>"
      ],
      "text/plain": [
       "      age     bmi  children  sex_male  smoker_yes\n",
       "0      19  27.900         0         0           1\n",
       "1      18  33.770         1         1           0\n",
       "2      28  33.000         3         1           0\n",
       "3      33  22.705         0         1           0\n",
       "4      32  28.880         0         1           0\n",
       "...   ...     ...       ...       ...         ...\n",
       "1333   50  30.970         3         1           0\n",
       "1334   18  31.920         0         0           0\n",
       "1335   18  36.850         0         0           0\n",
       "1336   21  25.800         0         0           0\n",
       "1337   61  29.070         0         0           1\n",
       "\n",
       "[1338 rows x 5 columns]"
      ]
     },
     "execution_count": 34,
     "metadata": {},
     "output_type": "execute_result"
    }
   ],
   "source": [
    "indep"
   ]
  },
  {
   "cell_type": "code",
   "execution_count": 35,
   "id": "daedfdd1",
   "metadata": {},
   "outputs": [
    {
     "data": {
      "text/html": [
       "<div>\n",
       "<style scoped>\n",
       "    .dataframe tbody tr th:only-of-type {\n",
       "        vertical-align: middle;\n",
       "    }\n",
       "\n",
       "    .dataframe tbody tr th {\n",
       "        vertical-align: top;\n",
       "    }\n",
       "\n",
       "    .dataframe thead th {\n",
       "        text-align: right;\n",
       "    }\n",
       "</style>\n",
       "<table border=\"1\" class=\"dataframe\">\n",
       "  <thead>\n",
       "    <tr style=\"text-align: right;\">\n",
       "      <th></th>\n",
       "      <th>charges</th>\n",
       "    </tr>\n",
       "  </thead>\n",
       "  <tbody>\n",
       "    <tr>\n",
       "      <th>0</th>\n",
       "      <td>16884.92400</td>\n",
       "    </tr>\n",
       "    <tr>\n",
       "      <th>1</th>\n",
       "      <td>1725.55230</td>\n",
       "    </tr>\n",
       "    <tr>\n",
       "      <th>2</th>\n",
       "      <td>4449.46200</td>\n",
       "    </tr>\n",
       "    <tr>\n",
       "      <th>3</th>\n",
       "      <td>21984.47061</td>\n",
       "    </tr>\n",
       "    <tr>\n",
       "      <th>4</th>\n",
       "      <td>3866.85520</td>\n",
       "    </tr>\n",
       "    <tr>\n",
       "      <th>...</th>\n",
       "      <td>...</td>\n",
       "    </tr>\n",
       "    <tr>\n",
       "      <th>1333</th>\n",
       "      <td>10600.54830</td>\n",
       "    </tr>\n",
       "    <tr>\n",
       "      <th>1334</th>\n",
       "      <td>2205.98080</td>\n",
       "    </tr>\n",
       "    <tr>\n",
       "      <th>1335</th>\n",
       "      <td>1629.83350</td>\n",
       "    </tr>\n",
       "    <tr>\n",
       "      <th>1336</th>\n",
       "      <td>2007.94500</td>\n",
       "    </tr>\n",
       "    <tr>\n",
       "      <th>1337</th>\n",
       "      <td>29141.36030</td>\n",
       "    </tr>\n",
       "  </tbody>\n",
       "</table>\n",
       "<p>1338 rows × 1 columns</p>\n",
       "</div>"
      ],
      "text/plain": [
       "          charges\n",
       "0     16884.92400\n",
       "1      1725.55230\n",
       "2      4449.46200\n",
       "3     21984.47061\n",
       "4      3866.85520\n",
       "...           ...\n",
       "1333  10600.54830\n",
       "1334   2205.98080\n",
       "1335   1629.83350\n",
       "1336   2007.94500\n",
       "1337  29141.36030\n",
       "\n",
       "[1338 rows x 1 columns]"
      ]
     },
     "execution_count": 35,
     "metadata": {},
     "output_type": "execute_result"
    }
   ],
   "source": [
    "dep"
   ]
  },
  {
   "cell_type": "markdown",
   "id": "9dcc723e",
   "metadata": {},
   "source": [
    "STEP: 5 SPLITING TRAIN/TEST DATA"
   ]
  },
  {
   "cell_type": "code",
   "execution_count": 36,
   "id": "52c5fada",
   "metadata": {},
   "outputs": [],
   "source": [
    "#spliting train /test set\n",
    "from sklearn.model_selection import train_test_split\n",
    "x_train,x_test,y_train,y_test=train_test_split(indep,dep,test_size=1/3,random_state=0)"
   ]
  },
  {
   "cell_type": "markdown",
   "id": "f1055627",
   "metadata": {},
   "source": [
    " STEP:6  MODEL svm"
   ]
  },
  {
   "cell_type": "code",
   "execution_count": 39,
   "id": "f913c48d",
   "metadata": {},
   "outputs": [
    {
     "name": "stdout",
     "output_type": "stream",
     "text": [
      "Fitting 5 folds for each of 12 candidates, totalling 60 fits\n"
     ]
    },
    {
     "name": "stderr",
     "output_type": "stream",
     "text": [
      "C:\\Users\\Yaazh\\anaconda3\\envs\\ai\\lib\\site-packages\\sklearn\\model_selection\\_search.py:926: DataConversionWarning: A column-vector y was passed when a 1d array was expected. Please change the shape of y to (n_samples,), for example using ravel().\n",
      "  self.best_estimator_.fit(X, y, **fit_params)\n",
      "C:\\Users\\Yaazh\\anaconda3\\envs\\ai\\lib\\site-packages\\sklearn\\ensemble\\_forest.py:400: FutureWarning: Criterion 'mse' was deprecated in v1.0 and will be removed in version 1.2. Use `criterion='squared_error'` which is equivalent.\n",
      "  FutureWarning,\n"
     ]
    },
    {
     "data": {
      "text/plain": [
       "GridSearchCV(estimator=RandomForestRegressor(), n_jobs=-1,\n",
       "             param_grid={'criterion': ['mse', 'mae'],\n",
       "                         'max_features': ['auto', 'sqrt', 'log2'],\n",
       "                         'n_estimators': [10, 100]},\n",
       "             verbose=3)"
      ]
     },
     "execution_count": 39,
     "metadata": {},
     "output_type": "execute_result"
    }
   ],
   "source": [
    "from sklearn.ensemble import RandomForestRegressor\n",
    "from sklearn.model_selection import GridSearchCV\n",
    "param_grid={'criterion':['mse','mae'],\n",
    "            'max_features':['auto','sqrt','log2'],\n",
    "            'n_estimators':[10,100]\n",
    "           }\n",
    "grid=GridSearchCV(RandomForestRegressor(),param_grid,refit=True,verbose=3,n_jobs=-1)\n",
    "grid.fit(x_train,y_train)\n",
    "                \n",
    "                   \n",
    "                 \n",
    "                \n"
   ]
  },
  {
   "cell_type": "code",
   "execution_count": null,
   "id": "01f6e4f9",
   "metadata": {},
   "outputs": [],
   "source": []
  },
  {
   "cell_type": "markdown",
   "id": "0685a02b",
   "metadata": {},
   "source": [
    " STEP:8 PREDICTION"
   ]
  },
  {
   "cell_type": "code",
   "execution_count": 50,
   "id": "5a4a31bf",
   "metadata": {},
   "outputs": [],
   "source": [
    "y_pred=grid.predict(x_test)"
   ]
  },
  {
   "cell_type": "code",
   "execution_count": 41,
   "id": "6c8fbd65",
   "metadata": {},
   "outputs": [
    {
     "data": {
      "text/plain": [
       "array([11484.2830058 , 11512.0138988 , 44485.890245  , 13409.265274  ,\n",
       "        9336.839947  , 11329.724309  ,  1830.74274   , 10710.9025414 ,\n",
       "        8039.2212844 ,  5656.455726  ,  7808.316642  , 16852.7628186 ,\n",
       "        9259.9964866 ,  6599.5527894 , 25059.075536  , 11459.6631794 ,\n",
       "       13040.0162554 ,  3274.803959  ,  6385.131482  , 34151.635594  ,\n",
       "       23530.223396  , 14135.2680734 , 11859.5352416 , 28194.1937832 ,\n",
       "        2384.6883586 ,  5398.4094952 ,  5236.6325502 ,  7761.579981  ,\n",
       "        3732.934409  ,  9649.6577796 ,  7671.1479966 , 48378.2082956 ,\n",
       "       14269.443936  , 13197.0172588 , 16270.6060898 ,  3649.502618  ,\n",
       "       10304.6630602 , 37501.6785908 , 39585.812568  ,  3513.7132998 ,\n",
       "        9820.8623024 ,  3842.7194524 , 20595.165985  , 47229.429113  ,\n",
       "       37297.8497556 ,  3934.3224802 , 12159.6166084 ,  6550.6072    ,\n",
       "        4538.962989  , 12973.9636954 ,  4409.8816506 ,  4953.5585608 ,\n",
       "       26187.7448582 , 48372.1797456 , 11891.324676  , 10995.4049914 ,\n",
       "        5309.9136054 , 10169.5463126 , 10748.7514764 , 15255.3758038 ,\n",
       "        1618.924818  , 47194.128934  , 16516.2793214 , 17229.4632908 ,\n",
       "       13370.495441  ,  9887.922418  , 33731.54007   , 43074.5890244 ,\n",
       "        3484.1387388 , 13003.7566676 , 19386.3355004 , 12118.4802584 ,\n",
       "       17116.7769432 , 13851.995235  , 13326.7800974 , 15430.00755   ,\n",
       "        8315.3498066 , 13934.7162362 , 19653.910273  , 46529.920029  ,\n",
       "       11535.047038  , 50120.6130368 ,  1899.941776  , 11560.7174934 ,\n",
       "       40962.0624762 , 19165.971646  ,  4455.8836704 ,  2771.713766  ,\n",
       "       13213.2614634 , 42175.5849892 ,  5447.625698  , 14577.706064  ,\n",
       "        2830.44506   , 10948.2833228 ,  8199.33207   ,  4194.051393  ,\n",
       "       42891.100982  , 53129.07105   ,  5651.3894604 , 11033.911756  ,\n",
       "        3070.385077  ,  7489.0760754 ,  9367.8755302 , 40999.5168372 ,\n",
       "       27372.1996708 ,  3829.1207422 , 11053.23221   ,  8684.6173076 ,\n",
       "       12106.4432566 , 45116.40599   , 12544.60942   ,  6829.5633942 ,\n",
       "       10137.0444628 , 34405.015391  , 48009.8915056 ,  7136.8936488 ,\n",
       "        3150.420474  ,  9845.6896308 , 21948.188144  ,  9750.599778  ,\n",
       "       41889.7229286 , 12387.6502522 , 14584.019206  , 10503.4097812 ,\n",
       "       12105.8595592 ,  4757.593547  , 25368.6352308 , 24739.6869588 ,\n",
       "       47872.745975  ,  1559.49177   , 18196.381975  ,  2819.9660958 ,\n",
       "        6407.099918  ,  8987.125345  , 43140.8323624 , 37764.5451312 ,\n",
       "       23286.8928262 , 13060.5076324 , 24099.9210722 ,  9319.247576  ,\n",
       "        2009.338209  , 14994.8769108 , 11551.1894458 , 10605.2968454 ,\n",
       "        6648.974039  , 14241.373097  , 23195.8352086 , 13172.413341  ,\n",
       "        1572.582846  , 12799.0718756 ,  6124.970113  , 39004.939372  ,\n",
       "       10419.2824854 ,  6906.9198726 ,  3130.959551  , 10047.0437136 ,\n",
       "        2781.2516658 ,  5925.3764584 , 11459.6631794 , 11519.9830254 ,\n",
       "       12701.917123  , 13437.659778  , 14149.1119562 ,  9110.609711  ,\n",
       "        4533.7958574 , 12617.4682142 , 17400.1492224 ,  6274.9056246 ,\n",
       "        4322.631784  ,  1769.714209  , 11085.180555  ,  6516.5778752 ,\n",
       "       10443.2965988 ,  2985.8312126 , 15306.7928632 , 12662.2802622 ,\n",
       "        5336.0297674 ,  7140.3589996 , 27123.252615  ,  1718.143111  ,\n",
       "       14765.4763158 ,  6781.331426  , 11550.456137  ,  8032.8717996 ,\n",
       "        9132.0447142 , 28419.567719  ,  1905.411194  ,  4102.2076142 ,\n",
       "       14200.227284  , 11095.50011   , 41628.998284  ,  6129.6346402 ,\n",
       "        5439.774182  , 25419.5519156 ,  4114.2444728 ,  2404.747759  ,\n",
       "        9854.685364  ,  5863.267774  , 10754.9977788 ,  4400.523947  ,\n",
       "       12614.426326  , 46580.6235654 , 15947.0557322 , 19110.7420094 ,\n",
       "       12926.7759768 , 43860.5947378 ,  4768.5837674 , 10147.3121972 ,\n",
       "        5946.545823  ,  1949.321621  ,  9038.1475808 , 13642.249855  ,\n",
       "        7030.4301204 ,  4816.927447  ,  6500.409083  , 10128.0129616 ,\n",
       "        7220.0131058 ,  6195.9246684 , 14436.7494706 ,  7188.4372456 ,\n",
       "       16910.6824238 ,  8011.3323178 , 12523.358949  ,  9578.426186  ,\n",
       "       14064.4176894 , 14342.045036  , 21645.1766106 , 12595.7714932 ,\n",
       "        7426.0577512 ,  2697.079022  ,  8951.5332998 ,  8203.049469  ,\n",
       "       15703.8005026 ,  6359.9975706 ,  4867.7203278 ,  7169.238783  ,\n",
       "       11699.5976674 , 34617.026726  ,  5850.517247  , 11777.1081724 ,\n",
       "        6203.2948874 , 36310.6543158 ,  8472.9080646 ,  6719.741984  ,\n",
       "       11899.3626034 , 10175.684071  ,  4621.5961006 ,  7764.4031384 ,\n",
       "        2800.0510978 ,  6785.0148686 , 20176.8733638 , 46360.263528  ,\n",
       "        5371.0677108 ,  4342.4117994 , 10041.161754  ,  1576.507426  ,\n",
       "        8602.7319684 ,  3259.54036457, 10505.383952  ,  9296.262456  ,\n",
       "        8713.562149  , 24708.529668  , 45929.627328  , 16553.4272496 ,\n",
       "        6512.767748  , 11495.033947  , 48699.740214  , 11171.6755348 ,\n",
       "       40079.8125894 ,  2020.23666   , 37533.7679176 ,  5683.913307  ,\n",
       "       12743.0435504 ,  6499.4741738 , 40368.0404094 ,  6358.4699208 ,\n",
       "        9847.084056  , 10868.5025124 ,  3127.987779  , 18318.61992   ,\n",
       "       11827.068046  ,  8488.8508714 , 12665.3861252 , 15196.29481   ,\n",
       "        6778.8476234 ,  5066.3496958 ,  9025.526276  , 22260.5990368 ,\n",
       "        4618.825736  ,  1672.396221  ,  2914.4127748 , 46629.055518  ,\n",
       "       11219.1896576 ,  4691.6781048 , 14866.1467882 , 14446.6815242 ,\n",
       "       34593.70933   ,  7177.494787  ,  5236.8118244 ,  8938.0833538 ,\n",
       "        1726.21205   ,  3409.166191  , 20101.906551  , 16963.3609606 ,\n",
       "       13538.036287  ,  2664.744134  ,  3525.8399998 , 13192.1019652 ,\n",
       "       10493.0806036 , 15635.0703428 , 19867.167995  ,  9771.6861098 ,\n",
       "       16818.6066228 ,  2044.835289  , 13644.037072  ,  8259.290464  ,\n",
       "       16518.2071416 ,  2607.6856378 ,  7016.597073  , 46469.579598  ,\n",
       "        3612.8553848 ,  7924.9333528 ,  1841.833963  , 13509.6875918 ,\n",
       "        7681.1949754 , 12183.6482116 , 46360.0173874 , 17518.775161  ,\n",
       "        9057.487186  , 44613.779118  , 13276.0914158 , 13018.13638   ,\n",
       "       10361.7789982 ,  6154.014044  , 28337.464944  ,  4461.537993  ,\n",
       "       13970.0621566 ,  2202.243066  , 16858.1862112 ,  3406.1271868 ,\n",
       "       24467.371573  , 10951.1979292 ,  7457.9819638 , 38771.521502  ,\n",
       "        7474.4128826 ,  5250.846646  , 30519.8586082 ,  1758.56732   ,\n",
       "       10981.8791914 ,  4161.8264398 , 12446.0868274 ,  4590.5967018 ,\n",
       "        7074.2363962 ,  7439.336845  , 45455.9602104 ,  8863.1300334 ,\n",
       "       47181.0773538 , 37099.549208  ,  5850.517247  , 11569.3605216 ,\n",
       "        1683.89599   ,  4883.2206834 ,  3086.684698  , 11327.2073858 ,\n",
       "       45419.348077  , 11256.343787  ,  1940.937569  , 12905.6408658 ,\n",
       "        2631.064756  , 11996.7382876 ,  8166.9846704 ,  2521.762623  ,\n",
       "        3576.9881338 , 36921.36342   ,  6866.2539028 ,  1791.741714  ,\n",
       "       41365.8132104 , 11960.306686  , 43335.3797722 , 11471.944451  ,\n",
       "        6851.9474778 ,  3303.8260136 ,  2112.441792  , 15320.207781  ,\n",
       "        4941.795799  ,  1988.062025  , 11769.5187312 ,  7083.648134  ,\n",
       "        6277.349995  ,  5451.2190282 , 10337.476043  , 46002.9743022 ,\n",
       "        1710.72544   ,  9697.0595038 ,  7910.08923792, 20759.3396416 ,\n",
       "       10998.793469  ,  7710.8839004 , 17394.9152476 , 12723.4143258 ,\n",
       "       20353.7553294 , 19004.831035  ,  7810.96343   ,  7074.146137  ,\n",
       "       14062.577459  ,  8053.8120574 ,  7304.8555698 ,  2672.626926  ,\n",
       "       34231.929659  , 13090.613909  ,  8180.710019  , 13678.111071  ,\n",
       "       16340.0991752 , 13124.1902714 , 47903.9193716 ,  5094.778733  ,\n",
       "       10638.4881938 ,  1733.997068  , 16044.0496172 ,  2095.810377  ,\n",
       "        7372.4303526 ,  1739.457244  , 11877.2828    ,  6667.0359994 ,\n",
       "       11375.588032  , 41018.473137  ,  5548.809747  , 33869.015778  ,\n",
       "       17605.935723  , 11495.033947  , 12950.4195474 , 40000.942592  ,\n",
       "       10929.5812218 ,  3773.977717  ,  9027.392522  , 21039.4366708 ,\n",
       "       39640.3719134 , 18198.3557696 , 10278.9931778 , 39348.798984  ,\n",
       "        6877.3300874 , 17553.7531594 ,  3757.9374488 , 35279.4793254 ,\n",
       "       13418.449427  , 16043.1277428 ])"
      ]
     },
     "execution_count": 41,
     "metadata": {},
     "output_type": "execute_result"
    }
   ],
   "source": [
    "y_pred"
   ]
  },
  {
   "cell_type": "markdown",
   "id": "0f9cfa4d",
   "metadata": {},
   "source": [
    " STEP:9 EVALUTION METRICS"
   ]
  },
  {
   "cell_type": "code",
   "execution_count": 57,
   "id": "0a933db3",
   "metadata": {},
   "outputs": [
    {
     "name": "stdout",
     "output_type": "stream",
     "text": [
      "86.63515814535256 %\n",
      "The r2scorevalue for best parameter{'criterion': 'mse', 'max_features': 'log2', 'n_estimators': 100}: 0.8663515814535256\n"
     ]
    }
   ],
   "source": [
    "from sklearn.metrics import r2_score\n",
    "r_score=r2_score(y_test,y_pred)\n",
    "print(r_score*100,'%')\n",
    "print(\"The r2scorevalue for best parameter{}:\".format(grid.best_params_),r_score)"
   ]
  },
  {
   "cell_type": "code",
   "execution_count": 52,
   "id": "029e0858",
   "metadata": {},
   "outputs": [
    {
     "name": "stdout",
     "output_type": "stream",
     "text": [
      "277827.9970180102 %\n"
     ]
    }
   ],
   "source": [
    "from sklearn.metrics import mean_absolute_error\n",
    "accuracy=mean_absolute_error(y_test,y_pred)\n",
    "print(accuracy*100,'%')"
   ]
  },
  {
   "cell_type": "code",
   "execution_count": 53,
   "id": "9a332f74",
   "metadata": {},
   "outputs": [
    {
     "name": "stdout",
     "output_type": "stream",
     "text": [
      "2142854600.6362941 %\n"
     ]
    }
   ],
   "source": [
    "from sklearn.metrics import mean_squared_error\n",
    "accuracy=mean_squared_error(y_test,y_pred)\n",
    "print(accuracy*100,'%')"
   ]
  },
  {
   "cell_type": "code",
   "execution_count": 54,
   "id": "34eea524",
   "metadata": {},
   "outputs": [
    {
     "name": "stdout",
     "output_type": "stream",
     "text": [
      "277827.9970180102 %\n"
     ]
    }
   ],
   "source": [
    "from sklearn.metrics import mean_absolute_error\n",
    "accuracy=mean_absolute_error(y_test, y_pred)\n",
    "print(accuracy*100,'%')"
   ]
  },
  {
   "cell_type": "code",
   "execution_count": 55,
   "id": "7b039317",
   "metadata": {},
   "outputs": [
    {
     "name": "stdout",
     "output_type": "stream",
     "text": [
      "37.08369372138218 %\n"
     ]
    }
   ],
   "source": [
    "from sklearn.metrics import mean_absolute_percentage_error\n",
    "accuracy=mean_absolute_percentage_error(y_test,y_pred)\n",
    "print(accuracy*100,'%')"
   ]
  },
  {
   "cell_type": "markdown",
   "id": "cd5022f5",
   "metadata": {},
   "source": [
    "#Adj r2 = 1-(1-R2)*(n-1)/(n-p-1)"
   ]
  },
  {
   "cell_type": "code",
   "execution_count": 49,
   "id": "07c3c2a5",
   "metadata": {},
   "outputs": [
    {
     "data": {
      "text/plain": [
       "1338"
      ]
     },
     "execution_count": 49,
     "metadata": {},
     "output_type": "execute_result"
    }
   ],
   "source": [
    "len(dataset)\n"
   ]
  },
  {
   "cell_type": "code",
   "execution_count": 56,
   "id": "d1c1203f",
   "metadata": {},
   "outputs": [
    {
     "name": "stdout",
     "output_type": "stream",
     "text": [
      "86.856864216054\n"
     ]
    }
   ],
   "source": [
    "adj_r2=1-(1-86.6)*(1338-1)/(1338-5)\n",
    "print(adj_r2)"
   ]
  },
  {
   "cell_type": "code",
   "execution_count": null,
   "id": "bd55a298",
   "metadata": {},
   "outputs": [],
   "source": [
    "import pickle\n",
    "filename='decision_final.sav'\n",
    "pickle.dump(r,open(filename,\"wb\"))"
   ]
  },
  {
   "cell_type": "code",
   "execution_count": null,
   "id": "98018b92",
   "metadata": {},
   "outputs": [],
   "source": [
    "model=pickle.load(open(filename,\"rb\"))"
   ]
  },
  {
   "cell_type": "code",
   "execution_count": null,
   "id": "06ae274c",
   "metadata": {},
   "outputs": [],
   "source": [
    "age_input=float(input(\"Age:\"))\n",
    "bmi_input=float(input(\"BMI:\"))\n",
    "children_input=float(input(\"Children:\"))\n",
    "sex_male_input=int(input(\"Sex Male 0 or 1:\"))\n",
    "smoker_yes_input=int(input(\"Smoker Yes 0 or 1:\"))"
   ]
  },
  {
   "cell_type": "code",
   "execution_count": null,
   "id": "f402deb5",
   "metadata": {},
   "outputs": [],
   "source": [
    "Future_Prediction=r.predict([[age_input,bmi_input,children_input,sex_male_input,smoker_yes_input]])\n",
    "print(\"Future_Prediction={}\".format(Future_Prediction))\n"
   ]
  },
  {
   "cell_type": "code",
   "execution_count": null,
   "id": "ea49b6d5",
   "metadata": {},
   "outputs": [],
   "source": []
  },
  {
   "cell_type": "code",
   "execution_count": null,
   "id": "4a76efce",
   "metadata": {},
   "outputs": [],
   "source": []
  }
 ],
 "metadata": {
  "kernelspec": {
   "display_name": "Python 3 (ipykernel)",
   "language": "python",
   "name": "python3"
  },
  "language_info": {
   "codemirror_mode": {
    "name": "ipython",
    "version": 3
   },
   "file_extension": ".py",
   "mimetype": "text/x-python",
   "name": "python",
   "nbconvert_exporter": "python",
   "pygments_lexer": "ipython3",
   "version": "3.7.6"
  }
 },
 "nbformat": 4,
 "nbformat_minor": 5
}
