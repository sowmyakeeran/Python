{
 "cells": [
  {
   "cell_type": "markdown",
   "id": "5e618126",
   "metadata": {},
   "source": [
    "9.8.22    SUPPORT VECTOR MACHINE(REGRESSION)"
   ]
  },
  {
   "cell_type": "markdown",
   "id": "d1d4a7bd",
   "metadata": {},
   "source": [
    " STEP1: Importing the Libraies"
   ]
  },
  {
   "cell_type": "code",
   "execution_count": null,
   "id": "edbca88f",
   "metadata": {},
   "outputs": [],
   "source": [
    "import numpy as np\n",
    "import matplotlib.pyplot as plt\n",
    "import pandas as pd\n"
   ]
  },
  {
   "cell_type": "markdown",
   "id": "c4aae3cc",
   "metadata": {},
   "source": [
    "STEP2: Loding the Dataset"
   ]
  },
  {
   "cell_type": "code",
   "execution_count": null,
   "id": "a8ed115c",
   "metadata": {},
   "outputs": [],
   "source": [
    "dataset = pd.read_csv('http://raw.githubusercontent.com/RamishaRaniK/dataset/main/insurance_pre.csv')"
   ]
  },
  {
   "cell_type": "code",
   "execution_count": null,
   "id": "8f032bc3",
   "metadata": {},
   "outputs": [],
   "source": [
    "dataset"
   ]
  },
  {
   "cell_type": "markdown",
   "id": "45eb33b5",
   "metadata": {},
   "source": [
    "STEP:3 get_dummies() TO CONVERT STRING DATA INTO BYTESTREAM(0'S &1'S)"
   ]
  },
  {
   "cell_type": "code",
   "execution_count": null,
   "id": "d70db712",
   "metadata": {},
   "outputs": [],
   "source": [
    "dataset.shape"
   ]
  },
  {
   "cell_type": "code",
   "execution_count": null,
   "id": "9cdd1fad",
   "metadata": {},
   "outputs": [],
   "source": [
    "datasets=pd.get_dummies(dataset,drop_first=True)"
   ]
  },
  {
   "cell_type": "code",
   "execution_count": null,
   "id": "0a82e72f",
   "metadata": {},
   "outputs": [],
   "source": [
    "datasets"
   ]
  },
  {
   "cell_type": "markdown",
   "id": "61a3f99d",
   "metadata": {},
   "source": [
    "STEP:4 ASSINGING INPUT AND OUTPUT DATA"
   ]
  },
  {
   "cell_type": "code",
   "execution_count": null,
   "id": "488be459",
   "metadata": {},
   "outputs": [],
   "source": [
    "datasets.columns"
   ]
  },
  {
   "cell_type": "code",
   "execution_count": null,
   "id": "16c6f5f5",
   "metadata": {},
   "outputs": [],
   "source": [
    "indep=datasets[['age', 'bmi', 'children', 'sex_male', 'smoker_yes']]\n",
    "\n",
    "dep=datasets[['charges']]"
   ]
  },
  {
   "cell_type": "code",
   "execution_count": null,
   "id": "13cd6f3e",
   "metadata": {},
   "outputs": [],
   "source": [
    "indep"
   ]
  },
  {
   "cell_type": "code",
   "execution_count": null,
   "id": "daedfdd1",
   "metadata": {},
   "outputs": [],
   "source": [
    "dep"
   ]
  },
  {
   "cell_type": "markdown",
   "id": "9dcc723e",
   "metadata": {},
   "source": [
    "STEP: 5 SPLITING TRAIN/TEST DATA"
   ]
  },
  {
   "cell_type": "code",
   "execution_count": null,
   "id": "52c5fada",
   "metadata": {},
   "outputs": [],
   "source": [
    "#spliting train /test set\n",
    "from sklearn.model_selection import train_test_split\n",
    "x_train,x_test,y_train,y_test=train_test_split(indep,dep,test_size=1/3,random_state=0)"
   ]
  },
  {
   "cell_type": "markdown",
   "id": "47b98735",
   "metadata": {},
   "source": [
    " STEP:6  MODEL CREATION IN  SUPPORT VECTOR MACHINE AND GRID FUNCTION"
   ]
  },
  {
   "cell_type": "code",
   "execution_count": null,
   "id": "66763263",
   "metadata": {},
   "outputs": [],
   "source": [
    "from sklearn.model_selection import GridSearchCV\n",
    "from sklearn.svm import SVR\n",
    "param_grid = {'kernel':['rbf','poly','sigmoid','linear'],\n",
    "              'C':[10,100,1000,2000,3000],'gamma':['auto','scale']} \n",
    "\n",
    "\n",
    "\n",
    "grid = GridSearchCV(SVR(), param_grid, refit = True, verbose = 3,n_jobs=-1) \n",
    "   \n",
    "# fitting the model for grid search \n",
    "grid.fit(x_train, y_train) \n",
    " \n",
    "\n"
   ]
  },
  {
   "cell_type": "code",
   "execution_count": null,
   "id": "9da940e2",
   "metadata": {},
   "outputs": [],
   "source": [
    "from sklearn.svm import SVR\n",
    "r=SVR(kernel=\"linear\",C=12000)\n",
    "r.fit(x_train,y_train)"
   ]
  },
  {
   "cell_type": "markdown",
   "id": "0685a02b",
   "metadata": {},
   "source": [
    " STEP:8 PREDICTION"
   ]
  },
  {
   "cell_type": "code",
   "execution_count": null,
   "id": "5a4a31bf",
   "metadata": {},
   "outputs": [],
   "source": [
    "y_pred=r.predict(x_test)"
   ]
  },
  {
   "cell_type": "code",
   "execution_count": null,
   "id": "6c8fbd65",
   "metadata": {},
   "outputs": [],
   "source": [
    "y_pred"
   ]
  },
  {
   "cell_type": "markdown",
   "id": "0f9cfa4d",
   "metadata": {},
   "source": [
    " STEP:9 EVALUTION METRICS"
   ]
  },
  {
   "cell_type": "code",
   "execution_count": null,
   "id": "0a933db3",
   "metadata": {},
   "outputs": [],
   "source": [
    "from sklearn.metrics import r2_score\n",
    "r_score=r2_score(y_test,y_pred)"
   ]
  },
  {
   "cell_type": "code",
   "execution_count": null,
   "id": "49c12d4d",
   "metadata": {},
   "outputs": [],
   "source": [
    "r_score"
   ]
  },
  {
   "cell_type": "markdown",
   "id": "9c8de838",
   "metadata": {},
   "source": [
    " STEP:10 SAVE THE MODEL IF THE MODEL HAS GOOD R_SCORE VALUE"
   ]
  },
  {
   "cell_type": "code",
   "execution_count": null,
   "id": "bd55a298",
   "metadata": {},
   "outputs": [],
   "source": [
    "import pickle\n",
    "filename='svm_final.sav'\n",
    "pickle.dump(r,open(filename,\"wb\"))"
   ]
  },
  {
   "cell_type": "code",
   "execution_count": null,
   "id": "98018b92",
   "metadata": {},
   "outputs": [],
   "source": [
    "model=pickle.load(open(filename,\"rb\"))"
   ]
  },
  {
   "cell_type": "markdown",
   "id": "88467556",
   "metadata": {},
   "source": [
    " STEP :11 DEPLOYMENT\n",
    "         1.Load The saved model\n",
    "         2.Get user Inputs\n",
    "         3.predict\n",
    "         4.show"
   ]
  },
  {
   "cell_type": "markdown",
   "id": "70951ab7",
   "metadata": {},
   "source": [
    "#Load the model"
   ]
  },
  {
   "cell_type": "code",
   "execution_count": null,
   "id": "5aaec27c",
   "metadata": {},
   "outputs": [],
   "source": [
    "load_model=pickle.load(open(\"svm_final.sav\",'rb'))"
   ]
  },
  {
   "cell_type": "code",
   "execution_count": null,
   "id": "17fb0edb",
   "metadata": {},
   "outputs": [],
   "source": [
    "result=load_model.predict([[]])"
   ]
  },
  {
   "cell_type": "code",
   "execution_count": null,
   "id": "63f687c3",
   "metadata": {},
   "outputs": [],
   "source": [
    "result"
   ]
  },
  {
   "cell_type": "markdown",
   "id": "288887c0",
   "metadata": {},
   "source": [
    "#GetUserInputs"
   ]
  },
  {
   "cell_type": "code",
   "execution_count": null,
   "id": "e8fab312",
   "metadata": {},
   "outputs": [],
   "source": [
    "age_input=float(input(\"AGE:\"))\n",
    "bmi_input=float(input(\"BMI:\"))\n",
    "children_input=int(input(\"CHILDREN: \"))\n",
    "sex_input=str(input(\"State Y OR N SEX:\"))\n",
    "smoker_input=str(input(\"State Y or N SMOKER:\"))"
   ]
  },
  {
   "cell_type": "code",
   "execution_count": null,
   "id": "5a0712af",
   "metadata": {},
   "outputs": [],
   "source": [
    "result=model.predict([[age_input,bmi_input,children_input,sex_input,smoker_input]])"
   ]
  },
  {
   "cell_type": "code",
   "execution_count": null,
   "id": "ab48f672",
   "metadata": {},
   "outputs": [],
   "source": [
    "Future_Prediction=grid.predict([[age_input,bmi_input,children_input,sex_male_input,smoker_yes_input]])# change the paramter,play with it.\n",
    "print(\"Future_Prediction={}\".format(Future_Prediction))"
   ]
  },
  {
   "cell_type": "code",
   "execution_count": null,
   "id": "fed6a84c",
   "metadata": {},
   "outputs": [],
   "source": []
  },
  {
   "cell_type": "code",
   "execution_count": null,
   "id": "2cfcca79",
   "metadata": {},
   "outputs": [],
   "source": []
  }
 ],
 "metadata": {
  "kernelspec": {
   "display_name": "Python 3 (ipykernel)",
   "language": "python",
   "name": "python3"
  },
  "language_info": {
   "codemirror_mode": {
    "name": "ipython",
    "version": 3
   },
   "file_extension": ".py",
   "mimetype": "text/x-python",
   "name": "python",
   "nbconvert_exporter": "python",
   "pygments_lexer": "ipython3",
   "version": "3.7.6"
  }
 },
 "nbformat": 4,
 "nbformat_minor": 5
}
