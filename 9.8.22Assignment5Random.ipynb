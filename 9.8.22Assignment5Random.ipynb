{
 "cells": [
  {
   "cell_type": "markdown",
   "id": "5e618126",
   "metadata": {},
   "source": [
    "9.8.22                      REGRESSION"
   ]
  },
  {
   "cell_type": "markdown",
   "id": "d1d4a7bd",
   "metadata": {},
   "source": [
    " STEP1: Importing the Libraies"
   ]
  },
  {
   "cell_type": "code",
   "execution_count": 3,
   "id": "edbca88f",
   "metadata": {},
   "outputs": [],
   "source": [
    "import numpy as np\n",
    "import matplotlib.pyplot as plt\n",
    "import pandas as pd\n"
   ]
  },
  {
   "cell_type": "markdown",
   "id": "c4aae3cc",
   "metadata": {},
   "source": [
    "STEP2: Loding the Dataset"
   ]
  },
  {
   "cell_type": "code",
   "execution_count": 4,
   "id": "a8ed115c",
   "metadata": {},
   "outputs": [],
   "source": [
    "dataset = pd.read_csv('http://raw.githubusercontent.com/RamishaRaniK/dataset/main/insurance_pre.csv')"
   ]
  },
  {
   "cell_type": "code",
   "execution_count": 5,
   "id": "8f032bc3",
   "metadata": {},
   "outputs": [
    {
     "data": {
      "text/html": [
       "<div>\n",
       "<style scoped>\n",
       "    .dataframe tbody tr th:only-of-type {\n",
       "        vertical-align: middle;\n",
       "    }\n",
       "\n",
       "    .dataframe tbody tr th {\n",
       "        vertical-align: top;\n",
       "    }\n",
       "\n",
       "    .dataframe thead th {\n",
       "        text-align: right;\n",
       "    }\n",
       "</style>\n",
       "<table border=\"1\" class=\"dataframe\">\n",
       "  <thead>\n",
       "    <tr style=\"text-align: right;\">\n",
       "      <th></th>\n",
       "      <th>age</th>\n",
       "      <th>sex</th>\n",
       "      <th>bmi</th>\n",
       "      <th>children</th>\n",
       "      <th>smoker</th>\n",
       "      <th>charges</th>\n",
       "    </tr>\n",
       "  </thead>\n",
       "  <tbody>\n",
       "    <tr>\n",
       "      <th>0</th>\n",
       "      <td>19</td>\n",
       "      <td>female</td>\n",
       "      <td>27.900</td>\n",
       "      <td>0</td>\n",
       "      <td>yes</td>\n",
       "      <td>16884.92400</td>\n",
       "    </tr>\n",
       "    <tr>\n",
       "      <th>1</th>\n",
       "      <td>18</td>\n",
       "      <td>male</td>\n",
       "      <td>33.770</td>\n",
       "      <td>1</td>\n",
       "      <td>no</td>\n",
       "      <td>1725.55230</td>\n",
       "    </tr>\n",
       "    <tr>\n",
       "      <th>2</th>\n",
       "      <td>28</td>\n",
       "      <td>male</td>\n",
       "      <td>33.000</td>\n",
       "      <td>3</td>\n",
       "      <td>no</td>\n",
       "      <td>4449.46200</td>\n",
       "    </tr>\n",
       "    <tr>\n",
       "      <th>3</th>\n",
       "      <td>33</td>\n",
       "      <td>male</td>\n",
       "      <td>22.705</td>\n",
       "      <td>0</td>\n",
       "      <td>no</td>\n",
       "      <td>21984.47061</td>\n",
       "    </tr>\n",
       "    <tr>\n",
       "      <th>4</th>\n",
       "      <td>32</td>\n",
       "      <td>male</td>\n",
       "      <td>28.880</td>\n",
       "      <td>0</td>\n",
       "      <td>no</td>\n",
       "      <td>3866.85520</td>\n",
       "    </tr>\n",
       "    <tr>\n",
       "      <th>...</th>\n",
       "      <td>...</td>\n",
       "      <td>...</td>\n",
       "      <td>...</td>\n",
       "      <td>...</td>\n",
       "      <td>...</td>\n",
       "      <td>...</td>\n",
       "    </tr>\n",
       "    <tr>\n",
       "      <th>1333</th>\n",
       "      <td>50</td>\n",
       "      <td>male</td>\n",
       "      <td>30.970</td>\n",
       "      <td>3</td>\n",
       "      <td>no</td>\n",
       "      <td>10600.54830</td>\n",
       "    </tr>\n",
       "    <tr>\n",
       "      <th>1334</th>\n",
       "      <td>18</td>\n",
       "      <td>female</td>\n",
       "      <td>31.920</td>\n",
       "      <td>0</td>\n",
       "      <td>no</td>\n",
       "      <td>2205.98080</td>\n",
       "    </tr>\n",
       "    <tr>\n",
       "      <th>1335</th>\n",
       "      <td>18</td>\n",
       "      <td>female</td>\n",
       "      <td>36.850</td>\n",
       "      <td>0</td>\n",
       "      <td>no</td>\n",
       "      <td>1629.83350</td>\n",
       "    </tr>\n",
       "    <tr>\n",
       "      <th>1336</th>\n",
       "      <td>21</td>\n",
       "      <td>female</td>\n",
       "      <td>25.800</td>\n",
       "      <td>0</td>\n",
       "      <td>no</td>\n",
       "      <td>2007.94500</td>\n",
       "    </tr>\n",
       "    <tr>\n",
       "      <th>1337</th>\n",
       "      <td>61</td>\n",
       "      <td>female</td>\n",
       "      <td>29.070</td>\n",
       "      <td>0</td>\n",
       "      <td>yes</td>\n",
       "      <td>29141.36030</td>\n",
       "    </tr>\n",
       "  </tbody>\n",
       "</table>\n",
       "<p>1338 rows × 6 columns</p>\n",
       "</div>"
      ],
      "text/plain": [
       "      age     sex     bmi  children smoker      charges\n",
       "0      19  female  27.900         0    yes  16884.92400\n",
       "1      18    male  33.770         1     no   1725.55230\n",
       "2      28    male  33.000         3     no   4449.46200\n",
       "3      33    male  22.705         0     no  21984.47061\n",
       "4      32    male  28.880         0     no   3866.85520\n",
       "...   ...     ...     ...       ...    ...          ...\n",
       "1333   50    male  30.970         3     no  10600.54830\n",
       "1334   18  female  31.920         0     no   2205.98080\n",
       "1335   18  female  36.850         0     no   1629.83350\n",
       "1336   21  female  25.800         0     no   2007.94500\n",
       "1337   61  female  29.070         0    yes  29141.36030\n",
       "\n",
       "[1338 rows x 6 columns]"
      ]
     },
     "execution_count": 5,
     "metadata": {},
     "output_type": "execute_result"
    }
   ],
   "source": [
    "dataset"
   ]
  },
  {
   "cell_type": "markdown",
   "id": "45eb33b5",
   "metadata": {},
   "source": [
    "STEP:3 get_dummies() TO CONVERT STRING DATA INTO BYTESTREAM(0'S &1'S)"
   ]
  },
  {
   "cell_type": "code",
   "execution_count": 6,
   "id": "9cdd1fad",
   "metadata": {},
   "outputs": [],
   "source": [
    "datasets=pd.get_dummies(dataset,drop_first=True)"
   ]
  },
  {
   "cell_type": "code",
   "execution_count": 7,
   "id": "0a82e72f",
   "metadata": {},
   "outputs": [
    {
     "data": {
      "text/html": [
       "<div>\n",
       "<style scoped>\n",
       "    .dataframe tbody tr th:only-of-type {\n",
       "        vertical-align: middle;\n",
       "    }\n",
       "\n",
       "    .dataframe tbody tr th {\n",
       "        vertical-align: top;\n",
       "    }\n",
       "\n",
       "    .dataframe thead th {\n",
       "        text-align: right;\n",
       "    }\n",
       "</style>\n",
       "<table border=\"1\" class=\"dataframe\">\n",
       "  <thead>\n",
       "    <tr style=\"text-align: right;\">\n",
       "      <th></th>\n",
       "      <th>age</th>\n",
       "      <th>bmi</th>\n",
       "      <th>children</th>\n",
       "      <th>charges</th>\n",
       "      <th>sex_male</th>\n",
       "      <th>smoker_yes</th>\n",
       "    </tr>\n",
       "  </thead>\n",
       "  <tbody>\n",
       "    <tr>\n",
       "      <th>0</th>\n",
       "      <td>19</td>\n",
       "      <td>27.900</td>\n",
       "      <td>0</td>\n",
       "      <td>16884.92400</td>\n",
       "      <td>0</td>\n",
       "      <td>1</td>\n",
       "    </tr>\n",
       "    <tr>\n",
       "      <th>1</th>\n",
       "      <td>18</td>\n",
       "      <td>33.770</td>\n",
       "      <td>1</td>\n",
       "      <td>1725.55230</td>\n",
       "      <td>1</td>\n",
       "      <td>0</td>\n",
       "    </tr>\n",
       "    <tr>\n",
       "      <th>2</th>\n",
       "      <td>28</td>\n",
       "      <td>33.000</td>\n",
       "      <td>3</td>\n",
       "      <td>4449.46200</td>\n",
       "      <td>1</td>\n",
       "      <td>0</td>\n",
       "    </tr>\n",
       "    <tr>\n",
       "      <th>3</th>\n",
       "      <td>33</td>\n",
       "      <td>22.705</td>\n",
       "      <td>0</td>\n",
       "      <td>21984.47061</td>\n",
       "      <td>1</td>\n",
       "      <td>0</td>\n",
       "    </tr>\n",
       "    <tr>\n",
       "      <th>4</th>\n",
       "      <td>32</td>\n",
       "      <td>28.880</td>\n",
       "      <td>0</td>\n",
       "      <td>3866.85520</td>\n",
       "      <td>1</td>\n",
       "      <td>0</td>\n",
       "    </tr>\n",
       "    <tr>\n",
       "      <th>...</th>\n",
       "      <td>...</td>\n",
       "      <td>...</td>\n",
       "      <td>...</td>\n",
       "      <td>...</td>\n",
       "      <td>...</td>\n",
       "      <td>...</td>\n",
       "    </tr>\n",
       "    <tr>\n",
       "      <th>1333</th>\n",
       "      <td>50</td>\n",
       "      <td>30.970</td>\n",
       "      <td>3</td>\n",
       "      <td>10600.54830</td>\n",
       "      <td>1</td>\n",
       "      <td>0</td>\n",
       "    </tr>\n",
       "    <tr>\n",
       "      <th>1334</th>\n",
       "      <td>18</td>\n",
       "      <td>31.920</td>\n",
       "      <td>0</td>\n",
       "      <td>2205.98080</td>\n",
       "      <td>0</td>\n",
       "      <td>0</td>\n",
       "    </tr>\n",
       "    <tr>\n",
       "      <th>1335</th>\n",
       "      <td>18</td>\n",
       "      <td>36.850</td>\n",
       "      <td>0</td>\n",
       "      <td>1629.83350</td>\n",
       "      <td>0</td>\n",
       "      <td>0</td>\n",
       "    </tr>\n",
       "    <tr>\n",
       "      <th>1336</th>\n",
       "      <td>21</td>\n",
       "      <td>25.800</td>\n",
       "      <td>0</td>\n",
       "      <td>2007.94500</td>\n",
       "      <td>0</td>\n",
       "      <td>0</td>\n",
       "    </tr>\n",
       "    <tr>\n",
       "      <th>1337</th>\n",
       "      <td>61</td>\n",
       "      <td>29.070</td>\n",
       "      <td>0</td>\n",
       "      <td>29141.36030</td>\n",
       "      <td>0</td>\n",
       "      <td>1</td>\n",
       "    </tr>\n",
       "  </tbody>\n",
       "</table>\n",
       "<p>1338 rows × 6 columns</p>\n",
       "</div>"
      ],
      "text/plain": [
       "      age     bmi  children      charges  sex_male  smoker_yes\n",
       "0      19  27.900         0  16884.92400         0           1\n",
       "1      18  33.770         1   1725.55230         1           0\n",
       "2      28  33.000         3   4449.46200         1           0\n",
       "3      33  22.705         0  21984.47061         1           0\n",
       "4      32  28.880         0   3866.85520         1           0\n",
       "...   ...     ...       ...          ...       ...         ...\n",
       "1333   50  30.970         3  10600.54830         1           0\n",
       "1334   18  31.920         0   2205.98080         0           0\n",
       "1335   18  36.850         0   1629.83350         0           0\n",
       "1336   21  25.800         0   2007.94500         0           0\n",
       "1337   61  29.070         0  29141.36030         0           1\n",
       "\n",
       "[1338 rows x 6 columns]"
      ]
     },
     "execution_count": 7,
     "metadata": {},
     "output_type": "execute_result"
    }
   ],
   "source": [
    "datasets"
   ]
  },
  {
   "cell_type": "markdown",
   "id": "61a3f99d",
   "metadata": {},
   "source": [
    "STEP:4 ASSINGING INPUT AND OUTPUT DATA"
   ]
  },
  {
   "cell_type": "code",
   "execution_count": 8,
   "id": "488be459",
   "metadata": {},
   "outputs": [
    {
     "data": {
      "text/plain": [
       "Index(['age', 'bmi', 'children', 'charges', 'sex_male', 'smoker_yes'], dtype='object')"
      ]
     },
     "execution_count": 8,
     "metadata": {},
     "output_type": "execute_result"
    }
   ],
   "source": [
    "datasets.columns"
   ]
  },
  {
   "cell_type": "code",
   "execution_count": 9,
   "id": "16c6f5f5",
   "metadata": {},
   "outputs": [],
   "source": [
    "indep=datasets[['age', 'bmi', 'children', 'sex_male', 'smoker_yes']]\n",
    "\n",
    "dep=datasets[['charges']]"
   ]
  },
  {
   "cell_type": "code",
   "execution_count": 10,
   "id": "13cd6f3e",
   "metadata": {},
   "outputs": [
    {
     "data": {
      "text/html": [
       "<div>\n",
       "<style scoped>\n",
       "    .dataframe tbody tr th:only-of-type {\n",
       "        vertical-align: middle;\n",
       "    }\n",
       "\n",
       "    .dataframe tbody tr th {\n",
       "        vertical-align: top;\n",
       "    }\n",
       "\n",
       "    .dataframe thead th {\n",
       "        text-align: right;\n",
       "    }\n",
       "</style>\n",
       "<table border=\"1\" class=\"dataframe\">\n",
       "  <thead>\n",
       "    <tr style=\"text-align: right;\">\n",
       "      <th></th>\n",
       "      <th>age</th>\n",
       "      <th>bmi</th>\n",
       "      <th>children</th>\n",
       "      <th>sex_male</th>\n",
       "      <th>smoker_yes</th>\n",
       "    </tr>\n",
       "  </thead>\n",
       "  <tbody>\n",
       "    <tr>\n",
       "      <th>0</th>\n",
       "      <td>19</td>\n",
       "      <td>27.900</td>\n",
       "      <td>0</td>\n",
       "      <td>0</td>\n",
       "      <td>1</td>\n",
       "    </tr>\n",
       "    <tr>\n",
       "      <th>1</th>\n",
       "      <td>18</td>\n",
       "      <td>33.770</td>\n",
       "      <td>1</td>\n",
       "      <td>1</td>\n",
       "      <td>0</td>\n",
       "    </tr>\n",
       "    <tr>\n",
       "      <th>2</th>\n",
       "      <td>28</td>\n",
       "      <td>33.000</td>\n",
       "      <td>3</td>\n",
       "      <td>1</td>\n",
       "      <td>0</td>\n",
       "    </tr>\n",
       "    <tr>\n",
       "      <th>3</th>\n",
       "      <td>33</td>\n",
       "      <td>22.705</td>\n",
       "      <td>0</td>\n",
       "      <td>1</td>\n",
       "      <td>0</td>\n",
       "    </tr>\n",
       "    <tr>\n",
       "      <th>4</th>\n",
       "      <td>32</td>\n",
       "      <td>28.880</td>\n",
       "      <td>0</td>\n",
       "      <td>1</td>\n",
       "      <td>0</td>\n",
       "    </tr>\n",
       "    <tr>\n",
       "      <th>...</th>\n",
       "      <td>...</td>\n",
       "      <td>...</td>\n",
       "      <td>...</td>\n",
       "      <td>...</td>\n",
       "      <td>...</td>\n",
       "    </tr>\n",
       "    <tr>\n",
       "      <th>1333</th>\n",
       "      <td>50</td>\n",
       "      <td>30.970</td>\n",
       "      <td>3</td>\n",
       "      <td>1</td>\n",
       "      <td>0</td>\n",
       "    </tr>\n",
       "    <tr>\n",
       "      <th>1334</th>\n",
       "      <td>18</td>\n",
       "      <td>31.920</td>\n",
       "      <td>0</td>\n",
       "      <td>0</td>\n",
       "      <td>0</td>\n",
       "    </tr>\n",
       "    <tr>\n",
       "      <th>1335</th>\n",
       "      <td>18</td>\n",
       "      <td>36.850</td>\n",
       "      <td>0</td>\n",
       "      <td>0</td>\n",
       "      <td>0</td>\n",
       "    </tr>\n",
       "    <tr>\n",
       "      <th>1336</th>\n",
       "      <td>21</td>\n",
       "      <td>25.800</td>\n",
       "      <td>0</td>\n",
       "      <td>0</td>\n",
       "      <td>0</td>\n",
       "    </tr>\n",
       "    <tr>\n",
       "      <th>1337</th>\n",
       "      <td>61</td>\n",
       "      <td>29.070</td>\n",
       "      <td>0</td>\n",
       "      <td>0</td>\n",
       "      <td>1</td>\n",
       "    </tr>\n",
       "  </tbody>\n",
       "</table>\n",
       "<p>1338 rows × 5 columns</p>\n",
       "</div>"
      ],
      "text/plain": [
       "      age     bmi  children  sex_male  smoker_yes\n",
       "0      19  27.900         0         0           1\n",
       "1      18  33.770         1         1           0\n",
       "2      28  33.000         3         1           0\n",
       "3      33  22.705         0         1           0\n",
       "4      32  28.880         0         1           0\n",
       "...   ...     ...       ...       ...         ...\n",
       "1333   50  30.970         3         1           0\n",
       "1334   18  31.920         0         0           0\n",
       "1335   18  36.850         0         0           0\n",
       "1336   21  25.800         0         0           0\n",
       "1337   61  29.070         0         0           1\n",
       "\n",
       "[1338 rows x 5 columns]"
      ]
     },
     "execution_count": 10,
     "metadata": {},
     "output_type": "execute_result"
    }
   ],
   "source": [
    "indep"
   ]
  },
  {
   "cell_type": "code",
   "execution_count": 11,
   "id": "daedfdd1",
   "metadata": {},
   "outputs": [
    {
     "data": {
      "text/html": [
       "<div>\n",
       "<style scoped>\n",
       "    .dataframe tbody tr th:only-of-type {\n",
       "        vertical-align: middle;\n",
       "    }\n",
       "\n",
       "    .dataframe tbody tr th {\n",
       "        vertical-align: top;\n",
       "    }\n",
       "\n",
       "    .dataframe thead th {\n",
       "        text-align: right;\n",
       "    }\n",
       "</style>\n",
       "<table border=\"1\" class=\"dataframe\">\n",
       "  <thead>\n",
       "    <tr style=\"text-align: right;\">\n",
       "      <th></th>\n",
       "      <th>charges</th>\n",
       "    </tr>\n",
       "  </thead>\n",
       "  <tbody>\n",
       "    <tr>\n",
       "      <th>0</th>\n",
       "      <td>16884.92400</td>\n",
       "    </tr>\n",
       "    <tr>\n",
       "      <th>1</th>\n",
       "      <td>1725.55230</td>\n",
       "    </tr>\n",
       "    <tr>\n",
       "      <th>2</th>\n",
       "      <td>4449.46200</td>\n",
       "    </tr>\n",
       "    <tr>\n",
       "      <th>3</th>\n",
       "      <td>21984.47061</td>\n",
       "    </tr>\n",
       "    <tr>\n",
       "      <th>4</th>\n",
       "      <td>3866.85520</td>\n",
       "    </tr>\n",
       "    <tr>\n",
       "      <th>...</th>\n",
       "      <td>...</td>\n",
       "    </tr>\n",
       "    <tr>\n",
       "      <th>1333</th>\n",
       "      <td>10600.54830</td>\n",
       "    </tr>\n",
       "    <tr>\n",
       "      <th>1334</th>\n",
       "      <td>2205.98080</td>\n",
       "    </tr>\n",
       "    <tr>\n",
       "      <th>1335</th>\n",
       "      <td>1629.83350</td>\n",
       "    </tr>\n",
       "    <tr>\n",
       "      <th>1336</th>\n",
       "      <td>2007.94500</td>\n",
       "    </tr>\n",
       "    <tr>\n",
       "      <th>1337</th>\n",
       "      <td>29141.36030</td>\n",
       "    </tr>\n",
       "  </tbody>\n",
       "</table>\n",
       "<p>1338 rows × 1 columns</p>\n",
       "</div>"
      ],
      "text/plain": [
       "          charges\n",
       "0     16884.92400\n",
       "1      1725.55230\n",
       "2      4449.46200\n",
       "3     21984.47061\n",
       "4      3866.85520\n",
       "...           ...\n",
       "1333  10600.54830\n",
       "1334   2205.98080\n",
       "1335   1629.83350\n",
       "1336   2007.94500\n",
       "1337  29141.36030\n",
       "\n",
       "[1338 rows x 1 columns]"
      ]
     },
     "execution_count": 11,
     "metadata": {},
     "output_type": "execute_result"
    }
   ],
   "source": [
    "dep"
   ]
  },
  {
   "cell_type": "markdown",
   "id": "9dcc723e",
   "metadata": {},
   "source": [
    "STEP: 5 SPLITING TRAIN/TEST DATA"
   ]
  },
  {
   "cell_type": "code",
   "execution_count": 12,
   "id": "52c5fada",
   "metadata": {},
   "outputs": [],
   "source": [
    "#spliting train /test set\n",
    "from sklearn.model_selection import train_test_split\n",
    "x_train,x_test,y_train,y_test=train_test_split(indep,dep,test_size=1/3,random_state=0)"
   ]
  },
  {
   "cell_type": "code",
   "execution_count": 13,
   "id": "249f2744",
   "metadata": {},
   "outputs": [],
   "source": [
    "from sklearn.preprocessing import StandardScaler\n",
    "sc = StandardScaler()\n",
    "x_train = sc.fit_transform(x_train)\n",
    "x_test = sc.transform(x_test)"
   ]
  },
  {
   "cell_type": "code",
   "execution_count": 14,
   "id": "e708457c",
   "metadata": {},
   "outputs": [
    {
     "name": "stderr",
     "output_type": "stream",
     "text": [
      "C:\\Users\\Yaazh\\anaconda3\\envs\\ai\\lib\\site-packages\\ipykernel_launcher.py:3: DataConversionWarning: A column-vector y was passed when a 1d array was expected. Please change the shape of y to (n_samples,), for example using ravel().\n",
      "  This is separate from the ipykernel package so we can avoid doing imports until\n"
     ]
    },
    {
     "data": {
      "text/plain": [
       "RandomForestRegressor(n_estimators=50, random_state=0)"
      ]
     },
     "execution_count": 14,
     "metadata": {},
     "output_type": "execute_result"
    }
   ],
   "source": [
    "from sklearn.ensemble import RandomForestRegressor\n",
    "regressor = RandomForestRegressor(n_estimators = 50, random_state = 0)       \n",
    "regressor.fit(x_train, y_train)"
   ]
  },
  {
   "cell_type": "markdown",
   "id": "03d37e56",
   "metadata": {},
   "source": [
    " STEP:6  MODEL CREATION IN  RANDOM FOREST"
   ]
  },
  {
   "cell_type": "markdown",
   "id": "0685a02b",
   "metadata": {},
   "source": [
    " STEP:8 PREDICTION"
   ]
  },
  {
   "cell_type": "code",
   "execution_count": 15,
   "id": "5a4a31bf",
   "metadata": {},
   "outputs": [],
   "source": [
    "y_pred=regressor.predict(x_test)"
   ]
  },
  {
   "cell_type": "code",
   "execution_count": 16,
   "id": "6c8fbd65",
   "metadata": {},
   "outputs": [
    {
     "data": {
      "text/plain": [
       "array([11887.5975132 , 11517.0980828 , 44485.890245  , 13409.265274  ,\n",
       "        9336.839947  , 10644.1829096 ,  1830.74274   , 10748.3614214 ,\n",
       "        8047.2558074 ,  5675.950137  ,  7543.8872458 , 16852.7628186 ,\n",
       "        9259.9964866 ,  6599.5527894 , 25059.075536  , 11701.7815824 ,\n",
       "       13040.0162554 ,  3274.803959  ,  6385.131482  , 34151.635594  ,\n",
       "       23530.223396  , 14657.343454  , 11859.5352416 , 28331.2414462 ,\n",
       "        2384.6883586 ,  5433.5039702 ,  5236.6325502 ,  7933.9665796 ,\n",
       "        3732.934409  ,  9649.6577796 ,  7854.0596782 , 48406.0616646 ,\n",
       "       14269.443936  , 13197.0172588 , 16367.9226078 ,  3649.502618  ,\n",
       "       10304.6630602 , 37566.5950888 , 39585.812568  ,  3513.7132998 ,\n",
       "        9820.8623024 ,  3862.2212334 , 20595.165985  , 47229.853133  ,\n",
       "       37297.8497556 ,  3934.3224802 , 12413.9059624 ,  6550.6072    ,\n",
       "        4538.962989  , 13013.4125754 ,  4409.8816506 ,  4953.5585608 ,\n",
       "       25905.8058832 , 48372.1797456 , 11891.324676  , 10995.4049914 ,\n",
       "        5309.9136054 , 10169.5463126 , 10748.7514764 , 15255.3758038 ,\n",
       "        1618.924818  , 47194.128934  , 16499.3362834 , 17229.4632908 ,\n",
       "       13370.495441  ,  9886.426574  , 33731.54007   , 43074.5890244 ,\n",
       "        3484.1387388 , 13003.7566676 , 19386.3355004 , 12118.4802584 ,\n",
       "       17116.7769432 , 13851.995235  , 13326.7800974 , 15782.6095272 ,\n",
       "        8315.3498066 , 14014.8731602 , 19668.105177  , 46547.195741  ,\n",
       "       11535.047038  , 50120.6130368 ,  1899.941776  , 11599.9427224 ,\n",
       "       40930.6186542 , 19394.856951  ,  4467.8583564 ,  2771.713766  ,\n",
       "       13229.1869004 , 42175.5849892 ,  5458.760358  , 14577.706064  ,\n",
       "        2896.990828  , 10948.2833228 ,  8056.155428  ,  4194.051393  ,\n",
       "       43381.480658  , 53129.07105   ,  5651.3894604 , 11033.911756  ,\n",
       "        3070.385077  ,  7489.0760754 ,  9367.8755302 , 40999.5168372 ,\n",
       "       27372.1996708 ,  3829.1207422 , 11053.23221   ,  8684.6173076 ,\n",
       "       12106.4432566 , 45116.40599   , 12544.60942   ,  6829.5633942 ,\n",
       "       10142.1286468 , 34405.015391  , 48063.1717396 ,  7136.8936488 ,\n",
       "        3150.420474  ,  9845.6896308 , 21997.971276  ,  9785.468322  ,\n",
       "       41889.7229286 , 12387.6502522 , 14584.019206  , 10503.4097812 ,\n",
       "       12121.6576722 ,  4761.284881  , 25318.3850968 , 24739.6869588 ,\n",
       "       47872.745975  ,  1559.94783   , 18196.381975  ,  2819.9660958 ,\n",
       "        6407.099918  ,  8987.125345  , 43140.8323624 , 37464.439282  ,\n",
       "       23286.8928262 , 13060.5076324 , 24083.8132012 ,  9319.247576  ,\n",
       "        2009.338209  , 14978.7189058 , 11551.1894458 , 10605.2968454 ,\n",
       "        6288.6183528 , 14241.373097  , 23245.6183406 , 13172.413341  ,\n",
       "        1572.582846  , 12815.2350136 ,  6124.970113  , 39004.939372  ,\n",
       "       10419.2824854 ,  6918.7553766 ,  3172.471732  , 10047.0437136 ,\n",
       "        2825.0176658 ,  5937.2119624 , 11701.7815824 , 11621.9766004 ,\n",
       "       12701.917123  , 13437.659778  , 14149.1119562 ,  9129.191086  ,\n",
       "        5706.811351  , 12617.4682142 , 17400.1492224 ,  6311.3097186 ,\n",
       "        4289.689172  ,  1769.714209  , 11085.180555  ,  6516.5778752 ,\n",
       "       10443.2965988 ,  2985.8312126 , 15306.7928632 , 12643.3414642 ,\n",
       "        5336.0297674 ,  7140.3589996 , 27123.252615  ,  1718.143111  ,\n",
       "       14765.4763158 ,  6781.331426  , 11534.360249  ,  8032.8717996 ,\n",
       "        8489.3511098 , 28419.567719  ,  1905.411194  ,  4128.9587268 ,\n",
       "       14200.227284  , 11123.33849   , 41628.998284  ,  6129.6346402 ,\n",
       "        5439.774182  , 25201.4877196 ,  4123.8518428 ,  2404.747759  ,\n",
       "        9854.685364  ,  5874.402434  , 11080.4713092 ,  4400.523947  ,\n",
       "       12614.426326  , 46580.6235654 , 15354.0820078 , 19145.1894354 ,\n",
       "       12938.7127318 , 43741.3654852 ,  4423.3970066 , 10147.3121972 ,\n",
       "        5946.545823  ,  1949.321621  ,  9038.1475808 , 13642.249855  ,\n",
       "        7210.3602744 ,  4836.213858  ,  6499.712543  , 10128.0129616 ,\n",
       "        7220.0131058 ,  6195.9246684 , 14495.4899566 ,  7188.4372456 ,\n",
       "       16741.8134512 ,  8011.3323178 , 12523.358949  ,  8708.9092114 ,\n",
       "       14064.4176894 , 14342.045036  , 21713.9493334 , 12595.7714932 ,\n",
       "        7426.0577512 ,  2697.079022  ,  8951.5332998 ,  8247.32735   ,\n",
       "       15703.8005026 ,  6359.9975706 ,  4941.5852448 ,  7169.238783  ,\n",
       "       11696.1894254 , 34617.026726  ,  5850.517247  , 11820.3649574 ,\n",
       "        6203.2948874 , 36193.1651984 ,  8482.5978516 ,  6719.741984  ,\n",
       "       11573.7657816 , 10178.190991  ,  4621.5961006 ,  7764.4031384 ,\n",
       "        2800.0510978 ,  6755.4666176 , 20176.8733638 , 46360.263528  ,\n",
       "        5371.0677108 ,  4377.8050814 , 10041.161754  ,  1576.507426  ,\n",
       "        8637.4448434 ,  3259.54036457,  9845.9567914 ,  9269.820744  ,\n",
       "        8713.562149  , 24358.656779  , 45929.627328  , 16553.4272496 ,\n",
       "        6512.071208  , 11495.033947  , 48699.740214  , 11206.5440788 ,\n",
       "       40079.8125894 ,  2032.059472  , 37533.7679176 ,  5683.913307  ,\n",
       "       12770.5586534 ,  5677.3713728 , 40373.0193974 ,  6358.4699208 ,\n",
       "        9847.084056  , 10868.5025124 ,  3171.753779  , 18332.46108   ,\n",
       "       11827.068046  ,  8292.6075954 , 12665.3861252 , 15196.29481   ,\n",
       "        6778.8476234 ,  5066.3496958 ,  9025.526276  , 22265.4066638 ,\n",
       "        4628.669393  ,  1672.396221  ,  2914.4127748 , 46647.13759   ,\n",
       "       11219.1896576 ,  4691.6781048 , 14551.022441  , 13908.1115888 ,\n",
       "       34601.245946  ,  7177.494787  ,  5236.8118244 ,  8938.0833538 ,\n",
       "        1726.21205   ,  3409.166191  , 20101.906551  , 16963.3609606 ,\n",
       "       13538.036287  ,  2664.744134  ,  3525.9287908 , 13192.1019652 ,\n",
       "       10493.0806036 , 16544.3653772 , 19867.167995  ,  9663.319568  ,\n",
       "       16818.6066228 ,  2044.835289  , 13644.037072  ,  8116.09742   ,\n",
       "       16518.2071416 ,  2607.6856378 ,  7016.597073  , 46505.963934  ,\n",
       "        3612.8553848 ,  7924.9333528 ,  1841.833963  , 13509.6875918 ,\n",
       "        7681.1949754 , 12183.6482116 , 46383.5696774 , 17515.438397  ,\n",
       "        9057.487186  , 44613.779118  , 13276.0914158 , 13030.073135  ,\n",
       "       10361.7789982 ,  6154.014044  , 28337.464944  ,  4469.558153  ,\n",
       "       13970.0621566 ,  2202.243066  , 16858.1862112 ,  3406.1271868 ,\n",
       "       24467.371573  , 10951.1979292 ,  7457.9819638 , 38913.036282  ,\n",
       "        7498.0006826 ,  5250.846646  , 30519.8586082 ,  1758.56732   ,\n",
       "       10981.8791914 ,  4161.8264398 , 12473.9252074 ,  4536.8762298 ,\n",
       "        7063.9548762 ,  7439.336845  , 44702.1970316 ,  8863.1300334 ,\n",
       "       47242.4907072 , 37309.434652  ,  5850.517247  , 11569.3605216 ,\n",
       "        1683.89599   ,  4883.2206834 ,  3086.684698  , 11334.6379254 ,\n",
       "       45419.348077  , 11256.343787  ,  1940.937569  , 12905.6408658 ,\n",
       "        2631.064756  , 11996.7382876 ,  8003.318416  ,  2521.762623  ,\n",
       "        3576.9881338 , 36921.36342   ,  6866.2539028 ,  1791.741714  ,\n",
       "       41374.5356264 , 12038.022221  , 43335.3797722 , 11471.944451  ,\n",
       "        6851.9474778 ,  3303.8260136 ,  2112.441792  , 15320.207781  ,\n",
       "        4941.795799  ,  1988.062025  , 12153.5790386 ,  7092.97524   ,\n",
       "        6277.349995  ,  5451.2190282 , 10337.476043  , 46002.9743022 ,\n",
       "        1710.72544   ,  9548.2535538 ,  8150.01234792, 12913.9491168 ,\n",
       "       10998.793469  ,  7710.8839004 , 17394.9152476 , 12723.4143258 ,\n",
       "       20430.2263614 , 19004.831035  ,  7810.96343   ,  7074.146137  ,\n",
       "       14062.577459  ,  8073.2590824 ,  7304.8555698 ,  2672.626926  ,\n",
       "       34231.929659  , 13090.613909  ,  8079.0506106 , 13678.111071  ,\n",
       "       16337.0432852 , 13112.6309154 , 47903.9193716 ,  5094.778733  ,\n",
       "       10685.6187148 ,  1739.641626  , 16044.0496172 ,  2096.266437  ,\n",
       "        7372.4303526 ,  1739.457244  , 11877.2828    ,  6667.0359994 ,\n",
       "       11375.588032  , 41130.717337  ,  5548.809747  , 34002.505486  ,\n",
       "       17605.935723  , 11495.033947  , 12950.4195474 , 40229.53378   ,\n",
       "       10929.5812218 ,  3787.546571  ,  9027.392522  , 21039.4366708 ,\n",
       "       39668.4318198 , 18214.7821676 , 10278.9931778 , 39352.572948  ,\n",
       "        6086.2994354 , 17553.7531594 ,  3790.7369708 , 35279.4793254 ,\n",
       "       13418.449427  , 16043.1277428 ])"
      ]
     },
     "execution_count": 16,
     "metadata": {},
     "output_type": "execute_result"
    }
   ],
   "source": [
    "y_pred"
   ]
  },
  {
   "cell_type": "markdown",
   "id": "0f9cfa4d",
   "metadata": {},
   "source": [
    " STEP:9 EVALUTION METRICS"
   ]
  },
  {
   "cell_type": "code",
   "execution_count": 17,
   "id": "0a933db3",
   "metadata": {},
   "outputs": [],
   "source": [
    "from sklearn.metrics import r2_score\n",
    "r_score=r2_score(y_test,y_pred)"
   ]
  },
  {
   "cell_type": "code",
   "execution_count": 18,
   "id": "49c12d4d",
   "metadata": {},
   "outputs": [
    {
     "data": {
      "text/plain": [
       "0.8577818586670549"
      ]
     },
     "execution_count": 18,
     "metadata": {},
     "output_type": "execute_result"
    }
   ],
   "source": [
    "r_score"
   ]
  },
  {
   "cell_type": "markdown",
   "id": "7867624d",
   "metadata": {},
   "source": [
    "SAVE THE MODEL"
   ]
  },
  {
   "cell_type": "code",
   "execution_count": 19,
   "id": "bd55a298",
   "metadata": {},
   "outputs": [],
   "source": [
    "import pickle\n",
    "filename='random_final.sav'\n",
    "pickle.dump(regressor,open(filename,\"wb\"))"
   ]
  },
  {
   "cell_type": "code",
   "execution_count": 20,
   "id": "98018b92",
   "metadata": {},
   "outputs": [],
   "source": [
    "model=pickle.load(open(filename,\"rb\"))"
   ]
  },
  {
   "cell_type": "markdown",
   "id": "1d9fc4a2",
   "metadata": {},
   "source": [
    "DEPOLYMENT\n",
    "1.LOAD THE SAVED MODEL\n",
    "2.GET INPUTS\n",
    "3.PREDICTS\n",
    "4.SHOW"
   ]
  },
  {
   "cell_type": "code",
   "execution_count": 21,
   "id": "65806d63",
   "metadata": {},
   "outputs": [],
   "source": [
    "load_model=pickle.load(open(\"random_final.sav\",'rb'))\n",
    "result=load_model.predict\n"
   ]
  },
  {
   "cell_type": "code",
   "execution_count": 22,
   "id": "fd8d523c",
   "metadata": {},
   "outputs": [
    {
     "data": {
      "text/plain": [
       "<bound method ForestRegressor.predict of RandomForestRegressor(n_estimators=50, random_state=0)>"
      ]
     },
     "execution_count": 22,
     "metadata": {},
     "output_type": "execute_result"
    }
   ],
   "source": [
    "result"
   ]
  },
  {
   "cell_type": "code",
   "execution_count": 1,
   "id": "8bc782dd",
   "metadata": {},
   "outputs": [
    {
     "name": "stdout",
     "output_type": "stream",
     "text": [
      "AGE:30\n",
      "BMI:27.6\n",
      "CHILDREN: 1\n",
      "State M OR F SEX:M\n",
      "State Y or N SMOKER:y\n"
     ]
    }
   ],
   "source": [
    "age_input=float(input(\"AGE:\"))\n",
    "bmi_input=float(input(\"BMI:\"))\n",
    "children_input=int(input(\"CHILDREN: \"))\n",
    "sex_input=str(input(\"State M OR F SEX:\"))\n",
    "smoker_input=str(input(\"State Y or N SMOKER:\"))"
   ]
  },
  {
   "cell_type": "code",
   "execution_count": null,
   "id": "3f15e9a9",
   "metadata": {},
   "outputs": [],
   "source": []
  },
  {
   "cell_type": "code",
   "execution_count": null,
   "id": "17bcb8dc",
   "metadata": {},
   "outputs": [],
   "source": []
  },
  {
   "cell_type": "code",
   "execution_count": null,
   "id": "c7c9b617",
   "metadata": {},
   "outputs": [],
   "source": []
  },
  {
   "cell_type": "code",
   "execution_count": null,
   "id": "6e186b0d",
   "metadata": {},
   "outputs": [],
   "source": []
  },
  {
   "cell_type": "code",
   "execution_count": null,
   "id": "eff62c97",
   "metadata": {},
   "outputs": [],
   "source": []
  },
  {
   "cell_type": "code",
   "execution_count": null,
   "id": "2b8375c7",
   "metadata": {},
   "outputs": [],
   "source": []
  },
  {
   "cell_type": "code",
   "execution_count": null,
   "id": "2209cc33",
   "metadata": {},
   "outputs": [],
   "source": []
  },
  {
   "cell_type": "code",
   "execution_count": null,
   "id": "b8fc5c06",
   "metadata": {},
   "outputs": [],
   "source": []
  },
  {
   "cell_type": "code",
   "execution_count": null,
   "id": "73ac825c",
   "metadata": {},
   "outputs": [],
   "source": []
  },
  {
   "cell_type": "code",
   "execution_count": null,
   "id": "13a839a0",
   "metadata": {},
   "outputs": [],
   "source": []
  }
 ],
 "metadata": {
  "kernelspec": {
   "display_name": "Python 3 (ipykernel)",
   "language": "python",
   "name": "python3"
  },
  "language_info": {
   "codemirror_mode": {
    "name": "ipython",
    "version": 3
   },
   "file_extension": ".py",
   "mimetype": "text/x-python",
   "name": "python",
   "nbconvert_exporter": "python",
   "pygments_lexer": "ipython3",
   "version": "3.7.6"
  }
 },
 "nbformat": 4,
 "nbformat_minor": 5
}
