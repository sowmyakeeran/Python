{
 "cells": [
  {
   "cell_type": "markdown",
   "id": "a4bf06d5",
   "metadata": {},
   "source": [
    "//NOT equal operator using string//\n"
   ]
  },
  {
   "cell_type": "code",
   "execution_count": 5,
   "id": "aed014ef",
   "metadata": {},
   "outputs": [
    {
     "name": "stdout",
     "output_type": "stream",
     "text": [
      "enter any text1:HOPE AI\n",
      "enter any text2:SOWMYA\n",
      "True\n"
     ]
    }
   ],
   "source": [
    "a=str(input(\"enter any text1:\"))\n",
    "b=str(input(\"enter any text2:\"))\n",
    "print(a!=b)\n"
   ]
  },
  {
   "cell_type": "markdown",
   "id": "5889c94f",
   "metadata": {},
   "source": [
    "//Equal operator using string// with if else loop"
   ]
  },
  {
   "cell_type": "code",
   "execution_count": 6,
   "id": "f89ce857",
   "metadata": {},
   "outputs": [
    {
     "name": "stdout",
     "output_type": "stream",
     "text": [
      "enter any text1:yaazhini\n",
      "enter any text2:athiyan\n",
      "false\n"
     ]
    }
   ],
   "source": [
    "a=str(input(\"enter any text1:\"))\n",
    "b=str(input(\"enter any text2:\"))\n",
    "if(a==b):\n",
    "    print(\"true\")\n",
    "else:\n",
    "    print(\"false\") "
   ]
  },
  {
   "cell_type": "markdown",
   "id": "62d02bc2",
   "metadata": {},
   "source": [
    "//not equal operator//using numbers"
   ]
  },
  {
   "cell_type": "code",
   "execution_count": 2,
   "id": "d12ea76f",
   "metadata": {},
   "outputs": [
    {
     "name": "stdout",
     "output_type": "stream",
     "text": [
      "enter any number1:56.7\n",
      "enter any number2:89.6\n",
      "True\n"
     ]
    }
   ],
   "source": [
    "a=float(input(\"enter any number1:\"))\n",
    "b=float(input(\"enter any number2:\"))\n",
    "print(a!=b)\n"
   ]
  },
  {
   "cell_type": "code",
   "execution_count": null,
   "id": "6956dee2",
   "metadata": {},
   "outputs": [],
   "source": []
  }
 ],
 "metadata": {
  "kernelspec": {
   "display_name": "Python 3 (ipykernel)",
   "language": "python",
   "name": "python3"
  },
  "language_info": {
   "codemirror_mode": {
    "name": "ipython",
    "version": 3
   },
   "file_extension": ".py",
   "mimetype": "text/x-python",
   "name": "python",
   "nbconvert_exporter": "python",
   "pygments_lexer": "ipython3",
   "version": "3.9.12"
  }
 },
 "nbformat": 4,
 "nbformat_minor": 5
}
