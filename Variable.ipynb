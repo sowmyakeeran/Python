{
 "cells": [
  {
   "cell_type": "markdown",
   "id": "af475780",
   "metadata": {},
   "source": [
    "# heading"
   ]
  },
  {
   "cell_type": "code",
   "execution_count": 1,
   "id": "74ba7b19",
   "metadata": {},
   "outputs": [
    {
     "name": "stdout",
     "output_type": "stream",
     "text": [
      "12\n"
     ]
    }
   ],
   "source": [
    "num1=5\n",
    "num2=7\n",
    "add=num1+num2\n",
    "\n",
    "print(add)\n"
   ]
  },
  {
   "cell_type": "code",
   "execution_count": 2,
   "id": "1d1b8aff",
   "metadata": {},
   "outputs": [
    {
     "name": "stdout",
     "output_type": "stream",
     "text": [
      "the mul of num1 and mul2\n",
      "225\n"
     ]
    }
   ],
   "source": [
    "num1=45\n",
    "num2=5\n",
    "mul=num1*num2\n",
    "print(\"the mul of num1 and mul2\")\n",
    "print(mul)\n"
   ]
  },
  {
   "cell_type": "raw",
   "id": "54764ba7",
   "metadata": {},
   "source": [
    "org=\"Hope AI\"\n",
    "name1=\"sowmya\"\n",
    "name2=\"nackeeran\"\n",
    "print(\"welcome\",name1,\"to\"org)\n"
   ]
  },
  {
   "cell_type": "code",
   "execution_count": 5,
   "id": "d5782ea0",
   "metadata": {},
   "outputs": [
    {
     "name": "stdout",
     "output_type": "stream",
     "text": [
      "welcome sowmya to Hope AI\n"
     ]
    }
   ],
   "source": [
    "org=\"Hope AI\"\n",
    "name1=\"sowmya\"\n",
    "name2=\"nackeeran\"\n",
    "print(\"welcome\",name1,\"to\",org)\n",
    "\n",
    "\n"
   ]
  },
  {
   "cell_type": "code",
   "execution_count": 6,
   "id": "26591ddc",
   "metadata": {},
   "outputs": [
    {
     "name": "stdout",
     "output_type": "stream",
     "text": [
      "welcome nackeeran to Hope AI\n"
     ]
    }
   ],
   "source": [
    "print(\"welcome\",name2,\"to\",org)\n",
    "\n",
    "\n",
    "\n",
    "b\n"
   ]
  }
 ],
 "metadata": {
  "kernelspec": {
   "display_name": "Python 3 (ipykernel)",
   "language": "python",
   "name": "python3"
  },
  "language_info": {
   "codemirror_mode": {
    "name": "ipython",
    "version": 3
   },
   "file_extension": ".py",
   "mimetype": "text/x-python",
   "name": "python",
   "nbconvert_exporter": "python",
   "pygments_lexer": "ipython3",
   "version": "3.9.12"
  }
 },
 "nbformat": 4,
 "nbformat_minor": 5
}
