{
 "cells": [
  {
   "cell_type": "code",
   "execution_count": 2,
   "id": "e8116a57",
   "metadata": {},
   "outputs": [
    {
     "name": "stdout",
     "output_type": "stream",
     "text": [
      "test\n"
     ]
    }
   ],
   "source": [
    "print('test')"
   ]
  },
  {
   "cell_type": "code",
   "execution_count": 1,
   "id": "856db838",
   "metadata": {},
   "outputs": [
    {
     "name": "stdout",
     "output_type": "stream",
     "text": [
      "enter the age56\n",
      "citizen\n"
     ]
    }
   ],
   "source": [
    "age=int(input(\"enter the age\"))\n",
    "if(age<=18):\n",
    "    print('children')\n",
    "elif(age<=35):\n",
    "    print(\"adult\")\n",
    "elif(age<=59):\n",
    "    print(\"citizen\")\n",
    "else:\n",
    "    print(\"senior citizen\")\n",
    "    "
   ]
  },
  {
   "cell_type": "markdown",
   "id": "d9b3ce26",
   "metadata": {},
   "source": [
    "  #Hello World\n",
    "  "
   ]
  },
  {
   "cell_type": "code",
   "execution_count": 2,
   "id": "cc972568",
   "metadata": {},
   "outputs": [
    {
     "name": "stdout",
     "output_type": "stream",
     "text": [
      "Hello World\n"
     ]
    }
   ],
   "source": [
    "print(\"Hello World\")\n"
   ]
  },
  {
   "cell_type": "markdown",
   "id": "8f0d8f22",
   "metadata": {},
   "source": [
    "#Enter your name\n"
   ]
  },
  {
   "cell_type": "code",
   "execution_count": null,
   "id": "21ce4ec7",
   "metadata": {},
   "outputs": [],
   "source": [
    "name=input(\"enter the name:\")\n",
    "\n",
    "print(\"welcome to Artificial Intelligence\")\n"
   ]
  },
  {
   "cell_type": "code",
   "execution_count": null,
   "id": "eaa11917",
   "metadata": {},
   "outputs": [],
   "source": [
    "print(\"welcome to Artificial Intelligence\")"
   ]
  },
  {
   "cell_type": "code",
   "execution_count": 3,
   "id": "35ed3310",
   "metadata": {},
   "outputs": [
    {
     "name": "stdout",
     "output_type": "stream",
     "text": [
      "<class 'dict'>\n"
     ]
    }
   ],
   "source": [
    "x={\"Name\":\"sowmya\",\"age\":36}\n",
    "\n",
    "\n",
    "print(type(x))\n",
    "\n"
   ]
  },
  {
   "cell_type": "code",
   "execution_count": 1,
   "id": "10a1c0dc",
   "metadata": {},
   "outputs": [
    {
     "name": "stdout",
     "output_type": "stream",
     "text": [
      "hello\n"
     ]
    }
   ],
   "source": [
    "print(\"hello\")\n",
    "\n"
   ]
  },
  {
   "cell_type": "code",
   "execution_count": 5,
   "id": "f42b4d99",
   "metadata": {},
   "outputs": [
    {
     "name": "stdout",
     "output_type": "stream",
     "text": [
      "enter the namesowmya\n",
      "enter the age34\n",
      "welcome to artifical intelligence\n"
     ]
    }
   ],
   "source": [
    "name=input(\"enter the name\")\n",
    "age=input(\"enter the age\")\n",
    "\n",
    "print(\"welcome to artifical intelligence\")\n"
   ]
  },
  {
   "cell_type": "code",
   "execution_count": null,
   "id": "b0be78af",
   "metadata": {},
   "outputs": [],
   "source": []
  },
  {
   "cell_type": "code",
   "execution_count": null,
   "id": "baf1af13",
   "metadata": {},
   "outputs": [],
   "source": []
  },
  {
   "cell_type": "code",
   "execution_count": null,
   "id": "d38c00ac",
   "metadata": {},
   "outputs": [],
   "source": []
  }
 ],
 "metadata": {
  "kernelspec": {
   "display_name": "Python 3 (ipykernel)",
   "language": "python",
   "name": "python3"
  },
  "language_info": {
   "codemirror_mode": {
    "name": "ipython",
    "version": 3
   },
   "file_extension": ".py",
   "mimetype": "text/x-python",
   "name": "python",
   "nbconvert_exporter": "python",
   "pygments_lexer": "ipython3",
   "version": "3.9.12"
  }
 },
 "nbformat": 4,
 "nbformat_minor": 5
}
