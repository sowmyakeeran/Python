{
 "cells": [
  {
   "cell_type": "code",
   "execution_count": 2,
   "id": "e8116a57",
   "metadata": {},
   "outputs": [
    {
     "name": "stdout",
     "output_type": "stream",
     "text": [
      "test\n"
     ]
    }
   ],
   "source": [
    "print('test')"
   ]
  },
  {
   "cell_type": "code",
   "execution_count": 1,
   "id": "d478dad1",
   "metadata": {},
   "outputs": [
    {
     "name": "stdout",
     "output_type": "stream",
     "text": [
      "enter the age56\n",
      "citizen\n"
     ]
    }
   ],
   "source": [
    "age=int(input(\"enter the age\"))\n",
    "if(age<=18):\n",
    "    print('children')\n",
    "elif(age<=35):\n",
    "    print(\"adult\")\n",
    "elif(age<=59):\n",
    "    print(\"citizen\")\n",
    "else:\n",
    "    print(\"senior citizen\")\n",
    "    "
   ]
  },
  {
   "cell_type": "markdown",
   "id": "fc35c23e",
   "metadata": {},
   "source": [
    "  #Hello World\n",
    "  "
   ]
  },
  {
   "cell_type": "code",
   "execution_count": 2,
   "id": "bfb9c7ad",
   "metadata": {},
   "outputs": [
    {
     "name": "stdout",
     "output_type": "stream",
     "text": [
      "Hello World\n"
     ]
    }
   ],
   "source": [
    "print(\"Hello World\")\n"
   ]
  },
  {
   "cell_type": "markdown",
   "id": "72e11bba",
   "metadata": {},
   "source": [
    "#Enter your name\n"
   ]
  },
  {
   "cell_type": "code",
   "execution_count": null,
   "id": "26f6091f",
   "metadata": {},
   "outputs": [],
   "source": [
    "name=input(\"enter the name:\")\n",
    "\n",
    "print(\"welcome to Artificial Intelligence\")\n"
   ]
  },
  {
   "cell_type": "code",
   "execution_count": null,
   "id": "ac6a87a2",
   "metadata": {},
   "outputs": [],
   "source": [
    "print(\"welcome to Artificial Intelligence\")"
   ]
  },
  {
   "cell_type": "code",
   "execution_count": 3,
   "id": "29f4d530",
   "metadata": {},
   "outputs": [
    {
     "name": "stdout",
     "output_type": "stream",
     "text": [
      "<class 'dict'>\n"
     ]
    }
   ],
   "source": [
    "x={\"Name\":\"sowmya\",\"age\":36}\n",
    "\n",
    "\n",
    "print(type(x))\n",
    "\n"
   ]
  },
  {
   "cell_type": "code",
   "execution_count": 1,
   "id": "611cc8e2",
   "metadata": {},
   "outputs": [
    {
     "name": "stdout",
     "output_type": "stream",
     "text": [
      "hello\n"
     ]
    }
   ],
   "source": [
    "print(\"hello\")\n",
    "\n"
   ]
  },
  {
   "cell_type": "code",
   "execution_count": 5,
   "id": "3bbc7bb4",
   "metadata": {},
   "outputs": [
    {
     "name": "stdout",
     "output_type": "stream",
     "text": [
      "enter the namesowmya\n",
      "enter the age34\n",
      "welcome to artifical intelligence\n"
     ]
    }
   ],
   "source": [
    "name=input(\"enter the name\")\n",
    "age=input(\"enter the age\")\n",
    "\n",
    "print(\"welcome to artifical intelligence\")\n"
   ]
  },
  {
   "cell_type": "code",
   "execution_count": 15,
   "id": "eedf7fe6",
   "metadata": {},
   "outputs": [
    {
     "name": "stdout",
     "output_type": "stream",
     "text": [
      "enter the x value:23\n",
      "enter the y value:23\n",
      "46\n"
     ]
    }
   ],
   "source": [
    "x=int(input('enter the x value:'))\n",
    "y=int(input('enter the y value:'))\n",
    "\n",
    "add=x + y\n",
    "print(add)\n",
    "\n",
    "\n",
    "\n",
    "\n"
   ]
  },
  {
   "cell_type": "markdown",
   "id": "57a33344",
   "metadata": {},
   "source": [
    "Arithmetic operation\n",
    "\n",
    "\n"
   ]
  },
  {
   "cell_type": "code",
   "execution_count": 16,
   "id": "0628f2fc",
   "metadata": {},
   "outputs": [
    {
     "name": "stdout",
     "output_type": "stream",
     "text": [
      "enter the x value28\n",
      "enter the y value13\n",
      "41\n",
      "15\n",
      "364\n",
      "2.1538461538461537\n"
     ]
    }
   ],
   "source": [
    "x=int(input('enter the x value'))\n",
    "y=int(input('enter the y value'))\n",
    "add=x+y\n",
    "print(add)\n",
    "sub=x-y\n",
    "print(sub)\n",
    "mul=x*y\n",
    "print(mul)\n",
    "div=x/y\n",
    "print(div)\n"
   ]
  },
  {
   "cell_type": "markdown",
   "id": "f694c510",
   "metadata": {},
   "source": [
    "Exponential(power)2**3=8,10**3=1000\n",
    "\n"
   ]
  },
  {
   "cell_type": "code",
   "execution_count": 21,
   "id": "b1f5f857",
   "metadata": {},
   "outputs": [
    {
     "name": "stdout",
     "output_type": "stream",
     "text": [
      "enter any number:2\n",
      "enter the exponent:3\n",
      "8\n"
     ]
    }
   ],
   "source": [
    "a=int(input(\"enter any number:\"))\n",
    "expo=int(input(\"enter the exponent:\"))\n",
    "        \n",
    "print(a**expo)\n",
    "         \n",
    "         \n"
   ]
  },
  {
   "cell_type": "code",
   "execution_count": null,
   "id": "f3dfc2d2",
   "metadata": {},
   "outputs": [],
   "source": []
  }
 ],
 "metadata": {
  "kernelspec": {
   "display_name": "Python 3 (ipykernel)",
   "language": "python",
   "name": "python3"
  },
  "language_info": {
   "codemirror_mode": {
    "name": "ipython",
    "version": 3
   },
   "file_extension": ".py",
   "mimetype": "text/x-python",
   "name": "python",
   "nbconvert_exporter": "python",
   "pygments_lexer": "ipython3",
   "version": "3.9.12"
  }
 },
 "nbformat": 4,
 "nbformat_minor": 5
}
