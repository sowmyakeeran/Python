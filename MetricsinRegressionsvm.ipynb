{
 "cells": [
  {
   "cell_type": "markdown",
   "id": "d1d4a7bd",
   "metadata": {},
   "source": [
    " STEP1: Importing the Libraies"
   ]
  },
  {
   "cell_type": "code",
   "execution_count": 3,
   "id": "3f33aba2",
   "metadata": {},
   "outputs": [
    {
     "name": "stdout",
     "output_type": "stream",
     "text": [
      "Note: you may need to restart the kernel to use updated packages.\n"
     ]
    },
    {
     "name": "stderr",
     "output_type": "stream",
     "text": [
      "ERROR: Could not find a version that satisfies the requirement GridSearchCV (from versions: none)\n",
      "ERROR: No matching distribution found for GridSearchCV\n"
     ]
    }
   ],
   "source": [
    "pip install GridSearchCV"
   ]
  },
  {
   "cell_type": "code",
   "execution_count": 4,
   "id": "99164688",
   "metadata": {},
   "outputs": [
    {
     "name": "stdout",
     "output_type": "stream",
     "text": [
      "Note: you may need to restart the kernel to use updated packages.\n"
     ]
    },
    {
     "name": "stderr",
     "output_type": "stream",
     "text": [
      "ERROR: Could not find a version that satisfies the requirement svm.SVC (from versions: none)\n",
      "ERROR: No matching distribution found for svm.SVC\n"
     ]
    }
   ],
   "source": [
    "pip install svm.SVC"
   ]
  },
  {
   "cell_type": "code",
   "execution_count": 2,
   "id": "edbca88f",
   "metadata": {},
   "outputs": [],
   "source": [
    "\n",
    "import numpy as np\n",
    "import matplotlib.pyplot as plt\n",
    "import pandas as pd\n"
   ]
  },
  {
   "cell_type": "markdown",
   "id": "c4aae3cc",
   "metadata": {},
   "source": [
    "STEP2: Loding the Dataset"
   ]
  },
  {
   "cell_type": "code",
   "execution_count": 3,
   "id": "a8ed115c",
   "metadata": {},
   "outputs": [],
   "source": [
    "dataset = pd.read_csv('http://raw.githubusercontent.com/RamishaRaniK/dataset/main/insurance_pre.csv')"
   ]
  },
  {
   "cell_type": "code",
   "execution_count": 4,
   "id": "8f032bc3",
   "metadata": {},
   "outputs": [
    {
     "data": {
      "text/html": [
       "<div>\n",
       "<style scoped>\n",
       "    .dataframe tbody tr th:only-of-type {\n",
       "        vertical-align: middle;\n",
       "    }\n",
       "\n",
       "    .dataframe tbody tr th {\n",
       "        vertical-align: top;\n",
       "    }\n",
       "\n",
       "    .dataframe thead th {\n",
       "        text-align: right;\n",
       "    }\n",
       "</style>\n",
       "<table border=\"1\" class=\"dataframe\">\n",
       "  <thead>\n",
       "    <tr style=\"text-align: right;\">\n",
       "      <th></th>\n",
       "      <th>age</th>\n",
       "      <th>sex</th>\n",
       "      <th>bmi</th>\n",
       "      <th>children</th>\n",
       "      <th>smoker</th>\n",
       "      <th>charges</th>\n",
       "    </tr>\n",
       "  </thead>\n",
       "  <tbody>\n",
       "    <tr>\n",
       "      <th>0</th>\n",
       "      <td>19</td>\n",
       "      <td>female</td>\n",
       "      <td>27.900</td>\n",
       "      <td>0</td>\n",
       "      <td>yes</td>\n",
       "      <td>16884.92400</td>\n",
       "    </tr>\n",
       "    <tr>\n",
       "      <th>1</th>\n",
       "      <td>18</td>\n",
       "      <td>male</td>\n",
       "      <td>33.770</td>\n",
       "      <td>1</td>\n",
       "      <td>no</td>\n",
       "      <td>1725.55230</td>\n",
       "    </tr>\n",
       "    <tr>\n",
       "      <th>2</th>\n",
       "      <td>28</td>\n",
       "      <td>male</td>\n",
       "      <td>33.000</td>\n",
       "      <td>3</td>\n",
       "      <td>no</td>\n",
       "      <td>4449.46200</td>\n",
       "    </tr>\n",
       "    <tr>\n",
       "      <th>3</th>\n",
       "      <td>33</td>\n",
       "      <td>male</td>\n",
       "      <td>22.705</td>\n",
       "      <td>0</td>\n",
       "      <td>no</td>\n",
       "      <td>21984.47061</td>\n",
       "    </tr>\n",
       "    <tr>\n",
       "      <th>4</th>\n",
       "      <td>32</td>\n",
       "      <td>male</td>\n",
       "      <td>28.880</td>\n",
       "      <td>0</td>\n",
       "      <td>no</td>\n",
       "      <td>3866.85520</td>\n",
       "    </tr>\n",
       "    <tr>\n",
       "      <th>...</th>\n",
       "      <td>...</td>\n",
       "      <td>...</td>\n",
       "      <td>...</td>\n",
       "      <td>...</td>\n",
       "      <td>...</td>\n",
       "      <td>...</td>\n",
       "    </tr>\n",
       "    <tr>\n",
       "      <th>1333</th>\n",
       "      <td>50</td>\n",
       "      <td>male</td>\n",
       "      <td>30.970</td>\n",
       "      <td>3</td>\n",
       "      <td>no</td>\n",
       "      <td>10600.54830</td>\n",
       "    </tr>\n",
       "    <tr>\n",
       "      <th>1334</th>\n",
       "      <td>18</td>\n",
       "      <td>female</td>\n",
       "      <td>31.920</td>\n",
       "      <td>0</td>\n",
       "      <td>no</td>\n",
       "      <td>2205.98080</td>\n",
       "    </tr>\n",
       "    <tr>\n",
       "      <th>1335</th>\n",
       "      <td>18</td>\n",
       "      <td>female</td>\n",
       "      <td>36.850</td>\n",
       "      <td>0</td>\n",
       "      <td>no</td>\n",
       "      <td>1629.83350</td>\n",
       "    </tr>\n",
       "    <tr>\n",
       "      <th>1336</th>\n",
       "      <td>21</td>\n",
       "      <td>female</td>\n",
       "      <td>25.800</td>\n",
       "      <td>0</td>\n",
       "      <td>no</td>\n",
       "      <td>2007.94500</td>\n",
       "    </tr>\n",
       "    <tr>\n",
       "      <th>1337</th>\n",
       "      <td>61</td>\n",
       "      <td>female</td>\n",
       "      <td>29.070</td>\n",
       "      <td>0</td>\n",
       "      <td>yes</td>\n",
       "      <td>29141.36030</td>\n",
       "    </tr>\n",
       "  </tbody>\n",
       "</table>\n",
       "<p>1338 rows × 6 columns</p>\n",
       "</div>"
      ],
      "text/plain": [
       "      age     sex     bmi  children smoker      charges\n",
       "0      19  female  27.900         0    yes  16884.92400\n",
       "1      18    male  33.770         1     no   1725.55230\n",
       "2      28    male  33.000         3     no   4449.46200\n",
       "3      33    male  22.705         0     no  21984.47061\n",
       "4      32    male  28.880         0     no   3866.85520\n",
       "...   ...     ...     ...       ...    ...          ...\n",
       "1333   50    male  30.970         3     no  10600.54830\n",
       "1334   18  female  31.920         0     no   2205.98080\n",
       "1335   18  female  36.850         0     no   1629.83350\n",
       "1336   21  female  25.800         0     no   2007.94500\n",
       "1337   61  female  29.070         0    yes  29141.36030\n",
       "\n",
       "[1338 rows x 6 columns]"
      ]
     },
     "execution_count": 4,
     "metadata": {},
     "output_type": "execute_result"
    }
   ],
   "source": [
    "dataset"
   ]
  },
  {
   "cell_type": "markdown",
   "id": "45eb33b5",
   "metadata": {},
   "source": [
    "STEP:3 get_dummies() TO CONVERT STRING DATA INTO BYTESTREAM(0'S &1'S)"
   ]
  },
  {
   "cell_type": "code",
   "execution_count": 5,
   "id": "9cdd1fad",
   "metadata": {},
   "outputs": [],
   "source": [
    "datasets=pd.get_dummies(dataset,drop_first=True)"
   ]
  },
  {
   "cell_type": "code",
   "execution_count": 6,
   "id": "0a82e72f",
   "metadata": {},
   "outputs": [
    {
     "data": {
      "text/html": [
       "<div>\n",
       "<style scoped>\n",
       "    .dataframe tbody tr th:only-of-type {\n",
       "        vertical-align: middle;\n",
       "    }\n",
       "\n",
       "    .dataframe tbody tr th {\n",
       "        vertical-align: top;\n",
       "    }\n",
       "\n",
       "    .dataframe thead th {\n",
       "        text-align: right;\n",
       "    }\n",
       "</style>\n",
       "<table border=\"1\" class=\"dataframe\">\n",
       "  <thead>\n",
       "    <tr style=\"text-align: right;\">\n",
       "      <th></th>\n",
       "      <th>age</th>\n",
       "      <th>bmi</th>\n",
       "      <th>children</th>\n",
       "      <th>charges</th>\n",
       "      <th>sex_male</th>\n",
       "      <th>smoker_yes</th>\n",
       "    </tr>\n",
       "  </thead>\n",
       "  <tbody>\n",
       "    <tr>\n",
       "      <th>0</th>\n",
       "      <td>19</td>\n",
       "      <td>27.900</td>\n",
       "      <td>0</td>\n",
       "      <td>16884.92400</td>\n",
       "      <td>0</td>\n",
       "      <td>1</td>\n",
       "    </tr>\n",
       "    <tr>\n",
       "      <th>1</th>\n",
       "      <td>18</td>\n",
       "      <td>33.770</td>\n",
       "      <td>1</td>\n",
       "      <td>1725.55230</td>\n",
       "      <td>1</td>\n",
       "      <td>0</td>\n",
       "    </tr>\n",
       "    <tr>\n",
       "      <th>2</th>\n",
       "      <td>28</td>\n",
       "      <td>33.000</td>\n",
       "      <td>3</td>\n",
       "      <td>4449.46200</td>\n",
       "      <td>1</td>\n",
       "      <td>0</td>\n",
       "    </tr>\n",
       "    <tr>\n",
       "      <th>3</th>\n",
       "      <td>33</td>\n",
       "      <td>22.705</td>\n",
       "      <td>0</td>\n",
       "      <td>21984.47061</td>\n",
       "      <td>1</td>\n",
       "      <td>0</td>\n",
       "    </tr>\n",
       "    <tr>\n",
       "      <th>4</th>\n",
       "      <td>32</td>\n",
       "      <td>28.880</td>\n",
       "      <td>0</td>\n",
       "      <td>3866.85520</td>\n",
       "      <td>1</td>\n",
       "      <td>0</td>\n",
       "    </tr>\n",
       "    <tr>\n",
       "      <th>...</th>\n",
       "      <td>...</td>\n",
       "      <td>...</td>\n",
       "      <td>...</td>\n",
       "      <td>...</td>\n",
       "      <td>...</td>\n",
       "      <td>...</td>\n",
       "    </tr>\n",
       "    <tr>\n",
       "      <th>1333</th>\n",
       "      <td>50</td>\n",
       "      <td>30.970</td>\n",
       "      <td>3</td>\n",
       "      <td>10600.54830</td>\n",
       "      <td>1</td>\n",
       "      <td>0</td>\n",
       "    </tr>\n",
       "    <tr>\n",
       "      <th>1334</th>\n",
       "      <td>18</td>\n",
       "      <td>31.920</td>\n",
       "      <td>0</td>\n",
       "      <td>2205.98080</td>\n",
       "      <td>0</td>\n",
       "      <td>0</td>\n",
       "    </tr>\n",
       "    <tr>\n",
       "      <th>1335</th>\n",
       "      <td>18</td>\n",
       "      <td>36.850</td>\n",
       "      <td>0</td>\n",
       "      <td>1629.83350</td>\n",
       "      <td>0</td>\n",
       "      <td>0</td>\n",
       "    </tr>\n",
       "    <tr>\n",
       "      <th>1336</th>\n",
       "      <td>21</td>\n",
       "      <td>25.800</td>\n",
       "      <td>0</td>\n",
       "      <td>2007.94500</td>\n",
       "      <td>0</td>\n",
       "      <td>0</td>\n",
       "    </tr>\n",
       "    <tr>\n",
       "      <th>1337</th>\n",
       "      <td>61</td>\n",
       "      <td>29.070</td>\n",
       "      <td>0</td>\n",
       "      <td>29141.36030</td>\n",
       "      <td>0</td>\n",
       "      <td>1</td>\n",
       "    </tr>\n",
       "  </tbody>\n",
       "</table>\n",
       "<p>1338 rows × 6 columns</p>\n",
       "</div>"
      ],
      "text/plain": [
       "      age     bmi  children      charges  sex_male  smoker_yes\n",
       "0      19  27.900         0  16884.92400         0           1\n",
       "1      18  33.770         1   1725.55230         1           0\n",
       "2      28  33.000         3   4449.46200         1           0\n",
       "3      33  22.705         0  21984.47061         1           0\n",
       "4      32  28.880         0   3866.85520         1           0\n",
       "...   ...     ...       ...          ...       ...         ...\n",
       "1333   50  30.970         3  10600.54830         1           0\n",
       "1334   18  31.920         0   2205.98080         0           0\n",
       "1335   18  36.850         0   1629.83350         0           0\n",
       "1336   21  25.800         0   2007.94500         0           0\n",
       "1337   61  29.070         0  29141.36030         0           1\n",
       "\n",
       "[1338 rows x 6 columns]"
      ]
     },
     "execution_count": 6,
     "metadata": {},
     "output_type": "execute_result"
    }
   ],
   "source": [
    "datasets"
   ]
  },
  {
   "cell_type": "markdown",
   "id": "61a3f99d",
   "metadata": {},
   "source": [
    "STEP:4 ASSINGING INPUT AND OUTPUT DATA"
   ]
  },
  {
   "cell_type": "code",
   "execution_count": 7,
   "id": "488be459",
   "metadata": {},
   "outputs": [
    {
     "data": {
      "text/plain": [
       "Index(['age', 'bmi', 'children', 'charges', 'sex_male', 'smoker_yes'], dtype='object')"
      ]
     },
     "execution_count": 7,
     "metadata": {},
     "output_type": "execute_result"
    }
   ],
   "source": [
    "datasets.columns"
   ]
  },
  {
   "cell_type": "code",
   "execution_count": 8,
   "id": "16c6f5f5",
   "metadata": {},
   "outputs": [],
   "source": [
    "indep=datasets[['age', 'bmi', 'children', 'sex_male', 'smoker_yes']]\n",
    "\n",
    "dep=datasets[['charges']]"
   ]
  },
  {
   "cell_type": "code",
   "execution_count": 9,
   "id": "13cd6f3e",
   "metadata": {},
   "outputs": [
    {
     "data": {
      "text/html": [
       "<div>\n",
       "<style scoped>\n",
       "    .dataframe tbody tr th:only-of-type {\n",
       "        vertical-align: middle;\n",
       "    }\n",
       "\n",
       "    .dataframe tbody tr th {\n",
       "        vertical-align: top;\n",
       "    }\n",
       "\n",
       "    .dataframe thead th {\n",
       "        text-align: right;\n",
       "    }\n",
       "</style>\n",
       "<table border=\"1\" class=\"dataframe\">\n",
       "  <thead>\n",
       "    <tr style=\"text-align: right;\">\n",
       "      <th></th>\n",
       "      <th>age</th>\n",
       "      <th>bmi</th>\n",
       "      <th>children</th>\n",
       "      <th>sex_male</th>\n",
       "      <th>smoker_yes</th>\n",
       "    </tr>\n",
       "  </thead>\n",
       "  <tbody>\n",
       "    <tr>\n",
       "      <th>0</th>\n",
       "      <td>19</td>\n",
       "      <td>27.900</td>\n",
       "      <td>0</td>\n",
       "      <td>0</td>\n",
       "      <td>1</td>\n",
       "    </tr>\n",
       "    <tr>\n",
       "      <th>1</th>\n",
       "      <td>18</td>\n",
       "      <td>33.770</td>\n",
       "      <td>1</td>\n",
       "      <td>1</td>\n",
       "      <td>0</td>\n",
       "    </tr>\n",
       "    <tr>\n",
       "      <th>2</th>\n",
       "      <td>28</td>\n",
       "      <td>33.000</td>\n",
       "      <td>3</td>\n",
       "      <td>1</td>\n",
       "      <td>0</td>\n",
       "    </tr>\n",
       "    <tr>\n",
       "      <th>3</th>\n",
       "      <td>33</td>\n",
       "      <td>22.705</td>\n",
       "      <td>0</td>\n",
       "      <td>1</td>\n",
       "      <td>0</td>\n",
       "    </tr>\n",
       "    <tr>\n",
       "      <th>4</th>\n",
       "      <td>32</td>\n",
       "      <td>28.880</td>\n",
       "      <td>0</td>\n",
       "      <td>1</td>\n",
       "      <td>0</td>\n",
       "    </tr>\n",
       "    <tr>\n",
       "      <th>...</th>\n",
       "      <td>...</td>\n",
       "      <td>...</td>\n",
       "      <td>...</td>\n",
       "      <td>...</td>\n",
       "      <td>...</td>\n",
       "    </tr>\n",
       "    <tr>\n",
       "      <th>1333</th>\n",
       "      <td>50</td>\n",
       "      <td>30.970</td>\n",
       "      <td>3</td>\n",
       "      <td>1</td>\n",
       "      <td>0</td>\n",
       "    </tr>\n",
       "    <tr>\n",
       "      <th>1334</th>\n",
       "      <td>18</td>\n",
       "      <td>31.920</td>\n",
       "      <td>0</td>\n",
       "      <td>0</td>\n",
       "      <td>0</td>\n",
       "    </tr>\n",
       "    <tr>\n",
       "      <th>1335</th>\n",
       "      <td>18</td>\n",
       "      <td>36.850</td>\n",
       "      <td>0</td>\n",
       "      <td>0</td>\n",
       "      <td>0</td>\n",
       "    </tr>\n",
       "    <tr>\n",
       "      <th>1336</th>\n",
       "      <td>21</td>\n",
       "      <td>25.800</td>\n",
       "      <td>0</td>\n",
       "      <td>0</td>\n",
       "      <td>0</td>\n",
       "    </tr>\n",
       "    <tr>\n",
       "      <th>1337</th>\n",
       "      <td>61</td>\n",
       "      <td>29.070</td>\n",
       "      <td>0</td>\n",
       "      <td>0</td>\n",
       "      <td>1</td>\n",
       "    </tr>\n",
       "  </tbody>\n",
       "</table>\n",
       "<p>1338 rows × 5 columns</p>\n",
       "</div>"
      ],
      "text/plain": [
       "      age     bmi  children  sex_male  smoker_yes\n",
       "0      19  27.900         0         0           1\n",
       "1      18  33.770         1         1           0\n",
       "2      28  33.000         3         1           0\n",
       "3      33  22.705         0         1           0\n",
       "4      32  28.880         0         1           0\n",
       "...   ...     ...       ...       ...         ...\n",
       "1333   50  30.970         3         1           0\n",
       "1334   18  31.920         0         0           0\n",
       "1335   18  36.850         0         0           0\n",
       "1336   21  25.800         0         0           0\n",
       "1337   61  29.070         0         0           1\n",
       "\n",
       "[1338 rows x 5 columns]"
      ]
     },
     "execution_count": 9,
     "metadata": {},
     "output_type": "execute_result"
    }
   ],
   "source": [
    "indep"
   ]
  },
  {
   "cell_type": "code",
   "execution_count": 10,
   "id": "daedfdd1",
   "metadata": {},
   "outputs": [
    {
     "data": {
      "text/html": [
       "<div>\n",
       "<style scoped>\n",
       "    .dataframe tbody tr th:only-of-type {\n",
       "        vertical-align: middle;\n",
       "    }\n",
       "\n",
       "    .dataframe tbody tr th {\n",
       "        vertical-align: top;\n",
       "    }\n",
       "\n",
       "    .dataframe thead th {\n",
       "        text-align: right;\n",
       "    }\n",
       "</style>\n",
       "<table border=\"1\" class=\"dataframe\">\n",
       "  <thead>\n",
       "    <tr style=\"text-align: right;\">\n",
       "      <th></th>\n",
       "      <th>charges</th>\n",
       "    </tr>\n",
       "  </thead>\n",
       "  <tbody>\n",
       "    <tr>\n",
       "      <th>0</th>\n",
       "      <td>16884.92400</td>\n",
       "    </tr>\n",
       "    <tr>\n",
       "      <th>1</th>\n",
       "      <td>1725.55230</td>\n",
       "    </tr>\n",
       "    <tr>\n",
       "      <th>2</th>\n",
       "      <td>4449.46200</td>\n",
       "    </tr>\n",
       "    <tr>\n",
       "      <th>3</th>\n",
       "      <td>21984.47061</td>\n",
       "    </tr>\n",
       "    <tr>\n",
       "      <th>4</th>\n",
       "      <td>3866.85520</td>\n",
       "    </tr>\n",
       "    <tr>\n",
       "      <th>...</th>\n",
       "      <td>...</td>\n",
       "    </tr>\n",
       "    <tr>\n",
       "      <th>1333</th>\n",
       "      <td>10600.54830</td>\n",
       "    </tr>\n",
       "    <tr>\n",
       "      <th>1334</th>\n",
       "      <td>2205.98080</td>\n",
       "    </tr>\n",
       "    <tr>\n",
       "      <th>1335</th>\n",
       "      <td>1629.83350</td>\n",
       "    </tr>\n",
       "    <tr>\n",
       "      <th>1336</th>\n",
       "      <td>2007.94500</td>\n",
       "    </tr>\n",
       "    <tr>\n",
       "      <th>1337</th>\n",
       "      <td>29141.36030</td>\n",
       "    </tr>\n",
       "  </tbody>\n",
       "</table>\n",
       "<p>1338 rows × 1 columns</p>\n",
       "</div>"
      ],
      "text/plain": [
       "          charges\n",
       "0     16884.92400\n",
       "1      1725.55230\n",
       "2      4449.46200\n",
       "3     21984.47061\n",
       "4      3866.85520\n",
       "...           ...\n",
       "1333  10600.54830\n",
       "1334   2205.98080\n",
       "1335   1629.83350\n",
       "1336   2007.94500\n",
       "1337  29141.36030\n",
       "\n",
       "[1338 rows x 1 columns]"
      ]
     },
     "execution_count": 10,
     "metadata": {},
     "output_type": "execute_result"
    }
   ],
   "source": [
    "dep"
   ]
  },
  {
   "cell_type": "markdown",
   "id": "9dcc723e",
   "metadata": {},
   "source": [
    "STEP: 5 SPLITING TRAIN/TEST DATA"
   ]
  },
  {
   "cell_type": "code",
   "execution_count": 11,
   "id": "52c5fada",
   "metadata": {},
   "outputs": [],
   "source": [
    "#spliting train /test set\n",
    "from sklearn.model_selection import train_test_split\n",
    "x_train,x_test,y_train,y_test=train_test_split(indep,dep,test_size=1/3,random_state=0)"
   ]
  },
  {
   "cell_type": "markdown",
   "id": "f1055627",
   "metadata": {},
   "source": [
    " STEP:6  MODEL svm"
   ]
  },
  {
   "cell_type": "code",
   "execution_count": 12,
   "id": "fde7a44d",
   "metadata": {},
   "outputs": [],
   "source": [
    "from sklearn.preprocessing import StandardScaler\n",
    "sc=StandardScaler()\n",
    "x_train=sc.fit_transform(x_train)\n",
    "x_test=sc.transform(x_test)\n"
   ]
  },
  {
   "cell_type": "code",
   "execution_count": 21,
   "id": "f913c48d",
   "metadata": {},
   "outputs": [
    {
     "name": "stderr",
     "output_type": "stream",
     "text": [
      "C:\\Users\\Yaazh\\anaconda3\\envs\\ai\\lib\\site-packages\\sklearn\\utils\\validation.py:993: DataConversionWarning: A column-vector y was passed when a 1d array was expected. Please change the shape of y to (n_samples, ), for example using ravel().\n",
      "  y = column_or_1d(y, warn=True)\n"
     ]
    },
    {
     "data": {
      "text/plain": [
       "SVR(kernel='linear')"
      ]
     },
     "execution_count": 21,
     "metadata": {},
     "output_type": "execute_result"
    }
   ],
   "source": [
    "from sklearn.svm import SVR\n",
    "r=SVR(kernel='linear')\n",
    "r.fit(x_train,y_train)\n",
    "                \n",
    "                   \n",
    "                 \n",
    "                \n"
   ]
  },
  {
   "cell_type": "markdown",
   "id": "0685a02b",
   "metadata": {},
   "source": [
    " STEP:8 PREDICTION"
   ]
  },
  {
   "cell_type": "code",
   "execution_count": 14,
   "id": "5a4a31bf",
   "metadata": {},
   "outputs": [],
   "source": [
    "y_pred=r.predict(x_test)"
   ]
  },
  {
   "cell_type": "code",
   "execution_count": 15,
   "id": "6c8fbd65",
   "metadata": {},
   "outputs": [
    {
     "data": {
      "text/plain": [
       "array([9551.61973683, 9524.98379083, 9603.97793871, 9586.5384992 ,\n",
       "       9552.38133185, 9487.88597475, 9452.38228031, 9564.3386789 ,\n",
       "       9513.5024943 , 9503.55465111, 9518.661035  , 9541.51352001,\n",
       "       9503.08728568, 9472.96728454, 9595.43619567, 9550.75729215,\n",
       "       9579.43586064, 9455.83257763, 9493.56011421, 9588.30061703,\n",
       "       9611.68237444, 9574.7887212 , 9557.44380548, 9610.15246327,\n",
       "       9463.62440871, 9485.86373079, 9498.98792895, 9524.10851174,\n",
       "       9462.89782507, 9523.33138589, 9518.03406448, 9602.68273574,\n",
       "       9589.77762674, 9570.85289956, 9577.06237413, 9456.03498053,\n",
       "       9541.2718823 , 9599.4973533 , 9603.77682115, 9452.35802866,\n",
       "       9500.3074808 , 9460.21642652, 9606.7939091 , 9611.66787329,\n",
       "       9574.41078725, 9463.32017665, 9550.41987427, 9499.83542078,\n",
       "       9468.58460816, 9569.94813123, 9457.67243143, 9492.05731982,\n",
       "       9621.52380174, 9597.19216146, 9579.37922307, 9474.44243353,\n",
       "       9471.99480431, 9543.65490937, 9554.12204954, 9576.62935586,\n",
       "       9455.24784595, 9603.38529174, 9581.09114213, 9547.41959513,\n",
       "       9561.44358794, 9558.84555448, 9587.05690508, 9595.96497826,\n",
       "       9477.31122561, 9541.98518487, 9591.52878299, 9571.19794238,\n",
       "       9586.24088566, 9596.48845727, 9583.25710335, 9587.8021318 ,\n",
       "       9527.29182727, 9519.28685837, 9600.83926158, 9614.50778537,\n",
       "       9574.25260633, 9580.5252114 , 9458.41629773, 9516.36323057,\n",
       "       9617.16955578, 9602.05835736, 9498.46920244, 9457.95566911,\n",
       "       9578.03294718, 9597.88482734, 9515.85312343, 9568.19004568,\n",
       "       9493.96857298, 9519.16557747, 9484.94016045, 9455.76885384,\n",
       "       9618.12996435, 9617.46926629, 9472.44487226, 9572.80147858,\n",
       "       9459.70415946, 9483.33527212, 9467.4722796 , 9605.25393033,\n",
       "       9603.60897971, 9473.43526472, 9564.56826708, 9462.36663478,\n",
       "       9581.03597884, 9615.16162412, 9557.4052661 , 9524.85321906,\n",
       "       9530.215707  , 9586.27687026, 9600.32777775, 9507.90827915,\n",
       "       9465.87364849, 9543.73775708, 9582.38904788, 9536.71634155,\n",
       "       9603.15421091, 9555.13676713, 9593.91554169, 9517.85816373,\n",
       "       9507.74216053, 9487.83084525, 9612.32026763, 9605.06461179,\n",
       "       9601.14827103, 9477.27792627, 9515.92443347, 9462.02651086,\n",
       "       9478.15007862, 9547.06629602, 9613.10789823, 9605.00568238,\n",
       "       9606.19934877, 9541.12365169, 9608.69959409, 9448.62712968,\n",
       "       9448.757343  , 9566.27475115, 9550.59015282, 9565.97313337,\n",
       "       9469.4310708 , 9599.39055941, 9586.91138923, 9470.81338371,\n",
       "       9472.32581369, 9556.23022936, 9477.53165945, 9584.05173203,\n",
       "       9549.11427571, 9452.5259975 , 9480.35852676, 9487.07955435,\n",
       "       9451.51514324, 9451.90710383, 9550.71553007, 9548.54965597,\n",
       "       9501.94447857, 9586.37815524, 9585.75405154, 9556.64509873,\n",
       "       9486.99397898, 9528.59635897, 9574.02760804, 9497.70579244,\n",
       "       9458.64987751, 9485.34246721, 9475.41096842, 9468.88168939,\n",
       "       9512.32304799, 9472.63033147, 9498.11359513, 9528.89693589,\n",
       "       9478.95421498, 9495.23520004, 9604.99694112, 9458.63905543,\n",
       "       9556.1941497 , 9515.20344427, 9577.76566562, 9466.16459898,\n",
       "       9488.82618921, 9611.97287032, 9457.47260426, 9443.39578146,\n",
       "       9601.33881178, 9545.06335509, 9617.55068792, 9459.24780109,\n",
       "       9471.10662106, 9609.46347255, 9472.10156045, 9457.10862152,\n",
       "       9490.67306176, 9514.91125304, 9493.54141462, 9457.87842364,\n",
       "       9565.15164674, 9611.04427453, 9569.99826648, 9592.27091164,\n",
       "       9474.01098599, 9608.41163841, 9469.72685335, 9558.42845446,\n",
       "       9494.0784417 , 9511.05631599, 9534.42015108, 9596.62215664,\n",
       "       9493.62215004, 9452.17728122, 9495.24012933, 9464.28252618,\n",
       "       9509.9234938 , 9474.39516305, 9575.99734713, 9514.86156818,\n",
       "       9522.27171498, 9517.47120629, 9535.67798042, 9461.41547439,\n",
       "       9584.3270883 , 9592.78039522, 9576.91414256, 9578.5248765 ,\n",
       "       9520.0615061 , 9457.81444715, 9457.17010687, 9538.45685444,\n",
       "       9587.51303012, 9523.4516189 , 9465.00491154, 9509.44752642,\n",
       "       9529.53933358, 9593.0039589 , 9481.50975973, 9552.74331107,\n",
       "       9484.84553871, 9584.89147268, 9519.58856613, 9511.50743646,\n",
       "       9530.97430194, 9557.31551443, 9468.74985417, 9511.74097661,\n",
       "       9461.79721218, 9498.01020603, 9593.40178638, 9610.298555  ,\n",
       "       9469.17293815, 9496.12118653, 9448.14532504, 9467.92921488,\n",
       "       9522.02629476, 9468.88498071, 9523.50739942, 9457.58417826,\n",
       "       9535.94261349, 9616.12859363, 9614.39036981, 9590.43267122,\n",
       "       9495.03632174, 9575.35030676, 9581.58429802, 9536.47150746,\n",
       "       9588.44901574, 9468.40728979, 9580.85908911, 9490.0898305 ,\n",
       "       9582.59620906, 9460.15596043, 9610.37977313, 9466.9871357 ,\n",
       "       9560.78997053, 9555.73675961, 9455.33783111, 9586.70176517,\n",
       "       9580.63582607, 9489.05390441, 9585.94887959, 9448.25855284,\n",
       "       9501.95071595, 9500.76510395, 9555.16154947, 9607.42507741,\n",
       "       9525.28347013, 9460.05672387, 9487.02057783, 9610.94065442,\n",
       "       9533.68978455, 9455.65779975, 9570.80255436, 9569.90217785,\n",
       "       9581.6420262 , 9486.94317566, 9471.69941414, 9551.78334432,\n",
       "       9456.75500545, 9469.82058444, 9576.76166641, 9584.24174168,\n",
       "       9595.81507663, 9456.85373925, 9443.73077367, 9534.63635444,\n",
       "       9557.8188328 , 9573.24651607, 9584.55792652, 9523.39632112,\n",
       "       9575.36552547, 9447.44691461, 9527.87762506, 9483.39579565,\n",
       "       9531.53954608, 9483.12428259, 9510.96725392, 9597.11691133,\n",
       "       9469.23172488, 9446.40331882, 9466.45634666, 9539.45156607,\n",
       "       9467.46010239, 9575.67420815, 9613.30220445, 9593.18484589,\n",
       "       9538.15600808, 9608.71123654, 9578.64943141, 9474.92244646,\n",
       "       9546.59729096, 9512.79280024, 9613.61867561, 9453.34116794,\n",
       "       9582.71732429, 9456.55039709, 9576.73029421, 9468.33673355,\n",
       "       9601.02072674, 9523.056842  , 9463.34121316, 9575.21474612,\n",
       "       9496.66463618, 9478.33000698, 9600.41339996, 9456.48139782,\n",
       "       9528.50028967, 9468.48707263, 9564.19500729, 9476.17333489,\n",
       "       9521.57780568, 9503.00273954, 9615.7091789 , 9537.44757227,\n",
       "       9599.4649693 , 9591.04897428, 9481.54417125, 9553.88251104,\n",
       "       9455.47785758, 9460.69404647, 9460.90266918, 9541.33150837,\n",
       "       9617.88805727, 9569.5080808 , 9456.61096599, 9577.10174913,\n",
       "       9461.48190672, 9523.59529775, 9453.6987733 , 9503.95922875,\n",
       "       9449.63296776, 9584.8838788 , 9517.47759918, 9476.67555585,\n",
       "       9608.08749398, 9567.4968082 , 9618.17776905, 9572.16025591,\n",
       "       9470.93024912, 9486.8593727 , 9446.32453028, 9546.94949875,\n",
       "       9470.23443033, 9450.57146378, 9553.61142455, 9511.82937177,\n",
       "       9506.02004596, 9458.94445456, 9446.36142887, 9598.46566898,\n",
       "       9456.6646825 , 9545.32835082, 9475.91266722, 9528.99767745,\n",
       "       9573.17960021, 9477.67076098, 9576.10867195, 9570.71524454,\n",
       "       9591.2497046 , 9590.03318881, 9448.80453683, 9492.99030378,\n",
       "       9568.01719548, 9515.01763712, 9477.70541798, 9447.05506077,\n",
       "       9577.21835989, 9589.97042737, 9506.47936968, 9587.96717409,\n",
       "       9535.47798792, 9559.50119552, 9603.50009915, 9505.98335645,\n",
       "       9533.95036944, 9456.21127467, 9581.39367355, 9471.00096987,\n",
       "       9508.12540622, 9487.48498545, 9582.21912819, 9499.80602776,\n",
       "       9563.9858161 , 9610.24769986, 9475.665539  , 9580.64757398,\n",
       "       9584.69984737, 9575.28189593, 9524.86887157, 9568.55707143,\n",
       "       9537.11739479, 9457.44320625, 9557.2807344 , 9596.17554616,\n",
       "       9597.68816836, 9591.8302647 , 9545.53368611, 9617.17588594,\n",
       "       9495.87614313, 9580.11148481, 9457.26199994, 9578.16489754,\n",
       "       9503.66349169, 9564.29037074])"
      ]
     },
     "execution_count": 15,
     "metadata": {},
     "output_type": "execute_result"
    }
   ],
   "source": [
    "y_pred"
   ]
  },
  {
   "cell_type": "markdown",
   "id": "0f9cfa4d",
   "metadata": {},
   "source": [
    " STEP:9 EVALUTION METRICS"
   ]
  },
  {
   "cell_type": "code",
   "execution_count": 22,
   "id": "0a933db3",
   "metadata": {},
   "outputs": [
    {
     "name": "stdout",
     "output_type": "stream",
     "text": [
      "-9.37345406747172 %\n"
     ]
    }
   ],
   "source": [
    "from sklearn.metrics import r2_score\n",
    "r_score=r2_score(y_test,y_pred)\n",
    "print(r_score*100,'%')"
   ]
  },
  {
   "cell_type": "code",
   "execution_count": 23,
   "id": "029e0858",
   "metadata": {},
   "outputs": [
    {
     "name": "stdout",
     "output_type": "stream",
     "text": [
      "874446.820235697 %\n"
     ]
    }
   ],
   "source": [
    "from sklearn.metrics import mean_absolute_error\n",
    "accuracy=mean_absolute_error(y_test,y_pred)\n",
    "print(accuracy*100,'%')"
   ]
  },
  {
   "cell_type": "code",
   "execution_count": 24,
   "id": "9a332f74",
   "metadata": {},
   "outputs": [
    {
     "name": "stdout",
     "output_type": "stream",
     "text": [
      "17536414705.45832 %\n"
     ]
    }
   ],
   "source": [
    "from sklearn.metrics import mean_squared_error\n",
    "accuracy=mean_squared_error(y_test,y_pred)\n",
    "print(accuracy*100,'%')"
   ]
  },
  {
   "cell_type": "code",
   "execution_count": 25,
   "id": "34eea524",
   "metadata": {},
   "outputs": [
    {
     "name": "stdout",
     "output_type": "stream",
     "text": [
      "874446.820235697 %\n"
     ]
    }
   ],
   "source": [
    "from sklearn.metrics import mean_absolute_error\n",
    "accuracy=mean_absolute_error(y_test, y_pred)\n",
    "print(accuracy*100,'%')"
   ]
  },
  {
   "cell_type": "code",
   "execution_count": 26,
   "id": "7b039317",
   "metadata": {},
   "outputs": [
    {
     "name": "stdout",
     "output_type": "stream",
     "text": [
      "104.7238585251961 %\n"
     ]
    }
   ],
   "source": [
    "from sklearn.metrics import mean_absolute_percentage_error\n",
    "accuracy=mean_absolute_percentage_error(y_test,y_pred)\n",
    "print(accuracy*100,'%')"
   ]
  },
  {
   "cell_type": "markdown",
   "id": "cd5022f5",
   "metadata": {},
   "source": [
    "#Adj r2 = 1-(1-R2)*(n-1)/(n-p-1)"
   ]
  },
  {
   "cell_type": "code",
   "execution_count": 27,
   "id": "07c3c2a5",
   "metadata": {},
   "outputs": [
    {
     "data": {
      "text/plain": [
       "1338"
      ]
     },
     "execution_count": 27,
     "metadata": {},
     "output_type": "execute_result"
    }
   ],
   "source": [
    "len(dataset)\n"
   ]
  },
  {
   "cell_type": "code",
   "execution_count": 71,
   "id": "d1c1203f",
   "metadata": {},
   "outputs": [
    {
     "name": "stdout",
     "output_type": "stream",
     "text": [
      "-9.831405101275319\n"
     ]
    }
   ],
   "source": [
    "adj_r2=1-(1-(-9.799))*(1338-1)/(1338-5)\n",
    "print(adj_r2)"
   ]
  },
  {
   "cell_type": "code",
   "execution_count": null,
   "id": "bd55a298",
   "metadata": {},
   "outputs": [],
   "source": [
    "import pickle\n",
    "filename='decision_final.sav'\n",
    "pickle.dump(r,open(filename,\"wb\"))"
   ]
  },
  {
   "cell_type": "code",
   "execution_count": null,
   "id": "98018b92",
   "metadata": {},
   "outputs": [],
   "source": [
    "model=pickle.load(open(filename,\"rb\"))"
   ]
  },
  {
   "cell_type": "code",
   "execution_count": null,
   "id": "06ae274c",
   "metadata": {},
   "outputs": [],
   "source": [
    "age_input=float(input(\"Age:\"))\n",
    "bmi_input=float(input(\"BMI:\"))\n",
    "children_input=float(input(\"Children:\"))\n",
    "sex_male_input=int(input(\"Sex Male 0 or 1:\"))\n",
    "smoker_yes_input=int(input(\"Smoker Yes 0 or 1:\"))"
   ]
  },
  {
   "cell_type": "code",
   "execution_count": null,
   "id": "f402deb5",
   "metadata": {},
   "outputs": [],
   "source": [
    "Future_Prediction=r.predict([[age_input,bmi_input,children_input,sex_male_input,smoker_yes_input]])\n",
    "print(\"Future_Prediction={}\".format(Future_Prediction))\n"
   ]
  },
  {
   "cell_type": "code",
   "execution_count": null,
   "id": "ea49b6d5",
   "metadata": {},
   "outputs": [],
   "source": []
  },
  {
   "cell_type": "code",
   "execution_count": null,
   "id": "4a76efce",
   "metadata": {},
   "outputs": [],
   "source": []
  }
 ],
 "metadata": {
  "kernelspec": {
   "display_name": "Python 3 (ipykernel)",
   "language": "python",
   "name": "python3"
  },
  "language_info": {
   "codemirror_mode": {
    "name": "ipython",
    "version": 3
   },
   "file_extension": ".py",
   "mimetype": "text/x-python",
   "name": "python",
   "nbconvert_exporter": "python",
   "pygments_lexer": "ipython3",
   "version": "3.7.6"
  }
 },
 "nbformat": 4,
 "nbformat_minor": 5
}
