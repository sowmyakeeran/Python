{
 "cells": [
  {
   "cell_type": "code",
   "execution_count": 2,
   "id": "e8116a57",
   "metadata": {},
   "outputs": [
    {
     "name": "stdout",
     "output_type": "stream",
     "text": [
      "test\n"
     ]
    }
   ],
   "source": [
    "print('test')"
   ]
  },
  {
   "cell_type": "code",
   "execution_count": 1,
   "id": "32b9bc11",
   "metadata": {},
   "outputs": [
    {
     "name": "stdout",
     "output_type": "stream",
     "text": [
      "enter the age56\n",
      "citizen\n"
     ]
    }
   ],
   "source": [
    "age=int(input(\"enter the age\"))\n",
    "if(age<=18):\n",
    "    print('children')\n",
    "elif(age<=35):\n",
    "    print(\"adult\")\n",
    "elif(age<=59):\n",
    "    print(\"citizen\")\n",
    "else:\n",
    "    print(\"senior citizen\")\n",
    "    "
   ]
  },
  {
   "cell_type": "markdown",
   "id": "e09b0a2a",
   "metadata": {},
   "source": [
    "  #Hello World\n",
    "  "
   ]
  },
  {
   "cell_type": "code",
   "execution_count": 2,
   "id": "558fb1ea",
   "metadata": {},
   "outputs": [
    {
     "name": "stdout",
     "output_type": "stream",
     "text": [
      "Hello World\n"
     ]
    }
   ],
   "source": [
    "print(\"Hello World\")\n"
   ]
  },
  {
   "cell_type": "markdown",
   "id": "8b75cd2c",
   "metadata": {},
   "source": [
    "#Enter your name\n"
   ]
  },
  {
   "cell_type": "code",
   "execution_count": null,
   "id": "d4995b87",
   "metadata": {},
   "outputs": [],
   "source": [
    "name=input(\"enter the name:\")\n",
    "\n",
    "print(\"welcome to Artificial Intelligence\")\n"
   ]
  },
  {
   "cell_type": "code",
   "execution_count": null,
   "id": "15881aef",
   "metadata": {},
   "outputs": [],
   "source": [
    "print(\"welcome to Artificial Intelligence\")"
   ]
  },
  {
   "cell_type": "code",
   "execution_count": 3,
   "id": "48f829ee",
   "metadata": {},
   "outputs": [
    {
     "name": "stdout",
     "output_type": "stream",
     "text": [
      "<class 'dict'>\n"
     ]
    }
   ],
   "source": [
    "x={\"Name\":\"sowmya\",\"age\":36}\n",
    "\n",
    "\n",
    "print(type(x))\n",
    "\n"
   ]
  },
  {
   "cell_type": "code",
   "execution_count": 1,
   "id": "a2b4c924",
   "metadata": {},
   "outputs": [
    {
     "name": "stdout",
     "output_type": "stream",
     "text": [
      "hello\n"
     ]
    }
   ],
   "source": [
    "print(\"hello\")\n",
    "\n"
   ]
  },
  {
   "cell_type": "code",
   "execution_count": 5,
   "id": "ee403cd7",
   "metadata": {},
   "outputs": [
    {
     "name": "stdout",
     "output_type": "stream",
     "text": [
      "enter the namesowmya\n",
      "enter the age34\n",
      "welcome to artifical intelligence\n"
     ]
    }
   ],
   "source": [
    "name=input(\"enter the name\")\n",
    "age=input(\"enter the age\")\n",
    "\n",
    "print(\"welcome to artifical intelligence\")\n"
   ]
  },
  {
   "cell_type": "code",
   "execution_count": 15,
   "id": "90866a00",
   "metadata": {},
   "outputs": [
    {
     "name": "stdout",
     "output_type": "stream",
     "text": [
      "enter the x value:23\n",
      "enter the y value:23\n",
      "46\n"
     ]
    }
   ],
   "source": [
    "x=int(input('enter the x value:'))\n",
    "y=int(input('enter the y value:'))\n",
    "\n",
    "add=x + y\n",
    "print(add)\n",
    "\n",
    "\n",
    "\n",
    "\n"
   ]
  },
  {
   "cell_type": "markdown",
   "id": "c4d8f097",
   "metadata": {},
   "source": [
    "//\n",
    "Arithmetic operation\n",
    "\n",
    "\n"
   ]
  },
  {
   "cell_type": "code",
   "execution_count": 16,
   "id": "1067014d",
   "metadata": {},
   "outputs": [
    {
     "name": "stdout",
     "output_type": "stream",
     "text": [
      "enter the x value28\n",
      "enter the y value13\n",
      "41\n",
      "15\n",
      "364\n",
      "2.1538461538461537\n"
     ]
    }
   ],
   "source": [
    "x=int(input('enter the x value'))\n",
    "y=int(input('enter the y value'))\n",
    "add=x+y\n",
    "print(add)\n",
    "sub=x-y\n",
    "print(sub)\n",
    "mul=x*y\n",
    "print(mul)\n",
    "div=x/y\n",
    "print(div)\n"
   ]
  },
  {
   "cell_type": "markdown",
   "id": "286ddf47",
   "metadata": {},
   "source": [
    "//Exponential(power)2**3=8,10**3=1000//\n",
    "\n"
   ]
  },
  {
   "cell_type": "code",
   "execution_count": 23,
   "id": "1c4a58e1",
   "metadata": {},
   "outputs": [
    {
     "name": "stdout",
     "output_type": "stream",
     "text": [
      "enter any number:2\n",
      "enter the exponent:3\n",
      "8\n"
     ]
    }
   ],
   "source": [
    "a=int(input(\"enter any number:\"))\n",
    "expo=int(input(\"enter the exponent:\"))\n",
    "        \n",
    "print(a**expo)\n",
    "         \n",
    "         \n"
   ]
  },
  {
   "cell_type": "markdown",
   "id": "7c4cfb81",
   "metadata": {},
   "source": [
    "//floor division// a//b"
   ]
  },
  {
   "cell_type": "code",
   "execution_count": 26,
   "id": "ad87f398",
   "metadata": {},
   "outputs": [
    {
     "name": "stdout",
     "output_type": "stream",
     "text": [
      "enter any number:31\n",
      "enter any number:6\n",
      "5.0\n"
     ]
    }
   ],
   "source": [
    "a=float(input(\"enter any number:\"))\n",
    "b=float(input(\"enter any number:\"))\n",
    "floor=a//b\n",
    "print(floor)\n"
   ]
  },
  {
   "cell_type": "markdown",
   "id": "41d1a05d",
   "metadata": {},
   "source": [
    "//equal// ==,!= //check wh\n"
   ]
  },
  {
   "cell_type": "code",
   "execution_count": null,
   "id": "3b0747be",
   "metadata": {},
   "outputs": [],
   "source": []
  }
 ],
 "metadata": {
  "kernelspec": {
   "display_name": "Python 3 (ipykernel)",
   "language": "python",
   "name": "python3"
  },
  "language_info": {
   "codemirror_mode": {
    "name": "ipython",
    "version": 3
   },
   "file_extension": ".py",
   "mimetype": "text/x-python",
   "name": "python",
   "nbconvert_exporter": "python",
   "pygments_lexer": "ipython3",
   "version": "3.9.12"
  }
 },
 "nbformat": 4,
 "nbformat_minor": 5
}
